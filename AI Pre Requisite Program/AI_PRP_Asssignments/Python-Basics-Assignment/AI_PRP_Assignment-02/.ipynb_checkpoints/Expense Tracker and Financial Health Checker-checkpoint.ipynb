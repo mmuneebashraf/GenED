{
 "cells": [
  {
   "cell_type": "markdown",
   "id": "02e11a0d",
   "metadata": {},
   "source": [
    "# User Profile Setup:"
   ]
  },
  {
   "cell_type": "code",
   "execution_count": 2,
   "id": "b49e2e10",
   "metadata": {},
   "outputs": [
    {
     "name": "stdout",
     "output_type": "stream",
     "text": [
      "Enter Your Name : Muhammad Muneeb Ashraf\n",
      "Enter your profession : Data Analyst\n",
      "Welcome, Muhammad Muneeb Ashraf! Let's analyze your financial health as a Data Analyst.\n"
     ]
    }
   ],
   "source": [
    "userName = input(\"Enter Your Name : \")\n",
    "userProfession = input(\"Enter your profession : \")\n",
    "\n",
    "print(f\"Welcome, {userName}! Let's analyze your financial health as a {userProfession}.\")"
   ]
  },
  {
   "cell_type": "markdown",
   "id": "39f8d91c",
   "metadata": {},
   "source": [
    "# Income and Expense Management"
   ]
  },
  {
   "cell_type": "code",
   "execution_count": 8,
   "id": "c84552e6",
   "metadata": {},
   "outputs": [
    {
     "name": "stdout",
     "output_type": "stream",
     "text": [
      "Monthly Income : 5\n",
      "Monthly Expenses : 2\n",
      "Total Savings: 3 \n",
      "Savings Percentage: 60.0%\n"
     ]
    }
   ],
   "source": [
    "userMonthlyIncome = int(input(\"Monthly Income : \"))\n",
    "userMonthlyExpenses = int(input(\"Monthly Expenses : \"))\n",
    "\n",
    "userMonthlySavings = userMonthlyIncome - userMonthlyExpenses\n",
    "userSavingsInPercentage = userMonthlySavings/userMonthlyIncome*100\n",
    "print(f\"Total Savings: {userMonthlySavings} \\nSavings Percentage: {userSavingsInPercentage}%\")"
   ]
  },
  {
   "cell_type": "code",
   "execution_count": null,
   "id": "8d3656a8",
   "metadata": {},
   "outputs": [],
   "source": []
  }
 ],
 "metadata": {
  "kernelspec": {
   "display_name": "Python 3 (ipykernel)",
   "language": "python",
   "name": "python3"
  },
  "language_info": {
   "codemirror_mode": {
    "name": "ipython",
    "version": 3
   },
   "file_extension": ".py",
   "mimetype": "text/x-python",
   "name": "python",
   "nbconvert_exporter": "python",
   "pygments_lexer": "ipython3",
   "version": "3.11.4"
  }
 },
 "nbformat": 4,
 "nbformat_minor": 5
}
