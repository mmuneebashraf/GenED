{
 "cells": [
  {
   "cell_type": "markdown",
   "id": "02e11a0d",
   "metadata": {},
   "source": [
    "# User Profile Setup:"
   ]
  },
  {
   "cell_type": "code",
   "execution_count": 2,
   "id": "b49e2e10",
   "metadata": {},
   "outputs": [
    {
     "name": "stdout",
     "output_type": "stream",
     "text": [
      "Enter Your Name : Muhammad Muneeb Ashraf\n",
      "Enter your profession : Data Analyst\n",
      "Welcome, Muhammad Muneeb Ashraf! Let's analyze your financial health as a Data Analyst.\n"
     ]
    }
   ],
   "source": [
    "userName = input(\"Enter Your Name : \")\n",
    "userProfession = input(\"Enter your profession : \")\n",
    "\n",
    "print(f\"Welcome, {userName}! Let's analyze your financial health as a {userProfession}.\")"
   ]
  },
  {
   "cell_type": "markdown",
   "id": "39f8d91c",
   "metadata": {},
   "source": [
    "# Income and Expense Management"
   ]
  },
  {
   "cell_type": "code",
   "execution_count": 50,
   "id": "c84552e6",
   "metadata": {},
   "outputs": [
    {
     "name": "stdout",
     "output_type": "stream",
     "text": [
      "Monthly Income : 10000\n",
      "Monthly Expenses : 6000\n",
      "Total Savings: 4000.0 \n",
      "Savings Percentage: 40.0%\n"
     ]
    }
   ],
   "source": [
    "userMonthlyIncome = float(input(\"Monthly Income : \"))\n",
    "userMonthlyExpenses = float(input(\"Monthly Expenses : \"))\n",
    "\n",
    "userMonthlySavings = userMonthlyIncome - userMonthlyExpenses\n",
    "\n",
    "userSavingsInPercentage = userMonthlySavings/userMonthlyIncome*100\n",
    "\n",
    "print(f\"Total Savings: {userMonthlySavings} \\nSavings Percentage: {userSavingsInPercentage}%\")\n"
   ]
  },
  {
   "cell_type": "markdown",
   "id": "656becf2",
   "metadata": {},
   "source": [
    "# Financial Health Check"
   ]
  },
  {
   "cell_type": "code",
   "execution_count": 48,
   "id": "7af535b8",
   "metadata": {},
   "outputs": [
    {
     "name": "stdout",
     "output_type": "stream",
     "text": [
      "Warning Warning , Muhammad Muneeb Ashraf: Your savings are in -ve. Your Expences are more Then Your Income Kindly Consider to cut down Your expenses!\n"
     ]
    }
   ],
   "source": [
    "if userSavingsInPercentage >=0:\n",
    "    \n",
    "    if userSavingsInPercentage > 10:\n",
    "        \n",
    "        \n",
    "        if userSavingsInPercentage >=20 and userSavingsInPercentage <=100:\n",
    "            print(f\"Great job, {userName}! You have a strong savings habit.\")\n",
    "            \n",
    "            \n",
    "        else:\n",
    "            print(f\"Good, {userName}, but you could save a bit more.\")\n",
    "    \n",
    "    else:\n",
    "        print(f\"Warning, {userName}: Your savings are too low. Consider cutting expenses!\")\n",
    "        \n",
    "            \n",
    "else:\n",
    "    print(f\"{'Warning ' * 2}, {userName}: Your savings are in -ve. Your Expences are more Then Your Income Kindly Consider to cut down Your expenses!\")\n"
   ]
  },
  {
   "cell_type": "markdown",
   "id": "486ca222",
   "metadata": {},
   "source": [
    "# Categorize Expenses:"
   ]
  },
  {
   "cell_type": "code",
   "execution_count": 63,
   "id": "444285b1",
   "metadata": {},
   "outputs": [
    {
     "name": "stdout",
     "output_type": "stream",
     "text": [
      "How much do you spend on Essentials? 2000\n",
      "How much do you spend on Wants? 1500\n",
      "How much do you save or invest? 2500\n",
      "\n",
      "Expense Breakdown: \n",
      "Essentials: 33.33333333333333%\n",
      "Wants: 25.0%\n",
      "Savings/Investments: 41.66666666666667%\n",
      "\n"
     ]
    }
   ],
   "source": [
    "userEssentialsExpences = float(input(\"How much do you spend on Essentials? \"))\n",
    "userWantsExpences = float(input(\"How much do you spend on Wants? \"))\n",
    "userInvestments = float(input(\"How much do you save or invest? \"))\n",
    "\n",
    "\n",
    "print(f\"\"\"\n",
    "Expense Breakdown: \n",
    "Essentials: {userEssentialsExpences/userMonthlyExpenses*100}%\n",
    "Wants: {userWantsExpences/userMonthlyExpenses*100}%\n",
    "Savings/Investments: {userInvestments/userMonthlyExpenses*100}%\n",
    "\"\"\")"
   ]
  },
  {
   "cell_type": "markdown",
   "id": "5c654a3a",
   "metadata": {},
   "source": [
    "# Custom Goals"
   ]
  },
  {
   "cell_type": "code",
   "execution_count": 69,
   "id": "db98a49e",
   "metadata": {},
   "outputs": [
    {
     "name": "stdout",
     "output_type": "stream",
     "text": [
      "What is your savings goal (in %)? 40\n",
      "\n",
      "Your savings percentage is 40.0%.\n",
      "Congratulations, Muhammad Muneeb Ashraf! You’ve achieved your savings goal.\n"
     ]
    }
   ],
   "source": [
    "userSavingGoal = float(input(\"What is your savings goal (in %)? \"))\n",
    "\n",
    "print(f\"\\nYour savings percentage is {userSavingsInPercentage}%.\")\n",
    "\n",
    "if userSavingsInPercentage >= userSavingGoal:\n",
    "    print(f\"Congratulations, {userName}! You’ve achieved your savings goal.\")\n",
    "\n",
    "else:\n",
    "    print(f\"Keep working on your savings, {userName}. You're {userSavingGoal-userSavingsInPercentage}% away from your goal.\")"
   ]
  },
  {
   "cell_type": "markdown",
   "id": "7ac09a1e",
   "metadata": {},
   "source": [
    "# Export Summary (Bonus Feature)"
   ]
  },
  {
   "cell_type": "code",
   "execution_count": null,
   "id": "20678955",
   "metadata": {},
   "outputs": [],
   "source": [
    "print(f\"\"\"\n",
    "Financial Health Summary for {userName}:\n",
    "Income: {userMonthlyIncome}\n",
    "Expenses: {userMonthlyExpenses}\n",
    "Savings: {userMonthlySavings} ({userSavingsInPercentage}%)\n",
    "Expense Breakdown:\n",
    "Essentials: {userEssentialsExpences/userMonthlyExpenses*100}%\n",
    "Wants: {userWantsExpences/userMonthlyExpenses*100}%\n",
    "Savings/Investments: {userInvestments/userMonthlyExpenses*100}%\n",
    "Savings Goal: {userSavingGoal}%\n",
    "Status: 5% away from your goal.\n",
    "\"\"\")"
   ]
  }
 ],
 "metadata": {
  "kernelspec": {
   "display_name": "Python 3 (ipykernel)",
   "language": "python",
   "name": "python3"
  },
  "language_info": {
   "codemirror_mode": {
    "name": "ipython",
    "version": 3
   },
   "file_extension": ".py",
   "mimetype": "text/x-python",
   "name": "python",
   "nbconvert_exporter": "python",
   "pygments_lexer": "ipython3",
   "version": "3.11.4"
  }
 },
 "nbformat": 4,
 "nbformat_minor": 5
}
