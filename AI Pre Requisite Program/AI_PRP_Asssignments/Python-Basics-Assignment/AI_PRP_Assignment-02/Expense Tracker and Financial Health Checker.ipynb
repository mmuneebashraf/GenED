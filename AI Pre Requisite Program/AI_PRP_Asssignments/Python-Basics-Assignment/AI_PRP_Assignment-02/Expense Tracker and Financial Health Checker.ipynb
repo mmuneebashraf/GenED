{
 "cells": [
  {
   "cell_type": "code",
   "execution_count": null,
   "id": "3d74663e",
   "metadata": {},
   "outputs": [
    {
     "name": "stdout",
     "output_type": "stream",
     "text": [
      "Enter Your Name : Muhammad Muneeb Ashraf\n"
     ]
    }
   ],
   "source": [
    "userName = input(\"Enter Your Name : \")\n",
    "userProfession = input(\"Enter your profession : \")\n",
    "\n",
    "pritn(f\"Welcome, {userName}! Let's analyze your financial health as a {userProfession}.\")"
   ]
  },
  {
   "cell_type": "code",
   "execution_count": null,
   "id": "83e36593",
   "metadata": {},
   "outputs": [],
   "source": []
  }
 ],
 "metadata": {
  "kernelspec": {
   "display_name": "Python 3 (ipykernel)",
   "language": "python",
   "name": "python3"
  },
  "language_info": {
   "codemirror_mode": {
    "name": "ipython",
    "version": 3
   },
   "file_extension": ".py",
   "mimetype": "text/x-python",
   "name": "python",
   "nbconvert_exporter": "python",
   "pygments_lexer": "ipython3",
   "version": "3.11.4"
  }
 },
 "nbformat": 4,
 "nbformat_minor": 5
}
