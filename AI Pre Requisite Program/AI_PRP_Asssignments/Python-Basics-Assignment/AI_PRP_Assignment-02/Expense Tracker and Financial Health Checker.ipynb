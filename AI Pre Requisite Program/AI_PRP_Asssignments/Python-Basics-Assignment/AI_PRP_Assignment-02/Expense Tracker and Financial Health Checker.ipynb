{
 "cells": [
  {
   "cell_type": "markdown",
   "id": "02e11a0d",
   "metadata": {},
   "source": [
    "# User Profile Setup:"
   ]
  },
  {
   "cell_type": "code",
   "execution_count": 1,
   "id": "b49e2e10",
   "metadata": {},
   "outputs": [
    {
     "name": "stdout",
     "output_type": "stream",
     "text": [
      "Enter Your Name : Muhammad Muneeb Ashraf\n",
      "Enter your profession : Data Analyst\n",
      "\n",
      "Welcome, Muhammad Muneeb Ashraf! Let's analyze your financial health as a Data Analyst.\n"
     ]
    }
   ],
   "source": [
    "userName = input(\"Enter Your Name : \")\n",
    "userProfession = input(\"Enter your profession : \")\n",
    "\n",
    "print(f\"\\nWelcome, {userName}! Let's analyze your financial health as a {userProfession}.\")"
   ]
  },
  {
   "cell_type": "markdown",
   "id": "39f8d91c",
   "metadata": {},
   "source": [
    "# Income and Expense Management"
   ]
  },
  {
   "cell_type": "code",
   "execution_count": 2,
   "id": "c84552e6",
   "metadata": {},
   "outputs": [
    {
     "name": "stdout",
     "output_type": "stream",
     "text": [
      "Monthly Income : 100000\n",
      "Monthly Expenses : 55000\n",
      "\n",
      "Total Savings: 45000.0 \n",
      "Savings Percentage: 45.0%\n"
     ]
    }
   ],
   "source": [
    "userMonthlyIncome = float(input(\"Monthly Income : \"))\n",
    "userMonthlyExpenses = float(input(\"Monthly Expenses : \"))\n",
    "\n",
    "userMonthlySavings = userMonthlyIncome - userMonthlyExpenses\n",
    "\n",
    "userSavingsInPercentage = userMonthlySavings/userMonthlyIncome*100\n",
    "\n",
    "print(f\"\\nTotal Savings: {userMonthlySavings} \\nSavings Percentage: {userSavingsInPercentage}%\")\n"
   ]
  },
  {
   "cell_type": "markdown",
   "id": "aecd59a4",
   "metadata": {},
   "source": [
    "# Financial Health Check"
   ]
  },
  {
   "cell_type": "code",
   "execution_count": 3,
   "id": "c70c8a3c",
   "metadata": {},
   "outputs": [
    {
     "name": "stdout",
     "output_type": "stream",
     "text": [
      "Great job, Muhammad Muneeb Ashraf! You have a strong savings habit.\n"
     ]
    }
   ],
   "source": [
    "if userSavingsInPercentage >=0:\n",
    "    \n",
    "    if userSavingsInPercentage > 10:\n",
    "        \n",
    "        \n",
    "        if userSavingsInPercentage >=20 and userSavingsInPercentage <=100:\n",
    "            print(f\"Great job, {userName}! You have a strong savings habit.\")\n",
    "            \n",
    "            \n",
    "        else:\n",
    "            print(f\"Good, {userName}, but you could save a bit more.\")\n",
    "    \n",
    "    else:\n",
    "        print(f\"Warning, {userName}: Your savings are too low. Consider cutting expenses!\")\n",
    "        \n",
    "            \n",
    "else:\n",
    "    print(f\"{'Warning ' * 2}, {userName}: Your savings are in -ve. Your Expences are more Then Your Income Kindly Consider to cut down Your expenses!\")\n"
   ]
  },
  {
   "cell_type": "markdown",
   "id": "480dc6b6",
   "metadata": {},
   "source": [
    "# Categorize Expenses:"
   ]
  },
  {
   "cell_type": "code",
   "execution_count": 4,
   "id": "a0d624b4",
   "metadata": {},
   "outputs": [
    {
     "name": "stdout",
     "output_type": "stream",
     "text": [
      "How much do you spend on Essentials? 35000\n",
      "How much do you spend on Wants? 20000\n",
      "How much do you save or invest? 30000\n",
      "\n",
      "Expense Breakdown: \n",
      "Essentials: 63.63636363636363%\n",
      "Wants: 36.36363636363637%\n",
      "Savings/Investments: 66.66666666666666%\n",
      "\n"
     ]
    }
   ],
   "source": [
    "userEssentialsExpences = float(input(\"How much do you spend on Essentials? \"))\n",
    "userWantsExpences = float(input(\"How much do you spend on Wants? \"))\n",
    "userInvestments = float(input(\"How much do you save or invest? \"))\n",
    "\n",
    "\n",
    "print(f\"\"\"\n",
    "Expense Breakdown: \n",
    "Essentials: {userEssentialsExpences/userMonthlyExpenses*100}%\n",
    "Wants: {userWantsExpences/userMonthlyExpenses*100}%\n",
    "Savings/Investments: {userInvestments/userMonthlySavings*100}%\n",
    "\"\"\")"
   ]
  },
  {
   "cell_type": "markdown",
   "id": "040e3d6e",
   "metadata": {},
   "source": [
    "# Custom Goals"
   ]
  },
  {
   "cell_type": "code",
   "execution_count": 5,
   "id": "f7a57c0e",
   "metadata": {},
   "outputs": [
    {
     "name": "stdout",
     "output_type": "stream",
     "text": [
      "What is your savings goal (in %)? 60\n",
      "\n",
      "Your savings percentage is 45.0%.\n",
      "Keep working on your savings, Muhammad Muneeb Ashraf. You're 15.0% away from your goal.\n"
     ]
    }
   ],
   "source": [
    "userSavingGoal = float(input(\"What is your savings goal (in %)? \"))\n",
    "\n",
    "print(f\"\\nYour savings percentage is {userSavingsInPercentage}%.\")\n",
    "\n",
    "if userSavingsInPercentage >= userSavingGoal:\n",
    "    print(f\"Congratulations, {userName}! You’ve achieved your savings goal.\")\n",
    "\n",
    "else:\n",
    "    print(f\"Keep working on your savings, {userName}. You're {userSavingGoal-userSavingsInPercentage}% away from your goal.\")"
   ]
  },
  {
   "cell_type": "markdown",
   "id": "430f7048",
   "metadata": {},
   "source": [
    "# Export Summary (Bonus Feature)"
   ]
  },
  {
   "cell_type": "code",
   "execution_count": 6,
   "id": "d222fb83",
   "metadata": {},
   "outputs": [
    {
     "name": "stdout",
     "output_type": "stream",
     "text": [
      "\n",
      "Financial Health Summary for Muhammad Muneeb Ashraf:\n",
      "Income: 100000.0\n",
      "Expenses: 55000.0\n",
      "Savings: 45000.0 (45.0%)\n",
      "Expense Breakdown:\n",
      "Essentials: 63.63636363636363%\n",
      "Wants: 36.36363636363637%\n",
      "Savings/Investments: 54.54545454545454%\n",
      "Savings Goal: 60.0%\n",
      "Status: 15.0% away from your goal.\n",
      "\n"
     ]
    }
   ],
   "source": [
    "print(f\"\"\"\n",
    "Financial Health Summary for {userName}:\n",
    "Income: {userMonthlyIncome}\n",
    "Expenses: {userMonthlyExpenses}\n",
    "Savings: {userMonthlySavings} ({userSavingsInPercentage}%)\n",
    "Expense Breakdown:\n",
    "Essentials: {userEssentialsExpences/userMonthlyExpenses*100}%\n",
    "Wants: {userWantsExpences/userMonthlyExpenses*100}%\n",
    "Savings/Investments: {userInvestments/userMonthlyExpenses*100}%\n",
    "Savings Goal: {userSavingGoal}%\n",
    "Status: {userSavingGoal-userSavingsInPercentage}% away from your goal.\n",
    "\"\"\")"
   ]
  },
  {
   "cell_type": "code",
   "execution_count": null,
   "id": "b58bdafc",
   "metadata": {},
   "outputs": [],
   "source": []
  }
 ],
 "metadata": {
  "kernelspec": {
   "display_name": "Python 3 (ipykernel)",
   "language": "python",
   "name": "python3"
  },
  "language_info": {
   "codemirror_mode": {
    "name": "ipython",
    "version": 3
   },
   "file_extension": ".py",
   "mimetype": "text/x-python",
   "name": "python",
   "nbconvert_exporter": "python",
   "pygments_lexer": "ipython3",
   "version": "3.11.4"
  }
 },
 "nbformat": 4,
 "nbformat_minor": 5
}
