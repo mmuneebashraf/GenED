{
 "cells": [
  {
   "cell_type": "code",
   "execution_count": 2,
   "id": "92133c7c",
   "metadata": {},
   "outputs": [
    {
     "name": "stdout",
     "output_type": "stream",
     "text": [
      "Enter Your Name : Muhammad Muneeb Ashraf\n",
      "Enter your profession : Data Analyst\n",
      "Welcome, Muhammad Muneeb Ashraf! Let's analyze your financial health as a Data Analyst.\n"
     ]
    }
   ],
   "source": [
    "userName = input(\"Enter Your Name : \")\n",
    "userProfession = input(\"Enter your profession : \")\n",
    "\n",
    "print(f\"Welcome, {userName}! Let's analyze your financial health as a {userProfession}.\")"
   ]
  },
  {
   "cell_type": "code",
   "execution_count": null,
   "id": "be692015",
   "metadata": {},
   "outputs": [],
   "source": []
  }
 ],
 "metadata": {
  "kernelspec": {
   "display_name": "Python 3 (ipykernel)",
   "language": "python",
   "name": "python3"
  },
  "language_info": {
   "codemirror_mode": {
    "name": "ipython",
    "version": 3
   },
   "file_extension": ".py",
   "mimetype": "text/x-python",
   "name": "python",
   "nbconvert_exporter": "python",
   "pygments_lexer": "ipython3",
   "version": "3.11.4"
  }
 },
 "nbformat": 4,
 "nbformat_minor": 5
}
