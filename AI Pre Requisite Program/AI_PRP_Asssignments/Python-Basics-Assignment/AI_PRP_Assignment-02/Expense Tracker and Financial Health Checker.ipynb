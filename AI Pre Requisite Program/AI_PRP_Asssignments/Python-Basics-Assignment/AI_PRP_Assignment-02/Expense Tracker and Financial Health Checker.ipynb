{
 "cells": [
  {
   "cell_type": "markdown",
   "id": "f620cb38",
   "metadata": {},
   "source": [
    "# User Profile Setup:"
   ]
  },
  {
   "cell_type": "code",
   "execution_count": 2,
   "id": "bbc3a77d",
   "metadata": {},
   "outputs": [
    {
     "name": "stdout",
     "output_type": "stream",
     "text": [
      "Enter Your Name : Muhammad Muneeb Ashraf\n",
      "Enter your profession : Data Analyst\n",
      "Welcome, Muhammad Muneeb Ashraf! Let's analyze your financial health as a Data Analyst.\n"
     ]
    }
   ],
   "source": [
    "userName = input(\"Enter Your Name : \")\n",
    "userProfession = input(\"Enter your profession : \")\n",
    "\n",
    "print(f\"Welcome, {userName}! Let's analyze your financial health as a {userProfession}.\")"
   ]
  },
  {
   "cell_type": "markdown",
   "id": "865b751b",
   "metadata": {},
   "source": [
    "# Income and Expense Management"
   ]
  },
  {
   "cell_type": "code",
   "execution_count": 5,
   "id": "97a92de4",
   "metadata": {},
   "outputs": [
    {
     "name": "stdout",
     "output_type": "stream",
     "text": [
      "Monthly Income : 5\n",
      "Monthly Expenses : 2\n",
      "Total Savings: 3 \n",
      "Savings Percentage: 60.0%\n"
     ]
    }
   ],
   "source": [
    "userMonthlyIncome = int(input(\"Monthly Income : \"))\n",
    "userMonthlyExpenses = int(input(\"Monthly Expenses : \"))\n",
    "\n",
    "userMonthlySavings = userMonthlyIncome - userMonthlyExpenses\n",
    "\n",
    "print(f\"Total Savings: {userMonthlySavings} \\nSavings Percentage: {userMonthlySavings/userMonthlyIncome*100}%\")"
   ]
  },
  {
   "cell_type": "code",
   "execution_count": null,
   "id": "dfa0c9c9",
   "metadata": {},
   "outputs": [],
   "source": []
  }
 ],
 "metadata": {
  "kernelspec": {
   "display_name": "Python 3 (ipykernel)",
   "language": "python",
   "name": "python3"
  },
  "language_info": {
   "codemirror_mode": {
    "name": "ipython",
    "version": 3
   },
   "file_extension": ".py",
   "mimetype": "text/x-python",
   "name": "python",
   "nbconvert_exporter": "python",
   "pygments_lexer": "ipython3",
   "version": "3.11.4"
  }
 },
 "nbformat": 4,
 "nbformat_minor": 5
}
