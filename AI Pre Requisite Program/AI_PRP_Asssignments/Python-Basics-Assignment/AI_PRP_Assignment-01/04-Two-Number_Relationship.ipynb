{
 "cells": [
  {
   "cell_type": "markdown",
   "id": "ee036fb4",
   "metadata": {},
   "source": [
    "<b>Part 4: Two-Number Relationship</br></br>\n",
    "Problem Statement:</b></br></br>\n",
    "Write a program that:</br>\n",
    "<ol>\n",
    "    <li>Takes two numbers as input.</li>\n",
    "    <li>Checks and displays their relationship using these conditions:\n",
    "        <ul>\n",
    "            <li>Whether the first number is greater than, less than, or equal to the second number.</li>\n",
    "            <li>Whether both numbers are even or odd.</li>\n",
    "        </ul>\n",
    "    </li>\n",
    "</ol>\n",
    "Print the results in this format: </br> \n",
    "Number 1: [num1]</br>\n",
    "Number 2: [num2]</br>\n",
    "Relationship: [Greater than/Less than/Equal]</br>\n",
    "Both numbers are [Even/Odd/Mixed]."
   ]
  },
  {
   "cell_type": "code",
   "execution_count": 2,
   "id": "8a1d90ef",
   "metadata": {},
   "outputs": [
    {
     "name": "stdout",
     "output_type": "stream",
     "text": [
      "Enter First Number : 2\n",
      "Enter Second Number : 5\n",
      "\n",
      "Number 1: 2 \n",
      "Number 2: 5 \n",
      "Relationship:  \n",
      "Both Numbers Are: \n"
     ]
    }
   ],
   "source": [
    "numOne = input(\"Enter First Number : \")\n",
    "numTwo = input(\"Enter Second Number : \")\n",
    "\n",
    "\n",
    "\n",
    "\n",
    "print(f\"\\nNumber 1: {numOne} \\nNumber 2: {numTwo} \\nRelationship:  \\nBoth Numbers Are: \")"
   ]
  },
  {
   "cell_type": "code",
   "execution_count": null,
   "id": "e99e8723",
   "metadata": {},
   "outputs": [],
   "source": []
  }
 ],
 "metadata": {
  "kernelspec": {
   "display_name": "Python 3 (ipykernel)",
   "language": "python",
   "name": "python3"
  },
  "language_info": {
   "codemirror_mode": {
    "name": "ipython",
    "version": 3
   },
   "file_extension": ".py",
   "mimetype": "text/x-python",
   "name": "python",
   "nbconvert_exporter": "python",
   "pygments_lexer": "ipython3",
   "version": "3.11.4"
  }
 },
 "nbformat": 4,
 "nbformat_minor": 5
}
