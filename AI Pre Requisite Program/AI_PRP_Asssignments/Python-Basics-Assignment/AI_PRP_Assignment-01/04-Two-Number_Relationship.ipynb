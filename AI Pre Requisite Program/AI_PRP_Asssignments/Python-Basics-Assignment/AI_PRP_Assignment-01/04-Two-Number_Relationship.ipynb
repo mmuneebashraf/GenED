{
 "cells": [
  {
   "cell_type": "markdown",
   "id": "ee036fb4",
   "metadata": {},
   "source": [
    "<b>Part 4: Two-Number Relationship</br></br>\n",
    "Problem Statement:</b></br></br>\n",
    "Write a program that:</br>\n",
    "<ol>\n",
    "    <li>Takes two numbers as input.</li>\n",
    "    <li>Checks and displays their relationship using these conditions:\n",
    "        <ul>\n",
    "            <li>Whether the first number is greater than, less than, or equal to the second number.</li>\n",
    "            <li>Whether both numbers are even or odd.</li>\n",
    "        </ul>\n",
    "    </li>\n",
    "</ol>\n",
    "Print the results in this format: </br> \n",
    "Number 1: [num1]</br>\n",
    "Number 2: [num2]</br>\n",
    "Relationship: [Greater than/Less than/Equal]</br>\n",
    "Both numbers are [Even/Odd/Mixed]."
   ]
  },
  {
   "cell_type": "code",
   "execution_count": 3,
   "id": "8a1d90ef",
   "metadata": {},
   "outputs": [
    {
     "name": "stdout",
     "output_type": "stream",
     "text": [
      "Enter First Number : 2\n",
      "Enter Second Number : 5\n"
     ]
    },
    {
     "ename": "TypeError",
     "evalue": "not all arguments converted during string formatting",
     "output_type": "error",
     "traceback": [
      "\u001b[1;31m---------------------------------------------------------------------------\u001b[0m",
      "\u001b[1;31mTypeError\u001b[0m                                 Traceback (most recent call last)",
      "Cell \u001b[1;32mIn[3], line 6\u001b[0m\n\u001b[0;32m      1\u001b[0m numOne \u001b[38;5;241m=\u001b[39m \u001b[38;5;28minput\u001b[39m(\u001b[38;5;124m\"\u001b[39m\u001b[38;5;124mEnter First Number : \u001b[39m\u001b[38;5;124m\"\u001b[39m)\n\u001b[0;32m      2\u001b[0m numTwo \u001b[38;5;241m=\u001b[39m \u001b[38;5;28minput\u001b[39m(\u001b[38;5;124m\"\u001b[39m\u001b[38;5;124mEnter Second Number : \u001b[39m\u001b[38;5;124m\"\u001b[39m)\n\u001b[1;32m----> 6\u001b[0m \u001b[38;5;28mprint\u001b[39m(\u001b[38;5;124mf\u001b[39m\u001b[38;5;124m\"\u001b[39m\u001b[38;5;130;01m\\n\u001b[39;00m\u001b[38;5;124mNumber 1: \u001b[39m\u001b[38;5;132;01m{\u001b[39;00mnumOne\u001b[38;5;132;01m}\u001b[39;00m\u001b[38;5;124m \u001b[39m\u001b[38;5;130;01m\\n\u001b[39;00m\u001b[38;5;124mNumber 2: \u001b[39m\u001b[38;5;132;01m{\u001b[39;00mnumTwo\u001b[38;5;132;01m}\u001b[39;00m\u001b[38;5;124m \u001b[39m\u001b[38;5;130;01m\\n\u001b[39;00m\u001b[38;5;124mBoth Numbers Are: \u001b[39m\u001b[38;5;132;01m{\u001b[39;00mnumOne\u001b[38;5;241m%\u001b[39m\u001b[38;5;241m2\u001b[39m\u001b[38;5;250m \u001b[39m\u001b[38;5;132;01m}\u001b[39;00m\u001b[38;5;124m \u001b[39m\u001b[38;5;124m\"\u001b[39m)\n",
      "\u001b[1;31mTypeError\u001b[0m: not all arguments converted during string formatting"
     ]
    }
   ],
   "source": [
    "numOne = input(\"Enter First Number : \")\n",
    "numTwo = input(\"Enter Second Number : \")\n",
    "\n",
    "\n",
    "\n",
    "\n",
    "print(f\"\\nNumber 1: {numOne} \\nNumber 2: {numTwo} \\nBoth Numbers Are: \")"
   ]
  },
  {
   "cell_type": "code",
   "execution_count": null,
   "id": "e99e8723",
   "metadata": {},
   "outputs": [],
   "source": []
  }
 ],
 "metadata": {
  "kernelspec": {
   "display_name": "Python 3 (ipykernel)",
   "language": "python",
   "name": "python3"
  },
  "language_info": {
   "codemirror_mode": {
    "name": "ipython",
    "version": 3
   },
   "file_extension": ".py",
   "mimetype": "text/x-python",
   "name": "python",
   "nbconvert_exporter": "python",
   "pygments_lexer": "ipython3",
   "version": "3.11.4"
  }
 },
 "nbformat": 4,
 "nbformat_minor": 5
}
