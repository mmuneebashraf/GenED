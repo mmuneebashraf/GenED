{
 "cells": [
  {
   "cell_type": "markdown",
   "id": "271cd5ca",
   "metadata": {},
   "source": [
    "<b>Part 1: Temperature Comparison</br></br>\n",
    "Problem Statement:</br></br></b>\n",
    "Write a program that:</br>\n",
    "<li>Takes input for the temperatures of two cities in Celsius.</li>\n",
    "<li>Compares the temperatures using relational operators (>, <, ==, !=).</li>\n",
    "Prints a message like: City A is hotter than City B."
   ]
  },
  {
   "cell_type": "code",
   "execution_count": 1,
   "id": "320f2e3f",
   "metadata": {},
   "outputs": [
    {
     "name": "stdout",
     "output_type": "stream",
     "text": [
      "Enter City_A Temprature in Celsius : 38\n",
      "Enter City_B Temprature in Celsius : 32\n",
      "Is City_A Hotter Than City_B : True\n"
     ]
    }
   ],
   "source": [
    "cityA = int(input(\"Enter City_A Temprature in Celsius : \"))\n",
    "cityB = int(input(\"Enter City_B Temprature in Celsius : \"))\n",
    "\n",
    "print (f\"Is City_A Hotter Than City_B : {cityA>cityB}\")"
   ]
  },
  {
   "cell_type": "code",
   "execution_count": null,
   "id": "87524516",
   "metadata": {},
   "outputs": [],
   "source": []
  }
 ],
 "metadata": {
  "kernelspec": {
   "display_name": "Python 3 (ipykernel)",
   "language": "python",
   "name": "python3"
  },
  "language_info": {
   "codemirror_mode": {
    "name": "ipython",
    "version": 3
   },
   "file_extension": ".py",
   "mimetype": "text/x-python",
   "name": "python",
   "nbconvert_exporter": "python",
   "pygments_lexer": "ipython3",
   "version": "3.11.4"
  }
 },
 "nbformat": 4,
 "nbformat_minor": 5
}
