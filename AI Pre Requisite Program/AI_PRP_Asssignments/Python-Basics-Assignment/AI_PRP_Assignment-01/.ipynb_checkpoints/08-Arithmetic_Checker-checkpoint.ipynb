{
 "cells": [
  {
   "cell_type": "markdown",
   "id": "ff3a3355",
   "metadata": {},
   "source": [
    "<b>Part 8: Arithmetic Checker</br></br>\n",
    "Problem Statement:</b></br>\n",
    "Write a program that:</br>\n",
    "<ol>\n",
    "    <li>Takes two numbers as input.</li>\n",
    "    <li>Prompts the user to input an arithmetic operator (+, -, *, /).</li>\n",
    "</ol>\n",
    "\n",
    "\n",
    "Performs the operation on the numbers and prints the result.</br>\n",
    "[Number1] [Operator] [Number2] = [Result]"
   ]
  },
  {
   "cell_type": "code",
   "execution_count": 1,
   "id": "b73423c2",
   "metadata": {},
   "outputs": [
    {
     "name": "stdout",
     "output_type": "stream",
     "text": [
      "Enter First Number : 2\n",
      "Enter Second Number : 5\n",
      "\n",
      "2 + 5 = 7\n",
      "2 - 5 = -3\n",
      "2 * 5 = 10\n",
      "2 / 5 = 0.4\n"
     ]
    }
   ],
   "source": [
    "numOne = int(input(\"Enter First Number : \"))\n",
    "numTwo = int(input(\"Enter Second Number : \"))\n",
    "\n",
    "print(f\"\\n{numOne} + {numTwo} = {numOne+numTwo}\")\n",
    "print(f\"{numOne} - {numTwo} = {numOne-numTwo}\")\n",
    "print(f\"{numOne} * {numTwo} = {numOne*numTwo}\")\n",
    "print(f\"{numOne} / {numTwo} = {numOne/numTwo}\")"
   ]
  },
  {
   "cell_type": "code",
   "execution_count": null,
   "id": "12849682",
   "metadata": {},
   "outputs": [],
   "source": []
  }
 ],
 "metadata": {
  "kernelspec": {
   "display_name": "Python 3 (ipykernel)",
   "language": "python",
   "name": "python3"
  },
  "language_info": {
   "codemirror_mode": {
    "name": "ipython",
    "version": 3
   },
   "file_extension": ".py",
   "mimetype": "text/x-python",
   "name": "python",
   "nbconvert_exporter": "python",
   "pygments_lexer": "ipython3",
   "version": "3.11.4"
  }
 },
 "nbformat": 4,
 "nbformat_minor": 5
}
