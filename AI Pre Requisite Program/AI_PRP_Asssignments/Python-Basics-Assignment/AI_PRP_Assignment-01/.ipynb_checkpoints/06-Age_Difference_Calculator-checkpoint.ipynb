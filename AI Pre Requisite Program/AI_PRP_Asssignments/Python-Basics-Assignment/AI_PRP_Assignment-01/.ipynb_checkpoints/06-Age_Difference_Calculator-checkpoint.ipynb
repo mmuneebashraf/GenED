{
 "cells": [
  {
   "cell_type": "markdown",
   "id": "07b17835",
   "metadata": {},
   "source": [
    "<b>Part 6: Age Difference Calculator</br></br>\n",
    "Problem Statement: </b></br></br>\n",
    "Write a program that:</br>\n",
    "<ol>\n",
    "    <li>Takes the ages of two people as input.</li>\n",
    "    <li>Calculates the difference in their ages using subtraction.</li>\n",
    "</ol>\n",
    "Prints the result using string formatting:</br>\n",
    "The age difference between [Person1] and [Person2] is: [Difference] years."
   ]
  },
  {
   "cell_type": "code",
   "execution_count": 1,
   "id": "1e80ac85",
   "metadata": {},
   "outputs": [
    {
     "name": "stdout",
     "output_type": "stream",
     "text": [
      "Enter First Person's Name: Muneeb\n",
      "Enter Second Person's Name: Ashraf\n",
      "Enter Muneeb's Age27\n",
      "Enter Ashraf's Age60\n",
      "The Age Difference Between Muneeb and Ashraf is : 33 Years. \n"
     ]
    }
   ],
   "source": [
    "personOneName = input(\"Enter First Person's Name: \")\n",
    "personTwoName = input(\"Enter Second Person's Name: \")\n",
    "\n",
    "personOneAge = int(input(f\"Enter {personOneName}'s Age\"))\n",
    "personTwoAge = int(input(f\"Enter {personTwoName}'s Age\"))\n",
    "\n",
    "print(f\"The Age Difference Between {personOneName} and {personTwoName} is : {abs(personOneAge-personTwoAge)} Years. \")"
   ]
  },
  {
   "cell_type": "code",
   "execution_count": null,
   "id": "1a940ad1",
   "metadata": {},
   "outputs": [],
   "source": []
  }
 ],
 "metadata": {
  "kernelspec": {
   "display_name": "Python 3 (ipykernel)",
   "language": "python",
   "name": "python3"
  },
  "language_info": {
   "codemirror_mode": {
    "name": "ipython",
    "version": 3
   },
   "file_extension": ".py",
   "mimetype": "text/x-python",
   "name": "python",
   "nbconvert_exporter": "python",
   "pygments_lexer": "ipython3",
   "version": "3.11.4"
  }
 },
 "nbformat": 4,
 "nbformat_minor": 5
}
