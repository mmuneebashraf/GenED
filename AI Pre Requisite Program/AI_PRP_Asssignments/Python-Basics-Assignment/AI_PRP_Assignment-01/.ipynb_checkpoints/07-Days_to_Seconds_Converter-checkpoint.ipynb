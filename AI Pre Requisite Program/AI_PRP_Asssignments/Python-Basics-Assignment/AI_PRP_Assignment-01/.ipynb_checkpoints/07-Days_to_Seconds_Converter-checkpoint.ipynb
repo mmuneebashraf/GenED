{
 "cells": [
  {
   "cell_type": "markdown",
   "id": "e19d7588",
   "metadata": {},
   "source": [
    "<b>Part 7: Days to Seconds Converter</br></br>\n",
    "Problem Statement:</b></br>\n",
    "Write a program that:</br>\n",
    "<ol>\n",
    "    <li>Takes the number of days as input.</li>\n",
    "    <li>Converts the input into seconds using this formula:\n",
    "        <l>Seconds=Days×24×60×60</l>\n",
    "    </li>\n",
    "</ol>\n",
    "\n",
    "Prints the result using string formatting:</br>\n",
    "[Days] days are equal to [Seconds] seconds."
   ]
  },
  {
   "cell_type": "code",
   "execution_count": 2,
   "id": "1201abfe",
   "metadata": {},
   "outputs": [
    {
     "name": "stdout",
     "output_type": "stream",
     "text": [
      "Enter Number Of Days : 1\n",
      "1 Days Are Equal to 86400 Seconds.\n"
     ]
    }
   ],
   "source": [
    "numberOfDays = int(input(\"Enter Number Of Days : \"))\n",
    "daysInSeconds = numberOfDays*24*60*60\n",
    "print(f\"{numberOfDays} Days Are Equal to {daysInSeconds} Seconds.\")"
   ]
  },
  {
   "cell_type": "code",
   "execution_count": null,
   "id": "cb9af6a1",
   "metadata": {},
   "outputs": [],
   "source": []
  }
 ],
 "metadata": {
  "kernelspec": {
   "display_name": "Python 3 (ipykernel)",
   "language": "python",
   "name": "python3"
  },
  "language_info": {
   "codemirror_mode": {
    "name": "ipython",
    "version": 3
   },
   "file_extension": ".py",
   "mimetype": "text/x-python",
   "name": "python",
   "nbconvert_exporter": "python",
   "pygments_lexer": "ipython3",
   "version": "3.11.4"
  }
 },
 "nbformat": 4,
 "nbformat_minor": 5
}
