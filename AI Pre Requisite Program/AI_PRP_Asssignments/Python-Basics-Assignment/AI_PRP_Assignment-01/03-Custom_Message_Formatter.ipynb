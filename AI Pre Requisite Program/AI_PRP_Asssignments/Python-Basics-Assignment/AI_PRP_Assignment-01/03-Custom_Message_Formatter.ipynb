{
 "cells": [
  {
   "cell_type": "markdown",
   "id": "2f08d891",
   "metadata": {},
   "source": [
    "<b>Part 3:Custom Message Formatter</br></br>\n",
    "Problem Statement: </b></br>\n",
    "Write a program that takes the following inputs:</br>\n",
    "<li>A name </li>\n",
    "<li>A favorite color </li>\n",
    "<li>A favorite number </li> </br>\n",
    "Use string formatting to display the result:</br>\n",
    "[Name] loves the color [Color] and their favorite number is [Number]."
   ]
  },
  {
   "cell_type": "code",
   "execution_count": 1,
   "id": "2ca3c35e",
   "metadata": {},
   "outputs": [
    {
     "name": "stdout",
     "output_type": "stream",
     "text": [
      "Enter Your Name : Muneeb\n",
      "Enter Your Favorate Color : Black\n",
      "Enetr Your Favorite Number : 3\n",
      "\n",
      "'Muneeb' Loves The Color 'Black' and Their Favorite Number is '3'\n"
     ]
    }
   ],
   "source": [
    "name = input(\"Enter Your Name : \")\n",
    "favoriteColor = input(\"Enter Your Favorate Color : \")\n",
    "favoriteNumber = int(input(\"Enetr Your Favorite Number : \"))\n",
    "\n",
    "print(f\"\\n'{name}' Loves The Color '{favoriteColor}' and Their Favorite Number is '{favoriteNumber}'\")"
   ]
  },
  {
   "cell_type": "code",
   "execution_count": null,
   "id": "b83cb2da",
   "metadata": {},
   "outputs": [],
   "source": []
  }
 ],
 "metadata": {
  "kernelspec": {
   "display_name": "Python 3 (ipykernel)",
   "language": "python",
   "name": "python3"
  },
  "language_info": {
   "codemirror_mode": {
    "name": "ipython",
    "version": 3
   },
   "file_extension": ".py",
   "mimetype": "text/x-python",
   "name": "python",
   "nbconvert_exporter": "python",
   "pygments_lexer": "ipython3",
   "version": "3.11.4"
  }
 },
 "nbformat": 4,
 "nbformat_minor": 5
}
