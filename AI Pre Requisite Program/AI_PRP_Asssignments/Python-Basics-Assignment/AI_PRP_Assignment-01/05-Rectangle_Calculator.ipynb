{
 "cells": [
  {
   "cell_type": "markdown",
   "id": "af613c8e",
   "metadata": {},
   "source": [
    "<b>Part 5: Rectangle Calculator</br></br>\n",
    "Problem Statement:</b></br></br>\n",
    "Write a program that calculates and displays the area and perimeter of a rectangle:</br>\n",
    "<ol>\n",
    "    <li>Take the length and width of the rectangle as inputs.</li>\n",
    "    <li>Calculate the area and perimeter using basic arithmetic operators.</li>\n",
    "</ol>\n",
    "Print the result in this format:</br>\n",
    "Length: [length]</br>\n",
    "Width: [width]</br>\n",
    "Area: [area]</br>\n",
    "Perimeter: [perimeter]"
   ]
  },
  {
   "cell_type": "code",
   "execution_count": 2,
   "id": "f27d400d",
   "metadata": {},
   "outputs": [
    {
     "name": "stdout",
     "output_type": "stream",
     "text": [
      "Enter Length Of Rectangle : 5\n",
      "Enter Width Of Rectangle : 5\n",
      "\n",
      "Length : 5.0 \n",
      "Width : 5.0 \n",
      "Area : 25.0 \n",
      "Perimeter : 20.0\n"
     ]
    }
   ],
   "source": [
    "lengthOfRectangle = float(input(\"Enter Length Of Rectangle : \"))\n",
    "widthOfRectangle = float(input(\"Enter Width Of Rectangle : \"))\n",
    "\n",
    "area = lengthOfRectangle * widthOfRectangle\n",
    "perimeter = 2 * (lengthOfRectangle + widthOfRectangle)\n",
    "\n",
    "print(f\"\\nLength : {lengthOfRectangle} \\nWidth : {widthOfRectangle} \\nArea : {area} \\nPerimeter : {perimeter}\")"
   ]
  },
  {
   "cell_type": "code",
   "execution_count": null,
   "id": "84b861bf",
   "metadata": {},
   "outputs": [],
   "source": []
  }
 ],
 "metadata": {
  "kernelspec": {
   "display_name": "Python 3 (ipykernel)",
   "language": "python",
   "name": "python3"
  },
  "language_info": {
   "codemirror_mode": {
    "name": "ipython",
    "version": 3
   },
   "file_extension": ".py",
   "mimetype": "text/x-python",
   "name": "python",
   "nbconvert_exporter": "python",
   "pygments_lexer": "ipython3",
   "version": "3.11.4"
  }
 },
 "nbformat": 4,
 "nbformat_minor": 5
}
