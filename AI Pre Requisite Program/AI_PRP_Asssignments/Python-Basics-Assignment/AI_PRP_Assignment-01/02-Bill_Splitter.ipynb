{
 "cells": [
  {
   "cell_type": "markdown",
   "id": "f10ee405",
   "metadata": {},
   "source": [
    "<b>Part 2: Bill Splitter</br></br>\n",
    "Problem Statement:</br></br></b>\n",
    "Write a program that calculates how much each person needs to pay when splitting a bill:\n",
    "<ol><li>Take the total bill amount as input.</li>\n",
    "<li>Take the number of people as input.</li>\n",
    "<li>Calculate each person’s share by dividing the total amount by the number of people.</li></ol>\n",
    "Print the result in this format: </br>\n",
    "Total Bill: \\$[amount]</br>\n",
    "Number of People: [people]</br>\n",
    "Each Person Pays: \\$[share]"
   ]
  },
  {
   "cell_type": "code",
   "execution_count": 6,
   "id": "8cdd2e32",
   "metadata": {},
   "outputs": [
    {
     "name": "stdout",
     "output_type": "stream",
     "text": [
      "Enter Total Amount Of Bill : 1500.5\n",
      "Enter No Of People We Have : 7\n",
      "\n",
      "Total Bill: $1500.5 \n",
      "Number Of People Are 7 \n",
      "Each Person Pays: $214.35714285714286\n"
     ]
    }
   ],
   "source": [
    "totalAmouont = float(input(\"Enter Total Amount Of Bill : \"))\n",
    "numberOfPeople = int(input(\"Enter No Of People We Have : \"))\n",
    "print(f\"\\nTotal Bill: ${totalAmouont} \\nNumber Of People Are {numberOfPeople} \\nEach Person Pays: ${totalAmouont/numberOfPeople}\")"
   ]
  },
  {
   "cell_type": "code",
   "execution_count": null,
   "id": "708e68b6",
   "metadata": {},
   "outputs": [],
   "source": []
  }
 ],
 "metadata": {
  "kernelspec": {
   "display_name": "Python 3 (ipykernel)",
   "language": "python",
   "name": "python3"
  },
  "language_info": {
   "codemirror_mode": {
    "name": "ipython",
    "version": 3
   },
   "file_extension": ".py",
   "mimetype": "text/x-python",
   "name": "python",
   "nbconvert_exporter": "python",
   "pygments_lexer": "ipython3",
   "version": "3.11.4"
  }
 },
 "nbformat": 4,
 "nbformat_minor": 5
}
