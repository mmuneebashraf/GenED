{
 "cells": [
  {
   "cell_type": "markdown",
   "id": "b6052de7",
   "metadata": {},
   "source": [
    "# Functions"
   ]
  },
  {
   "cell_type": "code",
   "execution_count": 1,
   "id": "774ea858",
   "metadata": {},
   "outputs": [],
   "source": [
    "def greet():\n",
    "    print(\"Hello Function\")"
   ]
  },
  {
   "cell_type": "code",
   "execution_count": 2,
   "id": "b27abd74",
   "metadata": {},
   "outputs": [
    {
     "data": {
      "text/plain": [
       "<function __main__.greet()>"
      ]
     },
     "execution_count": 2,
     "metadata": {},
     "output_type": "execute_result"
    }
   ],
   "source": [
    "greet"
   ]
  },
  {
   "cell_type": "code",
   "execution_count": 3,
   "id": "af68b8e6",
   "metadata": {},
   "outputs": [
    {
     "name": "stdout",
     "output_type": "stream",
     "text": [
      "Hello Function\n"
     ]
    }
   ],
   "source": [
    "greet() # Function Call"
   ]
  },
  {
   "cell_type": "code",
   "execution_count": 16,
   "id": "cae34896",
   "metadata": {},
   "outputs": [],
   "source": [
    "def greet(x):\n",
    "    print(x)"
   ]
  },
  {
   "cell_type": "code",
   "execution_count": 15,
   "id": "4ab08695",
   "metadata": {},
   "outputs": [
    {
     "ename": "TypeError",
     "evalue": "greet() missing 1 required positional argument: 'x'",
     "output_type": "error",
     "traceback": [
      "\u001b[1;31m---------------------------------------------------------------------------\u001b[0m",
      "\u001b[1;31mTypeError\u001b[0m                                 Traceback (most recent call last)",
      "Cell \u001b[1;32mIn[15], line 1\u001b[0m\n\u001b[1;32m----> 1\u001b[0m greet()\n",
      "\u001b[1;31mTypeError\u001b[0m: greet() missing 1 required positional argument: 'x'"
     ]
    }
   ],
   "source": [
    "greet()"
   ]
  },
  {
   "cell_type": "code",
   "execution_count": 17,
   "id": "d7485429",
   "metadata": {},
   "outputs": [
    {
     "name": "stdout",
     "output_type": "stream",
     "text": [
      "5\n"
     ]
    }
   ],
   "source": [
    "greet(5)"
   ]
  },
  {
   "cell_type": "code",
   "execution_count": 18,
   "id": "e216aac4",
   "metadata": {},
   "outputs": [
    {
     "name": "stdout",
     "output_type": "stream",
     "text": [
      "9\n"
     ]
    }
   ],
   "source": [
    "# we Two types of arguments 1-Positional Arguments 2-Keyword Arguments\n",
    "\n",
    "def add(a,b):\n",
    "    print(a+b)\n",
    "    \n",
    "add(3,6)"
   ]
  },
  {
   "cell_type": "code",
   "execution_count": 19,
   "id": "53605352",
   "metadata": {},
   "outputs": [
    {
     "name": "stdout",
     "output_type": "stream",
     "text": [
      "Hello! Ashraf Muneeb\n"
     ]
    }
   ],
   "source": [
    "def name(first,last):\n",
    "    print(f\"Hello! {first} {last}\")\n",
    "    \n",
    "name(\"Ashraf\",\"Muneeb\")"
   ]
  },
  {
   "cell_type": "code",
   "execution_count": 20,
   "id": "c5ad2460",
   "metadata": {},
   "outputs": [
    {
     "name": "stdout",
     "output_type": "stream",
     "text": [
      "Hello! Muneeb Ashraf\n"
     ]
    }
   ],
   "source": [
    "name(last=\"Ashraf\",first=\"Muneeb\") # Pass Through Keyword Arguments"
   ]
  },
  {
   "cell_type": "code",
   "execution_count": 21,
   "id": "87875b60",
   "metadata": {},
   "outputs": [
    {
     "ename": "TypeError",
     "evalue": "name() missing 1 required positional argument: 'last'",
     "output_type": "error",
     "traceback": [
      "\u001b[1;31m---------------------------------------------------------------------------\u001b[0m",
      "\u001b[1;31mTypeError\u001b[0m                                 Traceback (most recent call last)",
      "Cell \u001b[1;32mIn[21], line 1\u001b[0m\n\u001b[1;32m----> 1\u001b[0m name(first\u001b[38;5;241m=\u001b[39m\u001b[38;5;124m\"\u001b[39m\u001b[38;5;124mMuneeb\u001b[39m\u001b[38;5;124m\"\u001b[39m)\n",
      "\u001b[1;31mTypeError\u001b[0m: name() missing 1 required positional argument: 'last'"
     ]
    }
   ],
   "source": [
    "name(first=\"Muneeb\")"
   ]
  },
  {
   "cell_type": "code",
   "execution_count": 22,
   "id": "a6937046",
   "metadata": {},
   "outputs": [
    {
     "ename": "TypeError",
     "evalue": "name() missing 1 required positional argument: 'last'",
     "output_type": "error",
     "traceback": [
      "\u001b[1;31m---------------------------------------------------------------------------\u001b[0m",
      "\u001b[1;31mTypeError\u001b[0m                                 Traceback (most recent call last)",
      "Cell \u001b[1;32mIn[22], line 1\u001b[0m\n\u001b[1;32m----> 1\u001b[0m name(\u001b[38;5;124m\"\u001b[39m\u001b[38;5;124mMuneeb\u001b[39m\u001b[38;5;124m\"\u001b[39m)\n",
      "\u001b[1;31mTypeError\u001b[0m: name() missing 1 required positional argument: 'last'"
     ]
    }
   ],
   "source": [
    "name(first=\"Muneeb\")"
   ]
  },
  {
   "cell_type": "code",
   "execution_count": 23,
   "id": "b97d710a",
   "metadata": {},
   "outputs": [
    {
     "name": "stdout",
     "output_type": "stream",
     "text": [
      "Hello! Muneeb Ashraf\n"
     ]
    }
   ],
   "source": [
    "#call with Default Parameter\n",
    "def name(first,last=\"Ashraf\"):\n",
    "    print(f\"Hello! {first} {last}\")\n",
    "    \n",
    "name(first=\"Muneeb\")"
   ]
  },
  {
   "cell_type": "code",
   "execution_count": 25,
   "id": "344370a0",
   "metadata": {},
   "outputs": [
    {
     "name": "stdout",
     "output_type": "stream",
     "text": [
      "Hello! Muneeb MuneebAshraf\n"
     ]
    }
   ],
   "source": [
    "#call with Default Parameter\n",
    "def name(first,last=\"Ashraf\"):\n",
    "    print(f\"Hello! {first} {last}\")\n",
    "    \n",
    "name(first=\"Muneeb\", last=\"MuneebAshraf\")"
   ]
  },
  {
   "cell_type": "code",
   "execution_count": 26,
   "id": "ff83d3cc",
   "metadata": {},
   "outputs": [
    {
     "ename": "SyntaxError",
     "evalue": "incomplete input (2262657367.py, line 1)",
     "output_type": "error",
     "traceback": [
      "\u001b[1;36m  Cell \u001b[1;32mIn[26], line 1\u001b[1;36m\u001b[0m\n\u001b[1;33m    def greet():\u001b[0m\n\u001b[1;37m                ^\u001b[0m\n\u001b[1;31mSyntaxError\u001b[0m\u001b[1;31m:\u001b[0m incomplete input\n"
     ]
    }
   ],
   "source": [
    "# Empty Function\n",
    "def greet():"
   ]
  },
  {
   "cell_type": "code",
   "execution_count": 27,
   "id": "f2b674a7",
   "metadata": {},
   "outputs": [],
   "source": [
    "# Run Empty Function with pass Keyword\n",
    "def greet():\n",
    "    pass"
   ]
  },
  {
   "cell_type": "code",
   "execution_count": 28,
   "id": "e5a4350a",
   "metadata": {},
   "outputs": [],
   "source": [
    "greet()"
   ]
  },
  {
   "cell_type": "code",
   "execution_count": 34,
   "id": "b717230a",
   "metadata": {},
   "outputs": [],
   "source": [
    "def greet():\n",
    "    return"
   ]
  },
  {
   "cell_type": "code",
   "execution_count": 35,
   "id": "09b30da8",
   "metadata": {},
   "outputs": [],
   "source": [
    "greet()"
   ]
  },
  {
   "cell_type": "code",
   "execution_count": 40,
   "id": "a0594e21",
   "metadata": {},
   "outputs": [],
   "source": [
    "def add(a,b):\n",
    "    return a+b"
   ]
  },
  {
   "cell_type": "code",
   "execution_count": 41,
   "id": "e5678a51",
   "metadata": {},
   "outputs": [
    {
     "ename": "SyntaxError",
     "evalue": "unmatched ')' (3549269808.py, line 1)",
     "output_type": "error",
     "traceback": [
      "\u001b[1;36m  Cell \u001b[1;32mIn[41], line 1\u001b[1;36m\u001b[0m\n\u001b[1;33m    add(1,3))\u001b[0m\n\u001b[1;37m            ^\u001b[0m\n\u001b[1;31mSyntaxError\u001b[0m\u001b[1;31m:\u001b[0m unmatched ')'\n"
     ]
    }
   ],
   "source": [
    "add(1,3))"
   ]
  },
  {
   "cell_type": "code",
   "execution_count": 42,
   "id": "e2422ed4",
   "metadata": {},
   "outputs": [
    {
     "name": "stdout",
     "output_type": "stream",
     "text": [
      "4\n"
     ]
    }
   ],
   "source": [
    "print(add(1,3))"
   ]
  },
  {
   "cell_type": "code",
   "execution_count": 44,
   "id": "e0e7b5ca",
   "metadata": {},
   "outputs": [],
   "source": [
    "def add(a,b):\n",
    "    return"
   ]
  },
  {
   "cell_type": "code",
   "execution_count": 45,
   "id": "0fd788d7",
   "metadata": {},
   "outputs": [
    {
     "name": "stdout",
     "output_type": "stream",
     "text": [
      "None\n"
     ]
    }
   ],
   "source": [
    "print(add(1,3))"
   ]
  },
  {
   "cell_type": "code",
   "execution_count": 46,
   "id": "5e1d588f",
   "metadata": {},
   "outputs": [
    {
     "name": "stdout",
     "output_type": "stream",
     "text": [
      "Hi\n"
     ]
    }
   ],
   "source": [
    "def add(a,b):\n",
    "    return \"Hi\"\n",
    "print(add(1,3))"
   ]
  },
  {
   "cell_type": "code",
   "execution_count": 47,
   "id": "9f82367d",
   "metadata": {},
   "outputs": [
    {
     "ename": "TypeError",
     "evalue": "add() missing 2 required positional arguments: 'a' and 'b'",
     "output_type": "error",
     "traceback": [
      "\u001b[1;31m---------------------------------------------------------------------------\u001b[0m",
      "\u001b[1;31mTypeError\u001b[0m                                 Traceback (most recent call last)",
      "Cell \u001b[1;32mIn[47], line 3\u001b[0m\n\u001b[0;32m      1\u001b[0m \u001b[38;5;28;01mdef\u001b[39;00m \u001b[38;5;21madd\u001b[39m(a,b):\n\u001b[0;32m      2\u001b[0m     \u001b[38;5;28;01mreturn\u001b[39;00m \u001b[38;5;124m\"\u001b[39m\u001b[38;5;124mHi\u001b[39m\u001b[38;5;124m\"\u001b[39m\n\u001b[1;32m----> 3\u001b[0m \u001b[38;5;28mprint\u001b[39m(add())\n",
      "\u001b[1;31mTypeError\u001b[0m: add() missing 2 required positional arguments: 'a' and 'b'"
     ]
    }
   ],
   "source": [
    "def add(a,b):\n",
    "    return \"Hi\"\n",
    "print(add())"
   ]
  },
  {
   "cell_type": "code",
   "execution_count": 49,
   "id": "be9160c0",
   "metadata": {},
   "outputs": [
    {
     "ename": "SyntaxError",
     "evalue": "incomplete input (3965577534.py, line 7)",
     "output_type": "error",
     "traceback": [
      "\u001b[1;36m  Cell \u001b[1;32mIn[49], line 7\u001b[1;36m\u001b[0m\n\u001b[1;33m    print(type(print)\u001b[0m\n\u001b[1;37m                     ^\u001b[0m\n\u001b[1;31mSyntaxError\u001b[0m\u001b[1;31m:\u001b[0m incomplete input\n"
     ]
    }
   ],
   "source": [
    "# Tow kind of Functions \n",
    "# 1-Buildin Functions \n",
    "#2-User Define Functions\n",
    "\n",
    "# A function is a block of code performed to do a specific task. It is also reuseable and it helps improve \n",
    "\n",
    "print(type(print())"
   ]
  },
  {
   "cell_type": "code",
   "execution_count": 51,
   "id": "55b6adf3",
   "metadata": {},
   "outputs": [
    {
     "data": {
      "text/plain": [
       "5"
      ]
     },
     "execution_count": 51,
     "metadata": {},
     "output_type": "execute_result"
    }
   ],
   "source": [
    "def add(a,b):\n",
    "    return a+b\n",
    "\n",
    "add(2,3) # Positional Argument , Reference Argument\n",
    "#add(a=b,b=3) # Keyword Argument"
   ]
  },
  {
   "cell_type": "code",
   "execution_count": 52,
   "id": "57482f3e",
   "metadata": {},
   "outputs": [
    {
     "name": "stdout",
     "output_type": "stream",
     "text": [
      "{'c': 4, 'd': 5}\n"
     ]
    },
    {
     "data": {
      "text/plain": [
       "5"
      ]
     },
     "execution_count": 52,
     "metadata": {},
     "output_type": "execute_result"
    }
   ],
   "source": [
    "def add(a,b , **kwargs):\n",
    "    print(kwargs)\n",
    "    return a+b\n",
    "\n",
    "add(2,3,c=4,d=5) # Positional Argument , Reference Argument\n",
    "#add(a=b,b=3) # Keyword Argument"
   ]
  },
  {
   "cell_type": "code",
   "execution_count": 53,
   "id": "4314c2c5",
   "metadata": {},
   "outputs": [
    {
     "data": {
      "text/plain": [
       "100"
      ]
     },
     "execution_count": 53,
     "metadata": {},
     "output_type": "execute_result"
    }
   ],
   "source": [
    "x=10\n",
    "def square(x):\n",
    "    return x**2\n",
    "square(x)"
   ]
  },
  {
   "cell_type": "code",
   "execution_count": 54,
   "id": "7f87589a",
   "metadata": {},
   "outputs": [
    {
     "data": {
      "text/plain": [
       "25"
      ]
     },
     "execution_count": 54,
     "metadata": {},
     "output_type": "execute_result"
    }
   ],
   "source": [
    "x=10\n",
    "def square(x):\n",
    "    x=5\n",
    "    return x**2\n",
    "square(x)"
   ]
  },
  {
   "cell_type": "code",
   "execution_count": 56,
   "id": "abcd875d",
   "metadata": {},
   "outputs": [
    {
     "name": "stdout",
     "output_type": "stream",
     "text": [
      "10\n"
     ]
    },
    {
     "data": {
      "text/plain": [
       "225"
      ]
     },
     "execution_count": 56,
     "metadata": {},
     "output_type": "execute_result"
    }
   ],
   "source": [
    "num = 10\n",
    "def square(x):\n",
    "    x+=5\n",
    "    return x**2\n",
    "print(num)\n",
    "square(x)"
   ]
  },
  {
   "cell_type": "code",
   "execution_count": 57,
   "id": "b44adb05",
   "metadata": {},
   "outputs": [
    {
     "name": "stdout",
     "output_type": "stream",
     "text": [
      "8\n"
     ]
    }
   ],
   "source": [
    "def fun(a,b):\n",
    "    print(a+b)\n",
    "    \n",
    "a=8\n",
    "b=0\n",
    "fun(a,b)"
   ]
  },
  {
   "cell_type": "code",
   "execution_count": 58,
   "id": "3008fd6b",
   "metadata": {},
   "outputs": [
    {
     "name": "stdout",
     "output_type": "stream",
     "text": [
      "50\n",
      "0\n",
      "1\n",
      "2\n",
      "3\n",
      "4\n",
      "5\n",
      "6\n",
      "7\n",
      "8\n",
      "9\n",
      "9\n"
     ]
    }
   ],
   "source": [
    "j=50\n",
    "print(j)\n",
    "\n",
    "for j in range(0,10):\n",
    "    print(j)\n",
    "\n",
    "print(j)"
   ]
  },
  {
   "cell_type": "code",
   "execution_count": null,
   "id": "d14f4a44",
   "metadata": {},
   "outputs": [],
   "source": []
  }
 ],
 "metadata": {
  "kernelspec": {
   "display_name": "Python 3 (ipykernel)",
   "language": "python",
   "name": "python3"
  },
  "language_info": {
   "codemirror_mode": {
    "name": "ipython",
    "version": 3
   },
   "file_extension": ".py",
   "mimetype": "text/x-python",
   "name": "python",
   "nbconvert_exporter": "python",
   "pygments_lexer": "ipython3",
   "version": "3.11.4"
  }
 },
 "nbformat": 4,
 "nbformat_minor": 5
}
