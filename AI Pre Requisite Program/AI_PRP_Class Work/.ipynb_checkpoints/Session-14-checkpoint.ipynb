{
 "cells": [
  {
   "cell_type": "markdown",
   "id": "764b7a9b",
   "metadata": {},
   "source": [
    "# Try Except"
   ]
  },
  {
   "cell_type": "code",
   "execution_count": 1,
   "id": "01cd4212",
   "metadata": {},
   "outputs": [
    {
     "data": {
      "text/plain": [
       "6.0"
      ]
     },
     "execution_count": 1,
     "metadata": {},
     "output_type": "execute_result"
    }
   ],
   "source": [
    "12/2"
   ]
  },
  {
   "cell_type": "code",
   "execution_count": 2,
   "id": "1f0f9b7d",
   "metadata": {},
   "outputs": [
    {
     "name": "stdout",
     "output_type": "stream",
     "text": [
      "Enter Your Number15\n",
      "Enter Your Secon Number0\n"
     ]
    },
    {
     "ename": "ZeroDivisionError",
     "evalue": "division by zero",
     "output_type": "error",
     "traceback": [
      "\u001b[1;31m---------------------------------------------------------------------------\u001b[0m",
      "\u001b[1;31mZeroDivisionError\u001b[0m                         Traceback (most recent call last)",
      "Cell \u001b[1;32mIn[2], line 4\u001b[0m\n\u001b[0;32m      1\u001b[0m num_1 \u001b[38;5;241m=\u001b[39m \u001b[38;5;28mint\u001b[39m(\u001b[38;5;28minput\u001b[39m(\u001b[38;5;124m\"\u001b[39m\u001b[38;5;124mEnter Your Number\u001b[39m\u001b[38;5;124m\"\u001b[39m))\n\u001b[0;32m      2\u001b[0m num_2 \u001b[38;5;241m=\u001b[39m \u001b[38;5;28mint\u001b[39m(\u001b[38;5;28minput\u001b[39m(\u001b[38;5;124m\"\u001b[39m\u001b[38;5;124mEnter Your Secon Number\u001b[39m\u001b[38;5;124m\"\u001b[39m))\n\u001b[1;32m----> 4\u001b[0m num_1\u001b[38;5;241m/\u001b[39mnum_2\n",
      "\u001b[1;31mZeroDivisionError\u001b[0m: division by zero"
     ]
    }
   ],
   "source": [
    "num_1 = int(input(\"Enter Your Number\"))\n",
    "num_2 = int(input(\"Enter Your Secon Number\"))\n",
    "\n",
    "num_1/num_2"
   ]
  },
  {
   "cell_type": "code",
   "execution_count": 8,
   "id": "3a94615d",
   "metadata": {},
   "outputs": [
    {
     "name": "stdout",
     "output_type": "stream",
     "text": [
      "Zero Division cannot be possible\n",
      "Please provide a valid value in second place\n",
      "Enter Your Number15\n",
      "Enter Your Secon Number0\n"
     ]
    }
   ],
   "source": [
    "try:\n",
    "    num_1/num_2\n",
    "    \n",
    "except ZeroDivisionError:\n",
    "    print(\"Zero Division cannot be possible\")\n",
    "    print(\"Please provide a valid value in second place\")\n",
    "    \n",
    "\n",
    "    \n",
    "num_1 = int(input(\"Enter Your Number\"))\n",
    "num_2 = int(input(\"Enter Your Secon Number\"))\n",
    "\n"
   ]
  },
  {
   "cell_type": "code",
   "execution_count": 9,
   "id": "4ce708c2",
   "metadata": {},
   "outputs": [
    {
     "name": "stdout",
     "output_type": "stream",
     "text": [
      "division by zero\n"
     ]
    }
   ],
   "source": [
    "try:\n",
    "    num_1/num_2\n",
    "    \n",
    "except Exception as error:\n",
    "    print(error)"
   ]
  },
  {
   "cell_type": "code",
   "execution_count": 14,
   "id": "55469837",
   "metadata": {},
   "outputs": [
    {
     "name": "stdout",
     "output_type": "stream",
     "text": [
      "Enter Your Age : muneeb\n",
      "invalid literal for int() with base 10: 'muneeb'\n"
     ]
    }
   ],
   "source": [
    "try:\n",
    "    age = int(input(\"Enter Your Age : \"))\n",
    "except Exception as e:\n",
    "    print(e)"
   ]
  },
  {
   "cell_type": "code",
   "execution_count": 17,
   "id": "649602bf",
   "metadata": {},
   "outputs": [
    {
     "name": "stdout",
     "output_type": "stream",
     "text": [
      "Enter Your Age : muneeb\n",
      "invalid literal for int() with base 10: 'muneeb'\n"
     ]
    }
   ],
   "source": [
    "try:\n",
    "    age = int(input(\"Enter Your Age : \"))\n",
    "    print(f\"your {age} Years old\")\n",
    "except Exception as e:\n",
    "    print(e)"
   ]
  },
  {
   "cell_type": "code",
   "execution_count": 18,
   "id": "a032be84",
   "metadata": {},
   "outputs": [
    {
     "name": "stdout",
     "output_type": "stream",
     "text": [
      "Enter Your Age : 27\n",
      "your 27 Years old\n"
     ]
    }
   ],
   "source": [
    "try:\n",
    "    age = int(input(\"Enter Your Age : \"))\n",
    "    print(f\"your {age} Years old\")\n",
    "except Exception as e:\n",
    "    print(e)"
   ]
  },
  {
   "cell_type": "code",
   "execution_count": 27,
   "id": "41c3d25e",
   "metadata": {},
   "outputs": [
    {
     "name": "stdout",
     "output_type": "stream",
     "text": [
      "Enter 0 your name : 25\n",
      "Enter 1 your name : mkxc\n"
     ]
    },
    {
     "ename": "NameError",
     "evalue": "name 'names' is not defined",
     "output_type": "error",
     "traceback": [
      "\u001b[1;31m---------------------------------------------------------------------------\u001b[0m",
      "\u001b[1;31mNameError\u001b[0m                                 Traceback (most recent call last)",
      "Cell \u001b[1;32mIn[27], line 6\u001b[0m\n\u001b[0;32m      4\u001b[0m name \u001b[38;5;241m=\u001b[39m \u001b[38;5;28minput\u001b[39m(\u001b[38;5;124mf\u001b[39m\u001b[38;5;124m\"\u001b[39m\u001b[38;5;124mEnter \u001b[39m\u001b[38;5;132;01m{\u001b[39;00mi\u001b[38;5;132;01m}\u001b[39;00m\u001b[38;5;124m your name : \u001b[39m\u001b[38;5;124m\"\u001b[39m)\n\u001b[0;32m      5\u001b[0m \u001b[38;5;28;01mif\u001b[39;00m name\u001b[38;5;241m.\u001b[39misalpha():\n\u001b[1;32m----> 6\u001b[0m     names\u001b[38;5;241m.\u001b[39mappend(name)\n",
      "\u001b[1;31mNameError\u001b[0m: name 'names' is not defined"
     ]
    }
   ],
   "source": [
    "names = []\n",
    "\n",
    "for i in range (0,5):\n",
    "    name = input(f\"Enter {i} your name : \")\n",
    "    if name.isalpha():\n",
    "        names.append(name)"
   ]
  },
  {
   "cell_type": "code",
   "execution_count": null,
   "id": "2b65dc2d",
   "metadata": {},
   "outputs": [],
   "source": [
    "# we use only these 3 keywords in loop\n",
    "# break\n",
    "# continue\n",
    "# pass"
   ]
  },
  {
   "cell_type": "code",
   "execution_count": null,
   "id": "12387c1f",
   "metadata": {},
   "outputs": [],
   "source": [
    "names = []\n",
    "\n",
    "for i in range (0,5):\n",
    "    name = input(f\"Enter {i} your name\")\n",
    "    if name.isalpha():\n",
    "        names.append(name)\n",
    "    else"
   ]
  },
  {
   "cell_type": "code",
   "execution_count": 33,
   "id": "a11d71b1",
   "metadata": {},
   "outputs": [
    {
     "name": "stdout",
     "output_type": "stream",
     "text": [
      "Enter 0 your name : m\n",
      "Enter 1 your name : 25\n",
      "Enter 2 your name : xc5\n",
      "Enter 3 your name : m\n",
      "Enter 4 your name : 55l\n"
     ]
    }
   ],
   "source": [
    "names = []\n",
    "\n",
    "for i in range (0,5):\n",
    "    name = input(f\"Enter {i} your name : \")\n",
    "    if name.isalpha():\n",
    "        names.append(name)"
   ]
  },
  {
   "cell_type": "code",
   "execution_count": null,
   "id": "a81185d4",
   "metadata": {},
   "outputs": [],
   "source": [
    "names = []\n",
    "\n",
    "for i in range (0,5):\n",
    "    try:\n",
    "        name = input(f\"Enter {i} your name : \")\n",
    "        if name.isalpha():\n",
    "            names.append(name)\n",
    "        \n",
    "            print(\"\")"
   ]
  },
  {
   "cell_type": "code",
   "execution_count": null,
   "id": "8e8bfd59",
   "metadata": {},
   "outputs": [],
   "source": []
  },
  {
   "cell_type": "code",
   "execution_count": null,
   "id": "20de641d",
   "metadata": {},
   "outputs": [],
   "source": []
  },
  {
   "cell_type": "code",
   "execution_count": null,
   "id": "e232198c",
   "metadata": {},
   "outputs": [],
   "source": []
  },
  {
   "cell_type": "code",
   "execution_count": null,
   "id": "0c66996f",
   "metadata": {},
   "outputs": [],
   "source": []
  },
  {
   "cell_type": "code",
   "execution_count": null,
   "id": "fb8e90ee",
   "metadata": {},
   "outputs": [],
   "source": []
  },
  {
   "cell_type": "code",
   "execution_count": null,
   "id": "48d1c58c",
   "metadata": {},
   "outputs": [],
   "source": []
  },
  {
   "cell_type": "code",
   "execution_count": null,
   "id": "a06a91b9",
   "metadata": {},
   "outputs": [],
   "source": []
  },
  {
   "cell_type": "code",
   "execution_count": 42,
   "id": "5842c441",
   "metadata": {},
   "outputs": [
    {
     "data": {
      "text/plain": [
       "<function __main__.<lambda>(x)>"
      ]
     },
     "execution_count": 42,
     "metadata": {},
     "output_type": "execute_result"
    }
   ],
   "source": [
    "# LAMDA\n",
    "\n",
    "lambda x : x"
   ]
  },
  {
   "cell_type": "code",
   "execution_count": 44,
   "id": "23e60b30",
   "metadata": {},
   "outputs": [
    {
     "data": {
      "text/plain": [
       "<function __main__.<lambda>(x)>"
      ]
     },
     "execution_count": 44,
     "metadata": {},
     "output_type": "execute_result"
    }
   ],
   "source": [
    "lambda x : x**2"
   ]
  },
  {
   "cell_type": "code",
   "execution_count": 45,
   "id": "69e46c6b",
   "metadata": {},
   "outputs": [],
   "source": [
    "def square(x):\n",
    "    return x**2"
   ]
  },
  {
   "cell_type": "code",
   "execution_count": 48,
   "id": "86eca7d1",
   "metadata": {},
   "outputs": [
    {
     "data": {
      "text/plain": [
       "4"
      ]
     },
     "execution_count": 48,
     "metadata": {},
     "output_type": "execute_result"
    }
   ],
   "source": [
    "square = lambda x : x**2\n",
    "\n",
    "square(2)"
   ]
  },
  {
   "cell_type": "code",
   "execution_count": 49,
   "id": "9eeb8d90",
   "metadata": {},
   "outputs": [],
   "source": [
    "add = lambda x,y : x+y\n",
    "\n",
    "\n",
    "gr = lambda a,b : a if a>b else b"
   ]
  },
  {
   "cell_type": "code",
   "execution_count": 50,
   "id": "5fdc6b91",
   "metadata": {},
   "outputs": [
    {
     "data": {
      "text/plain": [
       "40"
      ]
     },
     "execution_count": 50,
     "metadata": {},
     "output_type": "execute_result"
    }
   ],
   "source": [
    "gr(6,40)"
   ]
  },
  {
   "cell_type": "code",
   "execution_count": 51,
   "id": "c9575624",
   "metadata": {},
   "outputs": [],
   "source": [
    "name_age = [\"Muneeb_20\",\"saif_30\",\"Moiz_34\"]"
   ]
  },
  {
   "cell_type": "code",
   "execution_count": 55,
   "id": "22285f7e",
   "metadata": {},
   "outputs": [
    {
     "name": "stdout",
     "output_type": "stream",
     "text": [
      "aqsa is 16 years old\n",
      "saif is 30 years old\n",
      "moiz is 34 years old\n"
     ]
    }
   ],
   "source": [
    "name_age = [\"aqsa_16\" , \"saif_30\" , \"moiz_34\"]\n",
    "for i in range(len(name_age)):\n",
    "               name, age = name_age[i].split(\"_\")\n",
    "               print(name + \" is \" + age + \" years old\")"
   ]
  },
  {
   "cell_type": "code",
   "execution_count": 56,
   "id": "db6af35f",
   "metadata": {},
   "outputs": [
    {
     "name": "stdout",
     "output_type": "stream",
     "text": [
      "Names: ['aqsa', 'saif', 'moiz'] Ages: ['16', '30', '34']\n"
     ]
    }
   ],
   "source": [
    "name_age = [\"aqsa_16\", \"saif_30\", \"moiz_34\"]\n",
    "names = []\n",
    "ages = []\n",
    "for item in name_age:\n",
    "    name, age = item.split(\"_\")  \n",
    "    names.append(name)\n",
    "    ages.append(age)\n",
    "print(\"Names:\", names,\"Ages:\", ages)"
   ]
  },
  {
   "cell_type": "code",
   "execution_count": 57,
   "id": "e53a0b3a",
   "metadata": {},
   "outputs": [],
   "source": [
    "name_age = [\"aqsa_16\" , \"saif_30\" , \"moiz_34\"]\n",
    "\n",
    "split_data = [item.split(\"_\") for item in name_age]"
   ]
  },
  {
   "cell_type": "code",
   "execution_count": 58,
   "id": "03596a04",
   "metadata": {},
   "outputs": [
    {
     "data": {
      "text/plain": [
       "[['aqsa', '16'], ['saif', '30'], ['moiz', '34']]"
      ]
     },
     "execution_count": 58,
     "metadata": {},
     "output_type": "execute_result"
    }
   ],
   "source": [
    "split_data"
   ]
  },
  {
   "cell_type": "code",
   "execution_count": null,
   "id": "ea828ce6",
   "metadata": {},
   "outputs": [],
   "source": [
    "name_age = [\"aqsa_16\" , \"saif_30\" , \"moiz_34\"]\n",
    "for i in range(len(name_age)):\n",
    "  name = name_age[i].split(\"_\")[0]\n",
    "  age = name_age[i].split(\"_\")[1]\n",
    "  print(name)\n",
    "  print(age)"
   ]
  },
  {
   "cell_type": "code",
   "execution_count": null,
   "id": "96161e7f",
   "metadata": {},
   "outputs": [],
   "source": []
  },
  {
   "cell_type": "code",
   "execution_count": 59,
   "id": "cb9f1ce6",
   "metadata": {},
   "outputs": [
    {
     "ename": "NameError",
     "evalue": "name 'x' is not defined",
     "output_type": "error",
     "traceback": [
      "\u001b[1;31m---------------------------------------------------------------------------\u001b[0m",
      "\u001b[1;31mNameError\u001b[0m                                 Traceback (most recent call last)",
      "Cell \u001b[1;32mIn[59], line 1\u001b[0m\n\u001b[1;32m----> 1\u001b[0m \u001b[38;5;28;01mlambda\u001b[39;00m x : x\u001b[38;5;241m.\u001b[39msplit(\u001b[38;5;124m\"\u001b[39m\u001b[38;5;124m_\u001b[39m\u001b[38;5;124m\"\u001b[39m)[\u001b[38;5;241m0\u001b[39m],x\u001b[38;5;241m.\u001b[39msplit(\u001b[38;5;124m\"\u001b[39m\u001b[38;5;124m_\u001b[39m\u001b[38;5;124m\"\u001b[39m[\u001b[38;5;241m1\u001b[39m])\n",
      "\u001b[1;31mNameError\u001b[0m: name 'x' is not defined"
     ]
    }
   ],
   "source": [
    "lambda x : x.split(\"_\")[0],x.split(\"_\"[1])"
   ]
  },
  {
   "cell_type": "code",
   "execution_count": 60,
   "id": "15b39390",
   "metadata": {},
   "outputs": [
    {
     "data": {
      "text/plain": [
       "<function __main__.<lambda>(x)>"
      ]
     },
     "execution_count": 60,
     "metadata": {},
     "output_type": "execute_result"
    }
   ],
   "source": [
    "lambda x : (x.split(\"_\")[0],x.split(\"_\"[1]))"
   ]
  },
  {
   "cell_type": "code",
   "execution_count": null,
   "id": "60f61834",
   "metadata": {},
   "outputs": [],
   "source": []
  },
  {
   "cell_type": "code",
   "execution_count": null,
   "id": "47b3754f",
   "metadata": {},
   "outputs": [],
   "source": []
  },
  {
   "cell_type": "code",
   "execution_count": 61,
   "id": "941057b9",
   "metadata": {},
   "outputs": [],
   "source": [
    "split_func = lambda x : (x.split(\"_\")[0] , x.split(\"_\")[1])"
   ]
  },
  {
   "cell_type": "code",
   "execution_count": 62,
   "id": "c11d0743",
   "metadata": {},
   "outputs": [
    {
     "data": {
      "text/plain": [
       "<function __main__.<lambda>(x)>"
      ]
     },
     "execution_count": 62,
     "metadata": {},
     "output_type": "execute_result"
    }
   ],
   "source": [
    "split_func"
   ]
  },
  {
   "cell_type": "code",
   "execution_count": null,
   "id": "ff52d8d8",
   "metadata": {},
   "outputs": [],
   "source": []
  },
  {
   "cell_type": "code",
   "execution_count": null,
   "id": "399e0d19",
   "metadata": {},
   "outputs": [],
   "source": []
  },
  {
   "cell_type": "code",
   "execution_count": 63,
   "id": "4ca6e703",
   "metadata": {},
   "outputs": [
    {
     "ename": "AttributeError",
     "evalue": "'list' object has no attribute 'split'",
     "output_type": "error",
     "traceback": [
      "\u001b[1;31m---------------------------------------------------------------------------\u001b[0m",
      "\u001b[1;31mAttributeError\u001b[0m                            Traceback (most recent call last)",
      "Cell \u001b[1;32mIn[63], line 3\u001b[0m\n\u001b[0;32m      1\u001b[0m name_age \u001b[38;5;241m=\u001b[39m [\u001b[38;5;124m\"\u001b[39m\u001b[38;5;124maqsa_16\u001b[39m\u001b[38;5;124m\"\u001b[39m , \u001b[38;5;124m\"\u001b[39m\u001b[38;5;124msaif_30\u001b[39m\u001b[38;5;124m\"\u001b[39m , \u001b[38;5;124m\"\u001b[39m\u001b[38;5;124mmoiz_34\u001b[39m\u001b[38;5;124m\"\u001b[39m]\n\u001b[0;32m      2\u001b[0m split_func \u001b[38;5;241m=\u001b[39m \u001b[38;5;28;01mlambda\u001b[39;00m x : (x\u001b[38;5;241m.\u001b[39msplit(\u001b[38;5;124m\"\u001b[39m\u001b[38;5;124m_\u001b[39m\u001b[38;5;124m\"\u001b[39m)[\u001b[38;5;241m0\u001b[39m] , x\u001b[38;5;241m.\u001b[39msplit(\u001b[38;5;124m\"\u001b[39m\u001b[38;5;124m_\u001b[39m\u001b[38;5;124m\"\u001b[39m)[\u001b[38;5;241m1\u001b[39m])\n\u001b[1;32m----> 3\u001b[0m split_func(name_age)\n",
      "Cell \u001b[1;32mIn[63], line 2\u001b[0m, in \u001b[0;36m<lambda>\u001b[1;34m(x)\u001b[0m\n\u001b[0;32m      1\u001b[0m name_age \u001b[38;5;241m=\u001b[39m [\u001b[38;5;124m\"\u001b[39m\u001b[38;5;124maqsa_16\u001b[39m\u001b[38;5;124m\"\u001b[39m , \u001b[38;5;124m\"\u001b[39m\u001b[38;5;124msaif_30\u001b[39m\u001b[38;5;124m\"\u001b[39m , \u001b[38;5;124m\"\u001b[39m\u001b[38;5;124mmoiz_34\u001b[39m\u001b[38;5;124m\"\u001b[39m]\n\u001b[1;32m----> 2\u001b[0m split_func \u001b[38;5;241m=\u001b[39m \u001b[38;5;28;01mlambda\u001b[39;00m x : (x\u001b[38;5;241m.\u001b[39msplit(\u001b[38;5;124m\"\u001b[39m\u001b[38;5;124m_\u001b[39m\u001b[38;5;124m\"\u001b[39m)[\u001b[38;5;241m0\u001b[39m] , x\u001b[38;5;241m.\u001b[39msplit(\u001b[38;5;124m\"\u001b[39m\u001b[38;5;124m_\u001b[39m\u001b[38;5;124m\"\u001b[39m)[\u001b[38;5;241m1\u001b[39m])\n\u001b[0;32m      3\u001b[0m split_func(name_age)\n",
      "\u001b[1;31mAttributeError\u001b[0m: 'list' object has no attribute 'split'"
     ]
    }
   ],
   "source": [
    "name_age = [\"aqsa_16\" , \"saif_30\" , \"moiz_34\"]\n",
    "split_func = lambda x : (x.split(\"_\")[0] , x.split(\"_\")[1])\n",
    "split_func(name_age)"
   ]
  },
  {
   "cell_type": "code",
   "execution_count": null,
   "id": "82656c3b",
   "metadata": {},
   "outputs": [],
   "source": []
  }
 ],
 "metadata": {
  "kernelspec": {
   "display_name": "Python 3 (ipykernel)",
   "language": "python",
   "name": "python3"
  },
  "language_info": {
   "codemirror_mode": {
    "name": "ipython",
    "version": 3
   },
   "file_extension": ".py",
   "mimetype": "text/x-python",
   "name": "python",
   "nbconvert_exporter": "python",
   "pygments_lexer": "ipython3",
   "version": "3.11.4"
  }
 },
 "nbformat": 4,
 "nbformat_minor": 5
}
