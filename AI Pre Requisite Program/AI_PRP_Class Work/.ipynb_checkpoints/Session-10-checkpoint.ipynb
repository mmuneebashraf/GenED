{
 "cells": [
  {
   "cell_type": "markdown",
   "id": "9ac67706",
   "metadata": {},
   "source": [
    "# List"
   ]
  },
  {
   "cell_type": "code",
   "execution_count": null,
   "id": "7c54c95c",
   "metadata": {},
   "outputs": [],
   "source": [
    "# 10 Students Name"
   ]
  },
  {
   "cell_type": "code",
   "execution_count": 3,
   "id": "53d69d0e",
   "metadata": {},
   "outputs": [
    {
     "name": "stdout",
     "output_type": "stream",
     "text": [
      "Enter Your Name : Ashraf\n"
     ]
    }
   ],
   "source": [
    "name = input(\"Enter Your Name : \")"
   ]
  },
  {
   "cell_type": "code",
   "execution_count": 4,
   "id": "eb2f0bd9",
   "metadata": {},
   "outputs": [
    {
     "data": {
      "text/plain": [
       "'Ashraf'"
      ]
     },
     "execution_count": 4,
     "metadata": {},
     "output_type": "execute_result"
    }
   ],
   "source": [
    "name"
   ]
  },
  {
   "cell_type": "code",
   "execution_count": 6,
   "id": "60d9ec0a",
   "metadata": {},
   "outputs": [],
   "source": [
    "# list is the uer define Data Type\n",
    "\n",
    "names_list = [\"Muhammad\",\"Muneeb\",\"Ashraf\"]"
   ]
  },
  {
   "cell_type": "code",
   "execution_count": 7,
   "id": "16d8adb1",
   "metadata": {},
   "outputs": [
    {
     "data": {
      "text/plain": [
       "['Muhammad', 'Muneeb', 'Ashraf']"
      ]
     },
     "execution_count": 7,
     "metadata": {},
     "output_type": "execute_result"
    }
   ],
   "source": [
    "names_list"
   ]
  },
  {
   "cell_type": "code",
   "execution_count": 10,
   "id": "cdf777ca",
   "metadata": {},
   "outputs": [
    {
     "name": "stdout",
     "output_type": "stream",
     "text": [
      "Enter Your Name : Ashraf\n",
      "['Ashraf']\n"
     ]
    }
   ],
   "source": [
    "# name apko input lena hai or usko save karty jana hai list mai\n",
    "names_list = [] #Empty List\n",
    "name = input(\"Enter Your Name : \")\n",
    "\n",
    "# Add\n",
    "names_list.append(name)\n",
    "print(names_list)"
   ]
  },
  {
   "cell_type": "code",
   "execution_count": 9,
   "id": "ac234688",
   "metadata": {},
   "outputs": [
    {
     "data": {
      "text/plain": [
       "['muneeb']"
      ]
     },
     "execution_count": 9,
     "metadata": {},
     "output_type": "execute_result"
    }
   ],
   "source": [
    "names_list"
   ]
  },
  {
   "cell_type": "code",
   "execution_count": 27,
   "id": "3cfcdbe7",
   "metadata": {},
   "outputs": [
    {
     "name": "stdout",
     "output_type": "stream",
     "text": [
      "Enter Student 1 Name : Muhammad\n",
      "Enter Student 2 Name : Muneeb\n",
      "Enter Student 3 Name : Ashraf\n",
      "Enter Student 4 Name : Alhas\n",
      "Enter Student 5 Name : Riaz\n",
      "Enter Student 6 Name : Waqas\n",
      "Enter Student 7 Name : Haris\n",
      "Enter Student 8 Name : Mohsin\n",
      "Enter Student 9 Name : Ahmed\n",
      "Enter Student 10 Name : Asad\n"
     ]
    }
   ],
   "source": [
    "names_list = []\n",
    "\n",
    "for i in range(1,11):\n",
    "    name = input(f\"Enter Student {i} Name : \")\n",
    "    \n",
    "    names_list.append(name)\n",
    "    "
   ]
  },
  {
   "cell_type": "code",
   "execution_count": 20,
   "id": "4f61f6b9",
   "metadata": {},
   "outputs": [
    {
     "name": "stdout",
     "output_type": "stream",
     "text": [
      "['Muhammad', 'Muneeb', 'Aashraf', 'Alhas', 'Moeed', 'Adeel', 'Haris', 'Mohsin', 'Riaz', 'Waqas']\n"
     ]
    }
   ],
   "source": [
    "print(names_list)"
   ]
  },
  {
   "cell_type": "code",
   "execution_count": 25,
   "id": "cbb9086e",
   "metadata": {},
   "outputs": [
    {
     "name": "stdout",
     "output_type": "stream",
     "text": [
      "Enter Student 1 Name : dsds\n",
      "Enter Student 2 Name : cd\n",
      "Enter Student 3 Name : dc\n",
      "Enter Student 4 Name : \n",
      "Enter Student 5 Name : cddc\n",
      "Enter Student 6 Name : cd\n",
      "Enter Student 7 Name : dc\n",
      "Enter Student 8 Name : dc\n",
      "Enter Student 9 Name : dc\n",
      "Enter Student 10 Name : cd\n"
     ]
    },
    {
     "ename": "IndexError",
     "evalue": "list assignment index out of range",
     "output_type": "error",
     "traceback": [
      "\u001b[1;31m---------------------------------------------------------------------------\u001b[0m",
      "\u001b[1;31mIndexError\u001b[0m                                Traceback (most recent call last)",
      "Cell \u001b[1;32mIn[25], line 6\u001b[0m\n\u001b[0;32m      3\u001b[0m \u001b[38;5;28;01mfor\u001b[39;00m i \u001b[38;5;129;01min\u001b[39;00m \u001b[38;5;28mrange\u001b[39m(\u001b[38;5;241m1\u001b[39m,\u001b[38;5;241m11\u001b[39m):\n\u001b[0;32m      4\u001b[0m     name \u001b[38;5;241m=\u001b[39m \u001b[38;5;28minput\u001b[39m(\u001b[38;5;124mf\u001b[39m\u001b[38;5;124m\"\u001b[39m\u001b[38;5;124mEnter Student \u001b[39m\u001b[38;5;132;01m{\u001b[39;00mi\u001b[38;5;132;01m}\u001b[39;00m\u001b[38;5;124m Name : \u001b[39m\u001b[38;5;124m\"\u001b[39m)\n\u001b[1;32m----> 6\u001b[0m     names_list[i] \u001b[38;5;241m=\u001b[39m name\n",
      "\u001b[1;31mIndexError\u001b[0m: list assignment index out of range"
     ]
    }
   ],
   "source": [
    "# names_list = []\n",
    "\n",
    "for i in range(1,11):\n",
    "    name = input(f\"Enter Student {i} Name : \")\n",
    "    \n",
    "    names_list[i] = name\n",
    "    "
   ]
  },
  {
   "cell_type": "code",
   "execution_count": 26,
   "id": "ae985bf7",
   "metadata": {},
   "outputs": [
    {
     "name": "stdout",
     "output_type": "stream",
     "text": [
      "['Muhammad', 'dsds', 'cd', 'dc', '', 'cddc', 'cd', 'dc', 'dc', 'dc']\n"
     ]
    }
   ],
   "source": [
    "print(names_list)"
   ]
  },
  {
   "cell_type": "code",
   "execution_count": 21,
   "id": "1be7db89",
   "metadata": {},
   "outputs": [],
   "source": [
    "names_list[9] = \"Aqsa\""
   ]
  },
  {
   "cell_type": "code",
   "execution_count": 24,
   "id": "fb86adbe",
   "metadata": {},
   "outputs": [
    {
     "data": {
      "text/plain": [
       "['Muhammad',\n",
       " 'Muneeb',\n",
       " 'munn',\n",
       " 'muhhj',\n",
       " 'hfg',\n",
       " 'dsnjhdf',\n",
       " 'sdnjdf',\n",
       " 'dfbjdfdf',\n",
       " 'nhjhf',\n",
       " 'jnhjf']"
      ]
     },
     "execution_count": 24,
     "metadata": {},
     "output_type": "execute_result"
    }
   ],
   "source": [
    "names_list"
   ]
  },
  {
   "cell_type": "code",
   "execution_count": 28,
   "id": "f15a1864",
   "metadata": {},
   "outputs": [],
   "source": [
    "second_names_list =[\"Muneeb2\",\"Ashraf2\",\"Alhas2\"]"
   ]
  },
  {
   "cell_type": "code",
   "execution_count": null,
   "id": "eb733e31",
   "metadata": {},
   "outputs": [],
   "source": [
    "names_list.extend(second_names_list)"
   ]
  }
 ],
 "metadata": {
  "kernelspec": {
   "display_name": "Python 3 (ipykernel)",
   "language": "python",
   "name": "python3"
  },
  "language_info": {
   "codemirror_mode": {
    "name": "ipython",
    "version": 3
   },
   "file_extension": ".py",
   "mimetype": "text/x-python",
   "name": "python",
   "nbconvert_exporter": "python",
   "pygments_lexer": "ipython3",
   "version": "3.11.4"
  }
 },
 "nbformat": 4,
 "nbformat_minor": 5
}
