{
 "cells": [
  {
   "cell_type": "markdown",
   "id": "9ac67706",
   "metadata": {},
   "source": [
    "# List"
   ]
  },
  {
   "cell_type": "code",
   "execution_count": null,
   "id": "7c54c95c",
   "metadata": {},
   "outputs": [],
   "source": [
    "# 10 Students Name"
   ]
  },
  {
   "cell_type": "code",
   "execution_count": 3,
   "id": "53d69d0e",
   "metadata": {},
   "outputs": [
    {
     "name": "stdout",
     "output_type": "stream",
     "text": [
      "Enter Your Name : Ashraf\n"
     ]
    }
   ],
   "source": [
    "name = input(\"Enter Your Name : \")"
   ]
  },
  {
   "cell_type": "code",
   "execution_count": 4,
   "id": "eb2f0bd9",
   "metadata": {},
   "outputs": [
    {
     "data": {
      "text/plain": [
       "'Ashraf'"
      ]
     },
     "execution_count": 4,
     "metadata": {},
     "output_type": "execute_result"
    }
   ],
   "source": [
    "name"
   ]
  },
  {
   "cell_type": "code",
   "execution_count": 6,
   "id": "60d9ec0a",
   "metadata": {},
   "outputs": [],
   "source": [
    "# list is the uer define Data Type\n",
    "# One Dimentional List Called Array and array contain single Data Type\n",
    "# List Called Hetrogenious Means List can Contains Multiple Data Types\n",
    "\n",
    "names_list = [\"Muhammad\",\"Muneeb\",\"Ashraf\"]"
   ]
  },
  {
   "cell_type": "code",
   "execution_count": 1,
   "id": "ef0c9f35",
   "metadata": {},
   "outputs": [],
   "source": [
    "name_list = [\"Muneeb\" , True , 27 , 3.142]"
   ]
  },
  {
   "cell_type": "code",
   "execution_count": 7,
   "id": "16d8adb1",
   "metadata": {},
   "outputs": [
    {
     "data": {
      "text/plain": [
       "['Muhammad', 'Muneeb', 'Ashraf']"
      ]
     },
     "execution_count": 7,
     "metadata": {},
     "output_type": "execute_result"
    }
   ],
   "source": [
    "names_list"
   ]
  },
  {
   "cell_type": "code",
   "execution_count": null,
   "id": "3cd99b69",
   "metadata": {},
   "outputs": [],
   "source": [
    "# name apko input lena hai or usko save karty jana hai list mai"
   ]
  },
  {
   "cell_type": "code",
   "execution_count": 10,
   "id": "cdf777ca",
   "metadata": {},
   "outputs": [
    {
     "name": "stdout",
     "output_type": "stream",
     "text": [
      "Enter Your Name : Ashraf\n",
      "['Ashraf']\n"
     ]
    }
   ],
   "source": [
    "names_list = [] #Empty List\n",
    "name = input(\"Enter Your Name : \")\n",
    "\n",
    "# First Way To Add Name In List\n",
    "\n",
    "# Add\n",
    "names_list.append(name) # Append Add Data At The End Of The List\n",
    "\n",
    "print(names_list)"
   ]
  },
  {
   "cell_type": "code",
   "execution_count": 9,
   "id": "ac234688",
   "metadata": {},
   "outputs": [
    {
     "data": {
      "text/plain": [
       "['muneeb']"
      ]
     },
     "execution_count": 9,
     "metadata": {},
     "output_type": "execute_result"
    }
   ],
   "source": [
    "names_list"
   ]
  },
  {
   "cell_type": "code",
   "execution_count": 58,
   "id": "3cfcdbe7",
   "metadata": {},
   "outputs": [
    {
     "name": "stdout",
     "output_type": "stream",
     "text": [
      "Enter Student 1 Name : Muhammad\n",
      "Enter Student 2 Name : Muneeb\n",
      "Enter Student 3 Name : Ashraf\n",
      "Enter Student 4 Name : Alhas\n",
      "Enter Student 5 Name : Ibtehaj\n",
      "Enter Student 6 Name : Mohsin\n",
      "Enter Student 7 Name : Haris\n",
      "Enter Student 8 Name : Ahmed\n",
      "Enter Student 9 Name : Asad\n",
      "Enter Student 10 Name : Waqas\n"
     ]
    }
   ],
   "source": [
    "names_list = []\n",
    "\n",
    "for i in range(1,11):\n",
    "    name = input(f\"Enter Student {i} Name : \")\n",
    "    \n",
    "    names_list.append(name)\n",
    "    "
   ]
  },
  {
   "cell_type": "code",
   "execution_count": 59,
   "id": "4f61f6b9",
   "metadata": {},
   "outputs": [
    {
     "name": "stdout",
     "output_type": "stream",
     "text": [
      "['Muhammad', 'Muneeb', 'Ashraf', 'Alhas', 'Ibtehaj', 'Mohsin', 'Haris', 'Ahmed', 'Asad', 'Waqas']\n"
     ]
    }
   ],
   "source": [
    "print(names_list)"
   ]
  },
  {
   "cell_type": "code",
   "execution_count": 5,
   "id": "cbb9086e",
   "metadata": {},
   "outputs": [
    {
     "name": "stdout",
     "output_type": "stream",
     "text": [
      "Enter Student 2 Name : m\n"
     ]
    },
    {
     "ename": "IndexError",
     "evalue": "list assignment index out of range",
     "output_type": "error",
     "traceback": [
      "\u001b[1;31m---------------------------------------------------------------------------\u001b[0m",
      "\u001b[1;31mIndexError\u001b[0m                                Traceback (most recent call last)",
      "Cell \u001b[1;32mIn[5], line 6\u001b[0m\n\u001b[0;32m      3\u001b[0m \u001b[38;5;28;01mfor\u001b[39;00m i \u001b[38;5;129;01min\u001b[39;00m \u001b[38;5;28mrange\u001b[39m(\u001b[38;5;241m2\u001b[39m,\u001b[38;5;241m11\u001b[39m):\n\u001b[0;32m      4\u001b[0m     name \u001b[38;5;241m=\u001b[39m \u001b[38;5;28minput\u001b[39m(\u001b[38;5;124mf\u001b[39m\u001b[38;5;124m\"\u001b[39m\u001b[38;5;124mEnter Student \u001b[39m\u001b[38;5;132;01m{\u001b[39;00mi\u001b[38;5;132;01m}\u001b[39;00m\u001b[38;5;124m Name : \u001b[39m\u001b[38;5;124m\"\u001b[39m)\n\u001b[1;32m----> 6\u001b[0m     names_list_with_index[i] \u001b[38;5;241m=\u001b[39m name\n",
      "\u001b[1;31mIndexError\u001b[0m: list assignment index out of range"
     ]
    }
   ],
   "source": [
    "names_list_with_index = []\n",
    "\n",
    "for i in range(1,11):\n",
    "    name = input(f\"Enter Student {i} Name : \")\n",
    "    \n",
    "    names_list_with_index[i] = name\n",
    "    "
   ]
  },
  {
   "cell_type": "code",
   "execution_count": 7,
   "id": "ae985bf7",
   "metadata": {},
   "outputs": [
    {
     "name": "stdout",
     "output_type": "stream",
     "text": [
      "[]\n"
     ]
    }
   ],
   "source": [
    "print(names_list_with_index)"
   ]
  },
  {
   "cell_type": "code",
   "execution_count": 60,
   "id": "1be7db89",
   "metadata": {},
   "outputs": [],
   "source": [
    "names_list[9] = \"Aqsa\""
   ]
  },
  {
   "cell_type": "code",
   "execution_count": 61,
   "id": "fb86adbe",
   "metadata": {},
   "outputs": [
    {
     "data": {
      "text/plain": [
       "['Muhammad',\n",
       " 'Muneeb',\n",
       " 'Ashraf',\n",
       " 'Alhas',\n",
       " 'Ibtehaj',\n",
       " 'Mohsin',\n",
       " 'Haris',\n",
       " 'Ahmed',\n",
       " 'Asad',\n",
       " 'Aqsa']"
      ]
     },
     "execution_count": 61,
     "metadata": {},
     "output_type": "execute_result"
    }
   ],
   "source": [
    "names_list"
   ]
  },
  {
   "cell_type": "code",
   "execution_count": 62,
   "id": "f15a1864",
   "metadata": {},
   "outputs": [],
   "source": [
    "second_names_list =[\"Muneeb2\",\"Ashraf2\",\"Alhas2\" , \"Asad2\"]"
   ]
  },
  {
   "cell_type": "code",
   "execution_count": 63,
   "id": "b9e9f739",
   "metadata": {},
   "outputs": [
    {
     "data": {
      "text/plain": [
       "['Muneeb2', 'Ashraf2', 'Alhas2', 'Asad2']"
      ]
     },
     "execution_count": 63,
     "metadata": {},
     "output_type": "execute_result"
    }
   ],
   "source": [
    "second_names_list"
   ]
  },
  {
   "cell_type": "code",
   "execution_count": 64,
   "id": "9989f321",
   "metadata": {},
   "outputs": [],
   "source": [
    "extraList = names_list"
   ]
  },
  {
   "cell_type": "code",
   "execution_count": 65,
   "id": "1c6aa06d",
   "metadata": {},
   "outputs": [
    {
     "name": "stdout",
     "output_type": "stream",
     "text": [
      "['Muhammad', 'Muneeb', 'Ashraf', 'Alhas', 'Ibtehaj', 'Mohsin', 'Haris', 'Ahmed', 'Asad', 'Aqsa']\n"
     ]
    }
   ],
   "source": [
    "print(extraList)"
   ]
  },
  {
   "cell_type": "code",
   "execution_count": null,
   "id": "cf68ab05",
   "metadata": {},
   "outputs": [],
   "source": []
  },
  {
   "cell_type": "code",
   "execution_count": null,
   "id": "f8b38186",
   "metadata": {},
   "outputs": [],
   "source": []
  },
  {
   "cell_type": "code",
   "execution_count": 66,
   "id": "eb733e31",
   "metadata": {},
   "outputs": [],
   "source": [
    "# Append Always Consider the Whole Value As a Single Value (single Values Added) \n",
    "extraList.append(second_names_list)"
   ]
  },
  {
   "cell_type": "code",
   "execution_count": 67,
   "id": "ca2d973a",
   "metadata": {},
   "outputs": [
    {
     "name": "stdout",
     "output_type": "stream",
     "text": [
      "['Muhammad', 'Muneeb', 'Ashraf', 'Alhas', 'Ibtehaj', 'Mohsin', 'Haris', 'Ahmed', 'Asad', 'Aqsa', ['Muneeb2', 'Ashraf2', 'Alhas2', 'Asad2']]\n"
     ]
    }
   ],
   "source": [
    "print (extraList)"
   ]
  },
  {
   "cell_type": "code",
   "execution_count": 70,
   "id": "259c312b",
   "metadata": {},
   "outputs": [
    {
     "name": "stdout",
     "output_type": "stream",
     "text": [
      "['Muhammad', 'Muneeb', 'Ashraf', 'Alhas', 'Ibtehaj', 'Mohsin', 'Haris', 'Ahmed', 'Asad', 'Aqsa', ['Muneeb2', 'Ashraf2', 'Alhas2', 'Asad2']]\n"
     ]
    }
   ],
   "source": [
    "print(names_list)"
   ]
  },
  {
   "cell_type": "code",
   "execution_count": 71,
   "id": "d564790e",
   "metadata": {},
   "outputs": [],
   "source": [
    "# Extend Consider the Whole Value As an Multiple Values and Add At The End Like Append (Multiple Values Added)\n",
    "names_list.extend(second_names_list)"
   ]
  },
  {
   "cell_type": "code",
   "execution_count": 72,
   "id": "5372b433",
   "metadata": {},
   "outputs": [
    {
     "name": "stdout",
     "output_type": "stream",
     "text": [
      "['Muhammad', 'Muneeb', 'Ashraf', 'Alhas', 'Ibtehaj', 'Mohsin', 'Haris', 'Ahmed', 'Asad', 'Aqsa', ['Muneeb2', 'Ashraf2', 'Alhas2', 'Asad2'], 'Muneeb2', 'Ashraf2', 'Alhas2', 'Asad2']\n"
     ]
    }
   ],
   "source": [
    "print(names_list)"
   ]
  },
  {
   "cell_type": "code",
   "execution_count": 74,
   "id": "6b5f208a",
   "metadata": {},
   "outputs": [
    {
     "data": {
      "text/plain": [
       "10"
      ]
     },
     "execution_count": 74,
     "metadata": {},
     "output_type": "execute_result"
    }
   ],
   "source": [
    "int(\"10\")"
   ]
  },
  {
   "cell_type": "code",
   "execution_count": 73,
   "id": "a8226de5",
   "metadata": {},
   "outputs": [
    {
     "data": {
      "text/plain": [
       "'Hello'"
      ]
     },
     "execution_count": 73,
     "metadata": {},
     "output_type": "execute_result"
    }
   ],
   "source": [
    "\"Hello\""
   ]
  },
  {
   "cell_type": "code",
   "execution_count": 75,
   "id": "aba8398e",
   "metadata": {},
   "outputs": [
    {
     "data": {
      "text/plain": [
       "['H', 'e', 'l', 'l', 'o']"
      ]
     },
     "execution_count": 75,
     "metadata": {},
     "output_type": "execute_result"
    }
   ],
   "source": [
    "list(\"Hello\")"
   ]
  },
  {
   "cell_type": "code",
   "execution_count": 76,
   "id": "fba01f3a",
   "metadata": {},
   "outputs": [
    {
     "ename": "TypeError",
     "evalue": "'str' object does not support item assignment",
     "output_type": "error",
     "traceback": [
      "\u001b[1;31m---------------------------------------------------------------------------\u001b[0m",
      "\u001b[1;31mTypeError\u001b[0m                                 Traceback (most recent call last)",
      "Cell \u001b[1;32mIn[76], line 2\u001b[0m\n\u001b[0;32m      1\u001b[0m name \u001b[38;5;241m=\u001b[39m \u001b[38;5;124m\"\u001b[39m\u001b[38;5;124mhello\u001b[39m\u001b[38;5;124m\"\u001b[39m\n\u001b[1;32m----> 2\u001b[0m name[\u001b[38;5;241m3\u001b[39m] \u001b[38;5;241m=\u001b[39m \u001b[38;5;124m\"\u001b[39m\u001b[38;5;124mr\u001b[39m\u001b[38;5;124m\"\u001b[39m\n",
      "\u001b[1;31mTypeError\u001b[0m: 'str' object does not support item assignment"
     ]
    }
   ],
   "source": [
    "# Strings Are Immutable\n",
    "\n",
    "name = \"hello\"\n",
    "name[3] = \"r\""
   ]
  },
  {
   "cell_type": "markdown",
   "id": "01341368",
   "metadata": {},
   "source": [
    "strings , Tuple are Immutable\n",
    "\n",
    "can we Update Those?"
   ]
  },
  {
   "cell_type": "code",
   "execution_count": null,
   "id": "260083c8",
   "metadata": {},
   "outputs": [],
   "source": [
    "s = \"hello\"\n",
    "s = \"Hello\"  # Reassignment creates a new string object"
   ]
  },
  {
   "cell_type": "code",
   "execution_count": null,
   "id": "9bba0c35",
   "metadata": {},
   "outputs": [],
   "source": [
    "t = (1, [2, 3], 4)\n",
    "t[1][0] = 99  # Allowed because the list inside the tuple is mutable\n",
    "print(t)  # (1, [99, 3], 4)"
   ]
  },
  {
   "cell_type": "code",
   "execution_count": 77,
   "id": "b107978c",
   "metadata": {},
   "outputs": [
    {
     "data": {
      "text/plain": [
       "'Aqsa'"
      ]
     },
     "execution_count": 77,
     "metadata": {},
     "output_type": "execute_result"
    }
   ],
   "source": [
    "names_list[9]"
   ]
  },
  {
   "cell_type": "code",
   "execution_count": 78,
   "id": "c0a5c910",
   "metadata": {},
   "outputs": [
    {
     "data": {
      "text/plain": [
       "['Muhammad',\n",
       " 'Muneeb',\n",
       " 'Ashraf',\n",
       " 'Alhas',\n",
       " 'Ibtehaj',\n",
       " 'Mohsin',\n",
       " 'Haris',\n",
       " 'Ahmed',\n",
       " 'Asad',\n",
       " 'Aqsa',\n",
       " ['Muneeb2', 'Ashraf2', 'Alhas2', 'Asad2'],\n",
       " 'Muneeb2',\n",
       " 'Ashraf2',\n",
       " 'Alhas2',\n",
       " 'Asad2']"
      ]
     },
     "execution_count": 78,
     "metadata": {},
     "output_type": "execute_result"
    }
   ],
   "source": [
    "names_list[:]"
   ]
  },
  {
   "cell_type": "code",
   "execution_count": 80,
   "id": "c1fc7b72",
   "metadata": {},
   "outputs": [
    {
     "data": {
      "text/plain": [
       "'Alhas2'"
      ]
     },
     "execution_count": 80,
     "metadata": {},
     "output_type": "execute_result"
    }
   ],
   "source": [
    "names_list[10][2]"
   ]
  },
  {
   "cell_type": "code",
   "execution_count": 81,
   "id": "0f594f1b",
   "metadata": {},
   "outputs": [
    {
     "ename": "IndexError",
     "evalue": "list index out of range",
     "output_type": "error",
     "traceback": [
      "\u001b[1;31m---------------------------------------------------------------------------\u001b[0m",
      "\u001b[1;31mIndexError\u001b[0m                                Traceback (most recent call last)",
      "Cell \u001b[1;32mIn[81], line 1\u001b[0m\n\u001b[1;32m----> 1\u001b[0m names_list[\u001b[38;5;241m10\u001b[39m][\u001b[38;5;241m4\u001b[39m]\n",
      "\u001b[1;31mIndexError\u001b[0m: list index out of range"
     ]
    }
   ],
   "source": [
    "names_list[10][4]"
   ]
  },
  {
   "cell_type": "code",
   "execution_count": null,
   "id": "1a9f20ca",
   "metadata": {},
   "outputs": [],
   "source": []
  }
 ],
 "metadata": {
  "kernelspec": {
   "display_name": "Python 3 (ipykernel)",
   "language": "python",
   "name": "python3"
  },
  "language_info": {
   "codemirror_mode": {
    "name": "ipython",
    "version": 3
   },
   "file_extension": ".py",
   "mimetype": "text/x-python",
   "name": "python",
   "nbconvert_exporter": "python",
   "pygments_lexer": "ipython3",
   "version": "3.11.4"
  }
 },
 "nbformat": 4,
 "nbformat_minor": 5
}
