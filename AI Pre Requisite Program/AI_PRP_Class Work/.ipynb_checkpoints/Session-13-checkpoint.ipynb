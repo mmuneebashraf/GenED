{
 "cells": [
  {
   "cell_type": "code",
   "execution_count": 2,
   "id": "e64e8b36",
   "metadata": {},
   "outputs": [],
   "source": [
    "name = \"\" if else None"
   ]
  },
  {
   "cell_type": "markdown",
   "id": "5116dab5",
   "metadata": {},
   "source": [
    "# List Comprehension"
   ]
  },
  {
   "cell_type": "code",
   "execution_count": 5,
   "id": "03da5b92",
   "metadata": {},
   "outputs": [],
   "source": [
    "name = []\n",
    "for i in range (0,10):\n",
    "    name.append(i)"
   ]
  },
  {
   "cell_type": "code",
   "execution_count": 6,
   "id": "dd6f89d9",
   "metadata": {},
   "outputs": [
    {
     "data": {
      "text/plain": [
       "[0, 1, 2, 3, 4, 5, 6, 7, 8, 9]"
      ]
     },
     "execution_count": 6,
     "metadata": {},
     "output_type": "execute_result"
    }
   ],
   "source": [
    "name"
   ]
  },
  {
   "cell_type": "code",
   "execution_count": 7,
   "id": "5d1be762",
   "metadata": {},
   "outputs": [],
   "source": [
    "name = [i for i in range(0,10)]"
   ]
  },
  {
   "cell_type": "code",
   "execution_count": 8,
   "id": "d9c909e1",
   "metadata": {},
   "outputs": [
    {
     "data": {
      "text/plain": [
       "[0, 1, 2, 3, 4, 5, 6, 7, 8, 9]"
      ]
     },
     "execution_count": 8,
     "metadata": {},
     "output_type": "execute_result"
    }
   ],
   "source": [
    "name"
   ]
  },
  {
   "cell_type": "code",
   "execution_count": 9,
   "id": "4b40f4a9",
   "metadata": {},
   "outputs": [],
   "source": [
    "sque_list = []\n",
    "for i in range(0,10):\n",
    "    sque_list.append(i**2)"
   ]
  },
  {
   "cell_type": "code",
   "execution_count": 10,
   "id": "943a13aa",
   "metadata": {},
   "outputs": [
    {
     "data": {
      "text/plain": [
       "[0, 1, 4, 9, 16, 25, 36, 49, 64, 81]"
      ]
     },
     "execution_count": 10,
     "metadata": {},
     "output_type": "execute_result"
    }
   ],
   "source": [
    "sque_list"
   ]
  },
  {
   "cell_type": "code",
   "execution_count": 11,
   "id": "8f2255fb",
   "metadata": {},
   "outputs": [],
   "source": [
    "sque_list2 = [i**2 for i in range (0,10)]"
   ]
  },
  {
   "cell_type": "code",
   "execution_count": 12,
   "id": "285b8e85",
   "metadata": {},
   "outputs": [
    {
     "data": {
      "text/plain": [
       "[0, 1, 4, 9, 16, 25, 36, 49, 64, 81]"
      ]
     },
     "execution_count": 12,
     "metadata": {},
     "output_type": "execute_result"
    }
   ],
   "source": [
    "sque_list2"
   ]
  },
  {
   "cell_type": "code",
   "execution_count": 13,
   "id": "fc04a540",
   "metadata": {},
   "outputs": [],
   "source": [
    "sque_list = []\n",
    "for i in range(0,10):\n",
    "    if i%2 == 0:\n",
    "        sque_list.append(i**2)"
   ]
  },
  {
   "cell_type": "code",
   "execution_count": 14,
   "id": "9d4ef453",
   "metadata": {},
   "outputs": [
    {
     "data": {
      "text/plain": [
       "[0, 4, 16, 36, 64]"
      ]
     },
     "execution_count": 14,
     "metadata": {},
     "output_type": "execute_result"
    }
   ],
   "source": [
    "sque_list"
   ]
  },
  {
   "cell_type": "code",
   "execution_count": 15,
   "id": "0eb8ea1f",
   "metadata": {},
   "outputs": [],
   "source": [
    "sque_list3 = [i**2 for i in range (0,10) if i%2 == 0]"
   ]
  },
  {
   "cell_type": "code",
   "execution_count": 16,
   "id": "abadcef4",
   "metadata": {},
   "outputs": [
    {
     "data": {
      "text/plain": [
       "[0, 4, 16, 36, 64]"
      ]
     },
     "execution_count": 16,
     "metadata": {},
     "output_type": "execute_result"
    }
   ],
   "source": [
    "sque_list3"
   ]
  },
  {
   "cell_type": "markdown",
   "id": "a2ae215a",
   "metadata": {},
   "source": [
    "# Dictionary Comprehension"
   ]
  },
  {
   "cell_type": "code",
   "execution_count": 22,
   "id": "c736ac50",
   "metadata": {},
   "outputs": [],
   "source": [
    "data = {\n",
    "    \"name\": \"Muneeb\",\n",
    "    \"age\": \"27\"\n",
    "}"
   ]
  },
  {
   "cell_type": "code",
   "execution_count": 19,
   "id": "f2b774c6",
   "metadata": {},
   "outputs": [
    {
     "data": {
      "text/plain": [
       "dict_keys(['name', 'age'])"
      ]
     },
     "execution_count": 19,
     "metadata": {},
     "output_type": "execute_result"
    }
   ],
   "source": [
    "data.keys()"
   ]
  },
  {
   "cell_type": "code",
   "execution_count": null,
   "id": "393d3485",
   "metadata": {},
   "outputs": [],
   "source": []
  },
  {
   "cell_type": "code",
   "execution_count": 23,
   "id": "35796db5",
   "metadata": {},
   "outputs": [
    {
     "name": "stdout",
     "output_type": "stream",
     "text": [
      "name muneeb\n",
      "age 27\n"
     ]
    }
   ],
   "source": [
    "for k,v in data.items():\n",
    "  print(k,v.lower())"
   ]
  },
  {
   "cell_type": "code",
   "execution_count": 25,
   "id": "4e31e5b4",
   "metadata": {},
   "outputs": [
    {
     "name": "stdout",
     "output_type": "stream",
     "text": [
      "0 0\n",
      "1 1\n",
      "2 4\n",
      "3 9\n",
      "4 16\n",
      "5 25\n",
      "6 36\n",
      "7 49\n",
      "8 64\n",
      "9 81\n"
     ]
    }
   ],
   "source": [
    "for i in range(0,10):\n",
    "    print(i , i**2)"
   ]
  },
  {
   "cell_type": "code",
   "execution_count": 26,
   "id": "221c80da",
   "metadata": {},
   "outputs": [
    {
     "name": "stdout",
     "output_type": "stream",
     "text": [
      "{0: 0, 1: 1, 2: 4, 3: 9, 4: 16, 5: 25, 6: 36, 7: 49, 8: 64, 9: 81}\n"
     ]
    }
   ],
   "source": [
    "square_list_dic = {i : i**2 for i in range(0,10) }\n",
    "\n",
    "print(square_list)"
   ]
  },
  {
   "cell_type": "code",
   "execution_count": 29,
   "id": "a18bf3a9",
   "metadata": {},
   "outputs": [
    {
     "name": "stdout",
     "output_type": "stream",
     "text": [
      "{0: 0, 2: 4, 4: 16, 6: 36, 8: 64}\n"
     ]
    }
   ],
   "source": [
    "square_list_dic2 = {i : i**2 for i in range(0,10) if i%2==0 }\n",
    "\n",
    "print(square_list_dic2)"
   ]
  },
  {
   "cell_type": "code",
   "execution_count": 30,
   "id": "399f4db9",
   "metadata": {},
   "outputs": [],
   "source": [
    "data = {\n",
    "    \"a\":1,\n",
    "    \"b\":2,\n",
    "    \"c\":3\n",
    "}"
   ]
  },
  {
   "cell_type": "code",
   "execution_count": null,
   "id": "f0a8c300",
   "metadata": {},
   "outputs": [],
   "source": [
    "list_comp = {}"
   ]
  },
  {
   "cell_type": "code",
   "execution_count": 31,
   "id": "fd94687a",
   "metadata": {},
   "outputs": [
    {
     "name": "stdout",
     "output_type": "stream",
     "text": [
      "{1: 'a', 2: 'b', 3: 'c'}\n"
     ]
    }
   ],
   "source": [
    "data = { \"a\": 1, \"b\": 2, \"c\": 3 }\n",
    "reversed_data = {v: k for k, v in data.items()}\n",
    "print(reversed_data)"
   ]
  },
  {
   "cell_type": "markdown",
   "id": "4490757b",
   "metadata": {},
   "source": [
    "# Tuple Comprehension"
   ]
  },
  {
   "cell_type": "code",
   "execution_count": 35,
   "id": "c0fc722f",
   "metadata": {},
   "outputs": [],
   "source": [
    "sar_list = (i**2 for i in range(0,10) if i%2 == 0)"
   ]
  },
  {
   "cell_type": "code",
   "execution_count": 36,
   "id": "e4ea2165",
   "metadata": {},
   "outputs": [
    {
     "data": {
      "text/plain": [
       "<generator object <genexpr> at 0x000001DA68359220>"
      ]
     },
     "execution_count": 36,
     "metadata": {},
     "output_type": "execute_result"
    }
   ],
   "source": [
    "sar_list"
   ]
  },
  {
   "cell_type": "code",
   "execution_count": null,
   "id": "e533e113",
   "metadata": {},
   "outputs": [],
   "source": [
    "squa_list = [i**2 for i in range(0,100000) if i%2 == 0]"
   ]
  },
  {
   "cell_type": "code",
   "execution_count": 37,
   "id": "885e8ca1",
   "metadata": {},
   "outputs": [
    {
     "data": {
      "text/plain": [
       "0"
      ]
     },
     "execution_count": 37,
     "metadata": {},
     "output_type": "execute_result"
    }
   ],
   "source": [
    "next(sar_list)"
   ]
  },
  {
   "cell_type": "code",
   "execution_count": 38,
   "id": "926555c5",
   "metadata": {},
   "outputs": [
    {
     "data": {
      "text/plain": [
       "4"
      ]
     },
     "execution_count": 38,
     "metadata": {},
     "output_type": "execute_result"
    }
   ],
   "source": [
    "next(sar_list)"
   ]
  },
  {
   "cell_type": "code",
   "execution_count": 39,
   "id": "3a1a6a46",
   "metadata": {},
   "outputs": [
    {
     "data": {
      "text/plain": [
       "16"
      ]
     },
     "execution_count": 39,
     "metadata": {},
     "output_type": "execute_result"
    }
   ],
   "source": [
    "next(sar_list)"
   ]
  },
  {
   "cell_type": "raw",
   "id": "2518633e",
   "metadata": {},
   "source": []
  },
  {
   "cell_type": "code",
   "execution_count": 40,
   "id": "1fc38e20",
   "metadata": {},
   "outputs": [
    {
     "data": {
      "text/plain": [
       "[(0, 0), (1, 1), (2, 4), (3, 9)]"
      ]
     },
     "execution_count": 40,
     "metadata": {},
     "output_type": "execute_result"
    }
   ],
   "source": [
    "[(0,0),(1,1),(2,4),(3,9)]"
   ]
  },
  {
   "cell_type": "code",
   "execution_count": 43,
   "id": "2162da68",
   "metadata": {},
   "outputs": [
    {
     "data": {
      "text/plain": [
       "[(0, 0),\n",
       " (1, 1),\n",
       " (2, 4),\n",
       " (3, 9),\n",
       " (4, 16),\n",
       " (5, 25),\n",
       " (6, 36),\n",
       " (7, 49),\n",
       " (8, 64),\n",
       " (9, 81)]"
      ]
     },
     "execution_count": 43,
     "metadata": {},
     "output_type": "execute_result"
    }
   ],
   "source": [
    "square_tuple = [(i,i**2) for i in range(0,10)]\n",
    "square_tuple"
   ]
  },
  {
   "cell_type": "code",
   "execution_count": 44,
   "id": "b7c2afbd",
   "metadata": {},
   "outputs": [
    {
     "data": {
      "text/plain": [
       "[[0, 0],\n",
       " [1, 1],\n",
       " [2, 4],\n",
       " [3, 9],\n",
       " [4, 16],\n",
       " [5, 25],\n",
       " [6, 36],\n",
       " [7, 49],\n",
       " [8, 64],\n",
       " [9, 81]]"
      ]
     },
     "execution_count": 44,
     "metadata": {},
     "output_type": "execute_result"
    }
   ],
   "source": [
    "square_tuple = [[i,i**2] for i in range(0,10)]\n",
    "square_tuple"
   ]
  },
  {
   "cell_type": "code",
   "execution_count": 45,
   "id": "788f6df3",
   "metadata": {},
   "outputs": [],
   "source": [
    "words = [\"Python\",\"is\",\"awesome\"]"
   ]
  },
  {
   "cell_type": "code",
   "execution_count": 46,
   "id": "0646d188",
   "metadata": {},
   "outputs": [
    {
     "data": {
      "text/plain": [
       "3"
      ]
     },
     "execution_count": 46,
     "metadata": {},
     "output_type": "execute_result"
    }
   ],
   "source": [
    "len(words)"
   ]
  },
  {
   "cell_type": "code",
   "execution_count": 48,
   "id": "666b0793",
   "metadata": {},
   "outputs": [
    {
     "ename": "SyntaxError",
     "evalue": "invalid syntax (4057077309.py, line 1)",
     "output_type": "error",
     "traceback": [
      "\u001b[1;36m  Cell \u001b[1;32mIn[48], line 1\u001b[1;36m\u001b[0m\n\u001b[1;33m    [i:len(words) for i in words]\u001b[0m\n\u001b[1;37m      ^\u001b[0m\n\u001b[1;31mSyntaxError\u001b[0m\u001b[1;31m:\u001b[0m invalid syntax\n"
     ]
    }
   ],
   "source": [
    "[i:len(i) for i in words]"
   ]
  },
  {
   "cell_type": "code",
   "execution_count": 50,
   "id": "945fa74f",
   "metadata": {},
   "outputs": [],
   "source": [
    "words= [\"Python\", \"is\" , \"awesome\"]\n",
    "length_of_words={i: len(i) for i in words}"
   ]
  },
  {
   "cell_type": "code",
   "execution_count": 51,
   "id": "420251bc",
   "metadata": {},
   "outputs": [
    {
     "data": {
      "text/plain": [
       "{'Python': 6, 'is': 2, 'awesome': 7}"
      ]
     },
     "execution_count": 51,
     "metadata": {},
     "output_type": "execute_result"
    }
   ],
   "source": [
    "length_of_words"
   ]
  },
  {
   "cell_type": "code",
   "execution_count": 52,
   "id": "8bb86325",
   "metadata": {},
   "outputs": [],
   "source": [
    "length_of_words={i: i.lower() for i in words}"
   ]
  },
  {
   "cell_type": "code",
   "execution_count": 53,
   "id": "986e59c9",
   "metadata": {},
   "outputs": [
    {
     "data": {
      "text/plain": [
       "{'Python': 'python', 'is': 'is', 'awesome': 'awesome'}"
      ]
     },
     "execution_count": 53,
     "metadata": {},
     "output_type": "execute_result"
    }
   ],
   "source": [
    "length_of_words"
   ]
  },
  {
   "cell_type": "code",
   "execution_count": null,
   "id": "e3e6d9cd",
   "metadata": {},
   "outputs": [],
   "source": [
    "\"Hello World\"\n",
    "\"olleH dlroW\"\n",
    "# Do it with Comprehension"
   ]
  }
 ],
 "metadata": {
  "kernelspec": {
   "display_name": "Python 3 (ipykernel)",
   "language": "python",
   "name": "python3"
  },
  "language_info": {
   "codemirror_mode": {
    "name": "ipython",
    "version": 3
   },
   "file_extension": ".py",
   "mimetype": "text/x-python",
   "name": "python",
   "nbconvert_exporter": "python",
   "pygments_lexer": "ipython3",
   "version": "3.11.4"
  }
 },
 "nbformat": 4,
 "nbformat_minor": 5
}
