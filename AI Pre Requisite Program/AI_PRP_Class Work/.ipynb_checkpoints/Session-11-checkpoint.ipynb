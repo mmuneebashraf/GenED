{
 "cells": [
  {
   "cell_type": "markdown",
   "id": "11abf535",
   "metadata": {},
   "source": [
    "# Tuple"
   ]
  },
  {
   "cell_type": "code",
   "execution_count": 7,
   "id": "af132f44",
   "metadata": {},
   "outputs": [],
   "source": [
    "names_tuple = (1,2,4,5)"
   ]
  },
  {
   "cell_type": "code",
   "execution_count": 8,
   "id": "b2ebf2c2",
   "metadata": {},
   "outputs": [
    {
     "data": {
      "text/plain": [
       "1"
      ]
     },
     "execution_count": 8,
     "metadata": {},
     "output_type": "execute_result"
    }
   ],
   "source": [
    "names_tuple[0]"
   ]
  },
  {
   "cell_type": "code",
   "execution_count": 9,
   "id": "78d8cd97",
   "metadata": {},
   "outputs": [],
   "source": [
    "data = (\"Muneeb\" , True , 12)"
   ]
  },
  {
   "cell_type": "code",
   "execution_count": 11,
   "id": "c0535b94",
   "metadata": {},
   "outputs": [],
   "source": [
    "name = data[0]\n",
    "age = data[2]\n",
    "is_pakistani = data[1]"
   ]
  },
  {
   "cell_type": "markdown",
   "id": "50d2f8d4",
   "metadata": {},
   "source": [
    "# Packing"
   ]
  },
  {
   "cell_type": "code",
   "execution_count": 12,
   "id": "45f5c141",
   "metadata": {},
   "outputs": [],
   "source": [
    "name2 , is_pakistani2 , age2 = data#Unpacking"
   ]
  },
  {
   "cell_type": "code",
   "execution_count": 14,
   "id": "6d589dd4",
   "metadata": {},
   "outputs": [
    {
     "data": {
      "text/plain": [
       "'Muneeb'"
      ]
     },
     "execution_count": 14,
     "metadata": {},
     "output_type": "execute_result"
    }
   ],
   "source": [
    "name2"
   ]
  },
  {
   "cell_type": "code",
   "execution_count": 15,
   "id": "80bce8d9",
   "metadata": {},
   "outputs": [
    {
     "data": {
      "text/plain": [
       "str"
      ]
     },
     "execution_count": 15,
     "metadata": {},
     "output_type": "execute_result"
    }
   ],
   "source": [
    "type(name2)"
   ]
  },
  {
   "cell_type": "code",
   "execution_count": 16,
   "id": "5afdeaaa",
   "metadata": {},
   "outputs": [],
   "source": [
    "a,b = \"Muneeb\" , \"Ashraf\""
   ]
  },
  {
   "cell_type": "code",
   "execution_count": 17,
   "id": "2a2bab97",
   "metadata": {},
   "outputs": [
    {
     "data": {
      "text/plain": [
       "'Muneeb'"
      ]
     },
     "execution_count": 17,
     "metadata": {},
     "output_type": "execute_result"
    }
   ],
   "source": [
    "a"
   ]
  },
  {
   "cell_type": "code",
   "execution_count": 18,
   "id": "611928cb",
   "metadata": {},
   "outputs": [],
   "source": [
    "name_list = list(names_tuple)"
   ]
  },
  {
   "cell_type": "code",
   "execution_count": 19,
   "id": "cdc3c2ac",
   "metadata": {},
   "outputs": [
    {
     "data": {
      "text/plain": [
       "[1, 2, 4, 5]"
      ]
     },
     "execution_count": 19,
     "metadata": {},
     "output_type": "execute_result"
    }
   ],
   "source": [
    "name_list"
   ]
  },
  {
   "cell_type": "code",
   "execution_count": 20,
   "id": "2d33c367",
   "metadata": {},
   "outputs": [
    {
     "data": {
      "text/plain": [
       "list"
      ]
     },
     "execution_count": 20,
     "metadata": {},
     "output_type": "execute_result"
    }
   ],
   "source": [
    "type(name_list)"
   ]
  },
  {
   "cell_type": "code",
   "execution_count": 21,
   "id": "41d27365",
   "metadata": {},
   "outputs": [
    {
     "data": {
      "text/plain": [
       "(1, 2, 3, 4, 5, 6)"
      ]
     },
     "execution_count": 21,
     "metadata": {},
     "output_type": "execute_result"
    }
   ],
   "source": [
    "t1 = (1,2,3)\n",
    "t2 = (4,5,6)\n",
    "t1 + t2"
   ]
  },
  {
   "cell_type": "code",
   "execution_count": 22,
   "id": "c49e7339",
   "metadata": {},
   "outputs": [
    {
     "data": {
      "text/plain": [
       "(1, 2, 3, 1, 2, 3, 1, 2, 3, 1, 2, 3, 1, 2, 3)"
      ]
     },
     "execution_count": 22,
     "metadata": {},
     "output_type": "execute_result"
    }
   ],
   "source": [
    "(1,2,3) * 5"
   ]
  },
  {
   "cell_type": "code",
   "execution_count": 23,
   "id": "1cba28f5",
   "metadata": {},
   "outputs": [
    {
     "data": {
      "text/plain": [
       "True"
      ]
     },
     "execution_count": 23,
     "metadata": {},
     "output_type": "execute_result"
    }
   ],
   "source": [
    "2 in t1"
   ]
  },
  {
   "cell_type": "code",
   "execution_count": 24,
   "id": "7c45a511",
   "metadata": {},
   "outputs": [
    {
     "data": {
      "text/plain": [
       "3"
      ]
     },
     "execution_count": 24,
     "metadata": {},
     "output_type": "execute_result"
    }
   ],
   "source": [
    "len(t1)"
   ]
  },
  {
   "cell_type": "code",
   "execution_count": 25,
   "id": "58ffa406",
   "metadata": {},
   "outputs": [],
   "source": [
    "# Find Max Value\n",
    "t4 = (43,56,76,89)"
   ]
  },
  {
   "cell_type": "code",
   "execution_count": 27,
   "id": "75c22ca7",
   "metadata": {},
   "outputs": [
    {
     "data": {
      "text/plain": [
       "89"
      ]
     },
     "execution_count": 27,
     "metadata": {},
     "output_type": "execute_result"
    }
   ],
   "source": [
    "max(t4)"
   ]
  },
  {
   "cell_type": "code",
   "execution_count": 28,
   "id": "44865446",
   "metadata": {},
   "outputs": [
    {
     "data": {
      "text/plain": [
       "43"
      ]
     },
     "execution_count": 28,
     "metadata": {},
     "output_type": "execute_result"
    }
   ],
   "source": [
    "min(t4)"
   ]
  },
  {
   "cell_type": "code",
   "execution_count": 34,
   "id": "76fb9271",
   "metadata": {},
   "outputs": [
    {
     "ename": "IndexError",
     "evalue": "tuple index out of range",
     "output_type": "error",
     "traceback": [
      "\u001b[1;31m---------------------------------------------------------------------------\u001b[0m",
      "\u001b[1;31mIndexError\u001b[0m                                Traceback (most recent call last)",
      "Cell \u001b[1;32mIn[34], line 3\u001b[0m\n\u001b[0;32m      1\u001b[0m num \u001b[38;5;241m=\u001b[39m \u001b[38;5;241m0\u001b[39m\n\u001b[0;32m      2\u001b[0m \u001b[38;5;28;01mfor\u001b[39;00m i \u001b[38;5;129;01min\u001b[39;00m \u001b[38;5;28mrange\u001b[39m(\u001b[38;5;241m1\u001b[39m,\u001b[38;5;28mlen\u001b[39m(t4)):\n\u001b[1;32m----> 3\u001b[0m     \u001b[38;5;28;01mif\u001b[39;00m t4[i] \u001b[38;5;241m>\u001b[39m t4[i\u001b[38;5;241m+\u001b[39m\u001b[38;5;241m1\u001b[39m]:\n\u001b[0;32m      4\u001b[0m         num\u001b[38;5;241m=\u001b[39mt4[i]\n\u001b[0;32m      6\u001b[0m \u001b[38;5;28mprint\u001b[39m(num)\n",
      "\u001b[1;31mIndexError\u001b[0m: tuple index out of range"
     ]
    }
   ],
   "source": [
    "num = 0\n",
    "for i in range(1,len(t4)):\n",
    "    if t4[i] > t4[i+1]:\n",
    "        num=t4[i]\n",
    "        \n",
    "print(num)        "
   ]
  },
  {
   "cell_type": "markdown",
   "id": "6605fa73",
   "metadata": {},
   "source": [
    "# Set"
   ]
  },
  {
   "cell_type": "code",
   "execution_count": 48,
   "id": "f534a66e",
   "metadata": {},
   "outputs": [],
   "source": [
    "l1 = [1,2,3,1,4,3,2]"
   ]
  },
  {
   "cell_type": "code",
   "execution_count": 49,
   "id": "1f17a9a5",
   "metadata": {},
   "outputs": [],
   "source": [
    "s1 = set(l1)"
   ]
  },
  {
   "cell_type": "code",
   "execution_count": 50,
   "id": "88c179d0",
   "metadata": {},
   "outputs": [
    {
     "name": "stdout",
     "output_type": "stream",
     "text": [
      "{1, 2, 3, 4}\n"
     ]
    }
   ],
   "source": [
    "print(s1)"
   ]
  },
  {
   "cell_type": "code",
   "execution_count": 51,
   "id": "5fcd09cf",
   "metadata": {},
   "outputs": [],
   "source": [
    "s1.add(4)"
   ]
  },
  {
   "cell_type": "code",
   "execution_count": 52,
   "id": "2b48c513",
   "metadata": {},
   "outputs": [],
   "source": [
    "s1.add(5)"
   ]
  },
  {
   "cell_type": "code",
   "execution_count": 53,
   "id": "6378d782",
   "metadata": {},
   "outputs": [
    {
     "name": "stdout",
     "output_type": "stream",
     "text": [
      "{1, 2, 3, 4, 5}\n"
     ]
    }
   ],
   "source": [
    "print(s1)"
   ]
  },
  {
   "cell_type": "code",
   "execution_count": 54,
   "id": "2b3ef1c7",
   "metadata": {},
   "outputs": [],
   "source": [
    "s1.remove(3)"
   ]
  },
  {
   "cell_type": "code",
   "execution_count": 55,
   "id": "5c6922ae",
   "metadata": {},
   "outputs": [
    {
     "data": {
      "text/plain": [
       "{1, 2, 4, 5}"
      ]
     },
     "execution_count": 55,
     "metadata": {},
     "output_type": "execute_result"
    }
   ],
   "source": [
    "s1"
   ]
  },
  {
   "cell_type": "code",
   "execution_count": 46,
   "id": "d3009871",
   "metadata": {},
   "outputs": [],
   "source": [
    "s1.clear()"
   ]
  },
  {
   "cell_type": "code",
   "execution_count": 47,
   "id": "318c68d0",
   "metadata": {},
   "outputs": [
    {
     "data": {
      "text/plain": [
       "set()"
      ]
     },
     "execution_count": 47,
     "metadata": {},
     "output_type": "execute_result"
    }
   ],
   "source": [
    "s1"
   ]
  },
  {
   "cell_type": "code",
   "execution_count": 56,
   "id": "21eec7f5",
   "metadata": {},
   "outputs": [],
   "source": [
    "s2 = {4,5,6}"
   ]
  },
  {
   "cell_type": "code",
   "execution_count": 57,
   "id": "ae182f46",
   "metadata": {},
   "outputs": [
    {
     "data": {
      "text/plain": [
       "{1, 2, 4, 5, 6}"
      ]
     },
     "execution_count": 57,
     "metadata": {},
     "output_type": "execute_result"
    }
   ],
   "source": [
    "s1 | s2 # Union"
   ]
  },
  {
   "cell_type": "code",
   "execution_count": 58,
   "id": "69f9c597",
   "metadata": {},
   "outputs": [
    {
     "data": {
      "text/plain": [
       "{4, 5}"
      ]
     },
     "execution_count": 58,
     "metadata": {},
     "output_type": "execute_result"
    }
   ],
   "source": [
    "s1 & s2 # Intersection"
   ]
  },
  {
   "cell_type": "markdown",
   "id": "da8e0360",
   "metadata": {},
   "source": [
    "# Dictionary"
   ]
  },
  {
   "cell_type": "code",
   "execution_count": null,
   "id": "0fa44ea6",
   "metadata": {},
   "outputs": [],
   "source": [
    "{\n",
    "    \"name\" : [\"Muneeb\" , 12 , \"Karachi\"]\n",
    "}"
   ]
  },
  {
   "cell_type": "code",
   "execution_count": 63,
   "id": "e8af3507",
   "metadata": {},
   "outputs": [
    {
     "data": {
      "text/plain": [
       "{'name': {'first_name': 'M Muneeb', 'last_name': 'Ashraf'}}"
      ]
     },
     "execution_count": 63,
     "metadata": {},
     "output_type": "execute_result"
    }
   ],
   "source": [
    "{\n",
    "    \"name\" : {\n",
    "        \"first_name\":\"M Muneeb\",\n",
    "        \"last_name\": \"Ashraf\",\n",
    "    }\n",
    "}"
   ]
  },
  {
   "cell_type": "code",
   "execution_count": 62,
   "id": "615732a2",
   "metadata": {},
   "outputs": [
    {
     "data": {
      "text/plain": [
       "[{'name': 'M Muneeb', 'age': 27, 'location': 'Karachi'}]"
      ]
     },
     "execution_count": 62,
     "metadata": {},
     "output_type": "execute_result"
    }
   ],
   "source": [
    "[{\n",
    "    \"name\" :\"M Muneeb\",\n",
    "    \"age\": 27,\n",
    "    \"location\" : \"Karachi\"\n",
    "}]"
   ]
  },
  {
   "cell_type": "code",
   "execution_count": 64,
   "id": "ede10511",
   "metadata": {},
   "outputs": [
    {
     "data": {
      "text/plain": [
       "[{'name': 'Muneeb', 'age': 27, 'location': 'Karachi'},\n",
       " {'name': 'Ashraf', 'age': 50, 'location': 'Karachi'}]"
      ]
     },
     "execution_count": 64,
     "metadata": {},
     "output_type": "execute_result"
    }
   ],
   "source": [
    "[\n",
    "    {\n",
    "    \"name\" :\"Muneeb\",\n",
    "    \"age\": 27,\n",
    "    \"location\" : \"Karachi\"\n",
    "    },\n",
    "    \n",
    "    {\n",
    "    \"name\" :\"Ashraf\",\n",
    "    \"age\": 50,\n",
    "    \"location\" : \"Karachi\"\n",
    "    }\n",
    "    \n",
    "]"
   ]
  },
  {
   "cell_type": "code",
   "execution_count": 65,
   "id": "7f70bc9e",
   "metadata": {},
   "outputs": [
    {
     "data": {
      "text/plain": [
       "{'name': [], 'age': []}"
      ]
     },
     "execution_count": 65,
     "metadata": {},
     "output_type": "execute_result"
    }
   ],
   "source": [
    "{\n",
    "    \"name\": [],\n",
    "    \"age\": []\n",
    "}"
   ]
  },
  {
   "cell_type": "code",
   "execution_count": 75,
   "id": "ac580ed5",
   "metadata": {},
   "outputs": [],
   "source": [
    "d1= {\n",
    "    \"name\" :\"Muneeb\",\n",
    "    \"age\": 27,\n",
    "    \"location\" : \"Karachi\",\n",
    "    \"name\": \"Ashraf\"\n",
    "    }"
   ]
  },
  {
   "cell_type": "code",
   "execution_count": 68,
   "id": "8793fa92",
   "metadata": {},
   "outputs": [
    {
     "data": {
      "text/plain": [
       "{'name': 'Ashraf', 'age': 27, 'location': 'Karachi'}"
      ]
     },
     "execution_count": 68,
     "metadata": {},
     "output_type": "execute_result"
    }
   ],
   "source": [
    "d1"
   ]
  },
  {
   "cell_type": "code",
   "execution_count": 69,
   "id": "8e5c61cb",
   "metadata": {},
   "outputs": [
    {
     "data": {
      "text/plain": [
       "'Ashraf'"
      ]
     },
     "execution_count": 69,
     "metadata": {},
     "output_type": "execute_result"
    }
   ],
   "source": [
    "d1[\"name\"]"
   ]
  },
  {
   "cell_type": "code",
   "execution_count": 71,
   "id": "c916f916",
   "metadata": {},
   "outputs": [
    {
     "data": {
      "text/plain": [
       "{'name': 'Ashraf', 1: 27, 'location': 'Karachi'}"
      ]
     },
     "execution_count": 71,
     "metadata": {},
     "output_type": "execute_result"
    }
   ],
   "source": [
    "{\n",
    "    \"name\" :\"Muneeb\",\n",
    "    1: 27,\n",
    "    \"location\" : \"Karachi\",\n",
    "    \"name\": \"Ashraf\"\n",
    "    }"
   ]
  },
  {
   "cell_type": "code",
   "execution_count": 93,
   "id": "971a9252",
   "metadata": {},
   "outputs": [],
   "source": [
    "d1 ={\n",
    "    \"name\" :\"Muneeb\",\n",
    "    1: 27,\n",
    "    True : \"Karachi\",\n",
    "    \"name\": \"Ashraf\"\n",
    "    }"
   ]
  },
  {
   "cell_type": "code",
   "execution_count": 92,
   "id": "8c47b53b",
   "metadata": {},
   "outputs": [
    {
     "data": {
      "text/plain": [
       "{'name': 'Ashraf', 1: 'Karachi'}"
      ]
     },
     "execution_count": 92,
     "metadata": {},
     "output_type": "execute_result"
    }
   ],
   "source": [
    "{\n",
    "    \"name\" :\"Muneeb\",\n",
    "    1: 27,\n",
    "    True : \"Karachi\",\n",
    "    \"name\": \"Ashraf\"\n",
    "    }"
   ]
  },
  {
   "cell_type": "code",
   "execution_count": 76,
   "id": "7accba40",
   "metadata": {},
   "outputs": [
    {
     "data": {
      "text/plain": [
       "'Ashraf'"
      ]
     },
     "execution_count": 76,
     "metadata": {},
     "output_type": "execute_result"
    }
   ],
   "source": [
    "#We Use get() when we use Envoirment Variable nad it cann't show error or stop Program\n",
    "d1.get(\"name\")"
   ]
  },
  {
   "cell_type": "code",
   "execution_count": 77,
   "id": "ec106e92",
   "metadata": {},
   "outputs": [
    {
     "data": {
      "text/plain": [
       "{'name': 'Muneeb', 'age': 27}"
      ]
     },
     "execution_count": 77,
     "metadata": {},
     "output_type": "execute_result"
    }
   ],
   "source": [
    "dict (name = \"Muneeb\" , age = 27)"
   ]
  },
  {
   "cell_type": "code",
   "execution_count": 78,
   "id": "d14850b0",
   "metadata": {},
   "outputs": [],
   "source": [
    "d1 [\"location\"] = \"sindh\""
   ]
  },
  {
   "cell_type": "code",
   "execution_count": 79,
   "id": "6f9061f2",
   "metadata": {},
   "outputs": [
    {
     "data": {
      "text/plain": [
       "{'name': 'Ashraf', 'age': 27, 'location': 'sindh'}"
      ]
     },
     "execution_count": 79,
     "metadata": {},
     "output_type": "execute_result"
    }
   ],
   "source": [
    "d1"
   ]
  },
  {
   "cell_type": "code",
   "execution_count": 80,
   "id": "6f453ef3",
   "metadata": {},
   "outputs": [],
   "source": [
    "d1[\"gender\"] = \"Male\""
   ]
  },
  {
   "cell_type": "code",
   "execution_count": 81,
   "id": "0d8e8732",
   "metadata": {},
   "outputs": [
    {
     "data": {
      "text/plain": [
       "{'name': 'Ashraf', 'age': 27, 'location': 'sindh', 'gender': 'Male'}"
      ]
     },
     "execution_count": 81,
     "metadata": {},
     "output_type": "execute_result"
    }
   ],
   "source": [
    "d1"
   ]
  },
  {
   "cell_type": "code",
   "execution_count": 82,
   "id": "9ceff831",
   "metadata": {},
   "outputs": [],
   "source": [
    "gender = d1.pop(\"gender\") # it Remove Gender from d1"
   ]
  },
  {
   "cell_type": "code",
   "execution_count": 83,
   "id": "f8c592a8",
   "metadata": {},
   "outputs": [
    {
     "data": {
      "text/plain": [
       "'Male'"
      ]
     },
     "execution_count": 83,
     "metadata": {},
     "output_type": "execute_result"
    }
   ],
   "source": [
    "gender"
   ]
  },
  {
   "cell_type": "code",
   "execution_count": 84,
   "id": "23d97916",
   "metadata": {},
   "outputs": [
    {
     "data": {
      "text/plain": [
       "{'name': 'Ashraf', 'age': 27, 'location': 'sindh'}"
      ]
     },
     "execution_count": 84,
     "metadata": {},
     "output_type": "execute_result"
    }
   ],
   "source": [
    "d1"
   ]
  },
  {
   "cell_type": "code",
   "execution_count": 94,
   "id": "80d85e60",
   "metadata": {},
   "outputs": [],
   "source": [
    "del d1[True]"
   ]
  },
  {
   "cell_type": "code",
   "execution_count": 95,
   "id": "764b20ec",
   "metadata": {},
   "outputs": [
    {
     "data": {
      "text/plain": [
       "{'name': 'Ashraf'}"
      ]
     },
     "execution_count": 95,
     "metadata": {},
     "output_type": "execute_result"
    }
   ],
   "source": [
    "d1"
   ]
  },
  {
   "cell_type": "code",
   "execution_count": 88,
   "id": "808c9889",
   "metadata": {},
   "outputs": [
    {
     "name": "stdout",
     "output_type": "stream",
     "text": [
      "name\n",
      "age\n",
      "location\n"
     ]
    }
   ],
   "source": [
    "for key in d1:\n",
    "    print(key)"
   ]
  },
  {
   "cell_type": "code",
   "execution_count": 90,
   "id": "a4a1318c",
   "metadata": {},
   "outputs": [
    {
     "name": "stdout",
     "output_type": "stream",
     "text": [
      "Ashraf\n",
      "27\n",
      "sindh\n"
     ]
    }
   ],
   "source": [
    "for value in d1.values():\n",
    "    print(value)\n",
    "    "
   ]
  },
  {
   "cell_type": "code",
   "execution_count": 91,
   "id": "6bd74c0e",
   "metadata": {},
   "outputs": [
    {
     "data": {
      "text/plain": [
       "dict_items([('name', 'Ashraf'), ('age', 27), ('location', 'sindh')])"
      ]
     },
     "execution_count": 91,
     "metadata": {},
     "output_type": "execute_result"
    }
   ],
   "source": [
    "d1.items()"
   ]
  },
  {
   "cell_type": "code",
   "execution_count": 96,
   "id": "f2aa5ce3",
   "metadata": {},
   "outputs": [
    {
     "data": {
      "text/plain": [
       "dict_values(['Ashraf'])"
      ]
     },
     "execution_count": 96,
     "metadata": {},
     "output_type": "execute_result"
    }
   ],
   "source": [
    "d1.values()"
   ]
  },
  {
   "cell_type": "code",
   "execution_count": 97,
   "id": "f5436719",
   "metadata": {},
   "outputs": [
    {
     "data": {
      "text/plain": [
       "dict_keys(['name'])"
      ]
     },
     "execution_count": 97,
     "metadata": {},
     "output_type": "execute_result"
    }
   ],
   "source": [
    "d1.keys()"
   ]
  },
  {
   "cell_type": "code",
   "execution_count": 98,
   "id": "ba896703",
   "metadata": {},
   "outputs": [
    {
     "name": "stdout",
     "output_type": "stream",
     "text": [
      "name\n",
      "test Ashraf\n"
     ]
    }
   ],
   "source": [
    "for key, value in d1.items():\n",
    "    print(key)\n",
    "    print(\"test\",value)"
   ]
  },
  {
   "cell_type": "markdown",
   "id": "dedf382b",
   "metadata": {},
   "source": [
    "# Task\n",
    "text = \"apple banana apple cherry banana apple\""
   ]
  },
  {
   "cell_type": "code",
   "execution_count": null,
   "id": "1c2c6f44",
   "metadata": {},
   "outputs": [],
   "source": [
    "# Output: {'apple':3 , 'banana':2 , 'cherry':1}"
   ]
  },
  {
   "cell_type": "code",
   "execution_count": 99,
   "id": "4dff37ea",
   "metadata": {},
   "outputs": [],
   "source": [
    "text = \"apple banana apple cherry banana apple\""
   ]
  },
  {
   "cell_type": "code",
   "execution_count": 105,
   "id": "4e5f23b3",
   "metadata": {},
   "outputs": [
    {
     "data": {
      "text/plain": [
       "{'banana': 2, 'apple': 3, 'cherry': 1}"
      ]
     },
     "execution_count": 105,
     "metadata": {},
     "output_type": "execute_result"
    }
   ],
   "source": [
    "text = \"apple banana apple cherry banana apple\"\n",
    "\n",
    "banana = text.count('banana')\n",
    "apple = text.count(\"apple\")\n",
    "cherry = text.count('cherry')\n",
    "\n",
    "fruites = {}\n",
    "\n",
    "fruites[\"banana\"] = banana\n",
    "fruites[\"apple\"] = apple\n",
    "fruites[\"cherry\"] = cherry\n",
    "\n",
    "fruites\n"
   ]
  },
  {
   "cell_type": "code",
   "execution_count": null,
   "id": "cfdd41c8",
   "metadata": {},
   "outputs": [],
   "source": []
  }
 ],
 "metadata": {
  "kernelspec": {
   "display_name": "Python 3 (ipykernel)",
   "language": "python",
   "name": "python3"
  },
  "language_info": {
   "codemirror_mode": {
    "name": "ipython",
    "version": 3
   },
   "file_extension": ".py",
   "mimetype": "text/x-python",
   "name": "python",
   "nbconvert_exporter": "python",
   "pygments_lexer": "ipython3",
   "version": "3.11.4"
  }
 },
 "nbformat": 4,
 "nbformat_minor": 5
}
