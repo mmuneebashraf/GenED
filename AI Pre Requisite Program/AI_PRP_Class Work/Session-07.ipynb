{
 "cells": [
  {
   "cell_type": "code",
   "execution_count": 1,
   "id": "1e9b0b8e",
   "metadata": {},
   "outputs": [],
   "source": [
    "name = \"Aqsa\""
   ]
  },
  {
   "cell_type": "code",
   "execution_count": 2,
   "id": "a218812f",
   "metadata": {},
   "outputs": [
    {
     "data": {
      "text/plain": [
       "1"
      ]
     },
     "execution_count": 2,
     "metadata": {},
     "output_type": "execute_result"
    }
   ],
   "source": [
    "name.count(\"a\")"
   ]
  },
  {
   "cell_type": "code",
   "execution_count": 3,
   "id": "657f0349",
   "metadata": {},
   "outputs": [
    {
     "data": {
      "text/plain": [
       "2"
      ]
     },
     "execution_count": 3,
     "metadata": {},
     "output_type": "execute_result"
    }
   ],
   "source": [
    "name = \"aqsa\"\n",
    "name.count(\"a\")"
   ]
  },
  {
   "cell_type": "code",
   "execution_count": 4,
   "id": "af25dafc",
   "metadata": {},
   "outputs": [],
   "source": [
    "sentence = \"this is the seventh class\""
   ]
  },
  {
   "cell_type": "code",
   "execution_count": 5,
   "id": "e6341e82",
   "metadata": {},
   "outputs": [
    {
     "data": {
      "text/plain": [
       "2"
      ]
     },
     "execution_count": 5,
     "metadata": {},
     "output_type": "execute_result"
    }
   ],
   "source": [
    "sentence.count(\"is\")"
   ]
  },
  {
   "cell_type": "code",
   "execution_count": 6,
   "id": "02f70ca7",
   "metadata": {},
   "outputs": [
    {
     "data": {
      "text/plain": [
       "5"
      ]
     },
     "execution_count": 6,
     "metadata": {},
     "output_type": "execute_result"
    }
   ],
   "source": [
    "sentence.count(\"s\")"
   ]
  },
  {
   "cell_type": "code",
   "execution_count": 7,
   "id": "b7654c62",
   "metadata": {},
   "outputs": [
    {
     "data": {
      "text/plain": [
       "0"
      ]
     },
     "execution_count": 7,
     "metadata": {},
     "output_type": "execute_result"
    }
   ],
   "source": [
    "sentence.count(\"sa\")"
   ]
  },
  {
   "cell_type": "code",
   "execution_count": 8,
   "id": "7c30260f",
   "metadata": {},
   "outputs": [
    {
     "data": {
      "text/plain": [
       "1"
      ]
     },
     "execution_count": 8,
     "metadata": {},
     "output_type": "execute_result"
    }
   ],
   "source": [
    "sentence.count(\"se\")"
   ]
  },
  {
   "cell_type": "code",
   "execution_count": 9,
   "id": "d8ff12c1",
   "metadata": {},
   "outputs": [
    {
     "data": {
      "text/plain": [
       "1"
      ]
     },
     "execution_count": 9,
     "metadata": {},
     "output_type": "execute_result"
    }
   ],
   "source": [
    "sentence.count(\"this\")"
   ]
  },
  {
   "cell_type": "code",
   "execution_count": 10,
   "id": "e7f9316a",
   "metadata": {},
   "outputs": [],
   "source": [
    "sentence = \"My name is Aqsa. This is my session. These are my students\""
   ]
  },
  {
   "cell_type": "code",
   "execution_count": 11,
   "id": "1d675349",
   "metadata": {},
   "outputs": [
    {
     "data": {
      "text/plain": [
       "2"
      ]
     },
     "execution_count": 11,
     "metadata": {},
     "output_type": "execute_result"
    }
   ],
   "source": [
    "sentence.count(\"my\")"
   ]
  },
  {
   "cell_type": "code",
   "execution_count": 12,
   "id": "ab8db521",
   "metadata": {},
   "outputs": [
    {
     "data": {
      "text/plain": [
       "1"
      ]
     },
     "execution_count": 12,
     "metadata": {},
     "output_type": "execute_result"
    }
   ],
   "source": [
    "sentence.count(\"My\")"
   ]
  },
  {
   "cell_type": "code",
   "execution_count": 18,
   "id": "c4af649a",
   "metadata": {},
   "outputs": [
    {
     "data": {
      "text/plain": [
       "25"
      ]
     },
     "execution_count": 18,
     "metadata": {},
     "output_type": "execute_result"
    }
   ],
   "source": [
    "sentence.find(\"my\")"
   ]
  },
  {
   "cell_type": "code",
   "execution_count": 19,
   "id": "0fec5bf1",
   "metadata": {},
   "outputs": [
    {
     "data": {
      "text/plain": [
       "47"
      ]
     },
     "execution_count": 19,
     "metadata": {},
     "output_type": "execute_result"
    }
   ],
   "source": [
    "sentence.rfind(\"my\")"
   ]
  },
  {
   "cell_type": "code",
   "execution_count": 20,
   "id": "800c301f",
   "metadata": {},
   "outputs": [
    {
     "data": {
      "text/plain": [
       "['My name is Aqsa. This is my session. These are my students']"
      ]
     },
     "execution_count": 20,
     "metadata": {},
     "output_type": "execute_result"
    }
   ],
   "source": [
    "sentence.split(\",\")"
   ]
  },
  {
   "cell_type": "code",
   "execution_count": 21,
   "id": "e48662c7",
   "metadata": {},
   "outputs": [
    {
     "data": {
      "text/plain": [
       "['My name is Aqsa', ' This is my session', ' These are my students']"
      ]
     },
     "execution_count": 21,
     "metadata": {},
     "output_type": "execute_result"
    }
   ],
   "source": [
    "sentence.split(\".\")"
   ]
  },
  {
   "cell_type": "code",
   "execution_count": 39,
   "id": "51422fd2",
   "metadata": {},
   "outputs": [],
   "source": [
    "msg=\"hello world\"\n",
    "msgList=msg.split(\" \")"
   ]
  },
  {
   "cell_type": "code",
   "execution_count": 40,
   "id": "b945bdab",
   "metadata": {},
   "outputs": [
    {
     "data": {
      "text/plain": [
       "['hello', 'world']"
      ]
     },
     "execution_count": 40,
     "metadata": {},
     "output_type": "execute_result"
    }
   ],
   "source": [
    "msgList"
   ]
  },
  {
   "cell_type": "code",
   "execution_count": 42,
   "id": "968626de",
   "metadata": {},
   "outputs": [],
   "source": [
    "msgOne = msg.split(\" \")[0]\n",
    "msgTwo = msg.split(\" \")[1]"
   ]
  },
  {
   "cell_type": "code",
   "execution_count": 43,
   "id": "b160de10",
   "metadata": {},
   "outputs": [
    {
     "data": {
      "text/plain": [
       "'hello'"
      ]
     },
     "execution_count": 43,
     "metadata": {},
     "output_type": "execute_result"
    }
   ],
   "source": [
    "msgOne"
   ]
  },
  {
   "cell_type": "code",
   "execution_count": null,
   "id": "0cad35de",
   "metadata": {},
   "outputs": [],
   "source": [
    "# rs 450 ,rs 670 , rs 570"
   ]
  },
  {
   "cell_type": "code",
   "execution_count": 29,
   "id": "ccdeca2f",
   "metadata": {},
   "outputs": [],
   "source": [
    "price = \"rs 450\""
   ]
  },
  {
   "cell_type": "code",
   "execution_count": 31,
   "id": "05a5028d",
   "metadata": {},
   "outputs": [
    {
     "data": {
      "text/plain": [
       "'450'"
      ]
     },
     "execution_count": 31,
     "metadata": {},
     "output_type": "execute_result"
    }
   ],
   "source": [
    "price.split(\" \")[1]"
   ]
  },
  {
   "cell_type": "code",
   "execution_count": 45,
   "id": "c33d7a8b",
   "metadata": {},
   "outputs": [
    {
     "data": {
      "text/plain": [
       "'olleh'"
      ]
     },
     "execution_count": 45,
     "metadata": {},
     "output_type": "execute_result"
    }
   ],
   "source": [
    "msgOne[::-1]"
   ]
  },
  {
   "cell_type": "code",
   "execution_count": 46,
   "id": "233b0191",
   "metadata": {},
   "outputs": [],
   "source": [
    "msgList=msg.split(\" \")[::-1]"
   ]
  },
  {
   "cell_type": "code",
   "execution_count": 47,
   "id": "0f5390f4",
   "metadata": {},
   "outputs": [
    {
     "data": {
      "text/plain": [
       "['world', 'hello']"
      ]
     },
     "execution_count": 47,
     "metadata": {},
     "output_type": "execute_result"
    }
   ],
   "source": [
    "msgList"
   ]
  },
  {
   "cell_type": "code",
   "execution_count": 48,
   "id": "b1801a06",
   "metadata": {},
   "outputs": [],
   "source": [
    "split_price = \"rs 450 ,rs 670 , rs 570\""
   ]
  },
  {
   "cell_type": "code",
   "execution_count": 49,
   "id": "add8f7a0",
   "metadata": {},
   "outputs": [],
   "source": [
    "split_price=price.split(\" \")"
   ]
  },
  {
   "cell_type": "code",
   "execution_count": 50,
   "id": "bff2d4e8",
   "metadata": {},
   "outputs": [
    {
     "data": {
      "text/plain": [
       "['rs', '450']"
      ]
     },
     "execution_count": 50,
     "metadata": {},
     "output_type": "execute_result"
    }
   ],
   "source": [
    "split_price"
   ]
  },
  {
   "cell_type": "code",
   "execution_count": 51,
   "id": "87e9e937",
   "metadata": {},
   "outputs": [
    {
     "data": {
      "text/plain": [
       "'rs 450'"
      ]
     },
     "execution_count": 51,
     "metadata": {},
     "output_type": "execute_result"
    }
   ],
   "source": [
    "\" \".join(split_price)"
   ]
  },
  {
   "cell_type": "code",
   "execution_count": 58,
   "id": "d75f8797",
   "metadata": {},
   "outputs": [
    {
     "name": "stdout",
     "output_type": "stream",
     "text": [
      "Orignal Text = hello world \n",
      "Reverse Tsext: olleh dlrow  \n"
     ]
    }
   ],
   "source": [
    "msg=\"hello world\"\n",
    "msgList=msg.split(\" \")\n",
    "msgOne = msg.split(\" \")[0]\n",
    "msgTwo = msg.split(\" \")[1]\n",
    "print(f\"Orignal Text : {msgOne} {msgTwo} \\nReverse Tsext: {msgOne[::-1]} {msgTwo[::-1]}  \")"
   ]
  },
  {
   "cell_type": "code",
   "execution_count": 56,
   "id": "e95272fb",
   "metadata": {},
   "outputs": [
    {
     "name": "stdout",
     "output_type": "stream",
     "text": [
      "Reverse Tsext olleh dlrow \n"
     ]
    }
   ],
   "source": [
    "msgOne."
   ]
  },
  {
   "cell_type": "code",
   "execution_count": 59,
   "id": "4d2cdb32",
   "metadata": {},
   "outputs": [
    {
     "ename": "SyntaxError",
     "evalue": "invalid syntax (4024006226.py, line 1)",
     "output_type": "error",
     "traceback": [
      "\u001b[1;36m  Cell \u001b[1;32mIn[59], line 1\u001b[1;36m\u001b[0m\n\u001b[1;33m    msg = Muneeb ashraf\u001b[0m\n\u001b[1;37m                 ^\u001b[0m\n\u001b[1;31mSyntaxError\u001b[0m\u001b[1;31m:\u001b[0m invalid syntax\n"
     ]
    }
   ],
   "source": [
    "msg = Muneeb ashraf\n",
    "print(f\"Orignal Text : {msg.split(\" \")[0]} {msg.split(\" \")[1]} \\nReverse Tsext: {msg.split(\" \")[1][::-1]} {msg.split(\" \")[1][::-1]}  \")"
   ]
  },
  {
   "cell_type": "code",
   "execution_count": 65,
   "id": "153cab99",
   "metadata": {},
   "outputs": [],
   "source": [
    "text = \"hello world\"\n",
    "words = text.split(\" \")\n",
    "reversed_first_word = words[0][::-1] \n",
    "reversed_second_word = words[1][::-1]\n",
    "result = \" \".join(reversed_first_word+reversed_second_word)"
   ]
  },
  {
   "cell_type": "code",
   "execution_count": 66,
   "id": "cde1b08f",
   "metadata": {},
   "outputs": [
    {
     "data": {
      "text/plain": [
       "'o l l e h d l r o w'"
      ]
     },
     "execution_count": 66,
     "metadata": {},
     "output_type": "execute_result"
    }
   ],
   "source": [
    "result"
   ]
  },
  {
   "cell_type": "code",
   "execution_count": 73,
   "id": "48a369b9",
   "metadata": {},
   "outputs": [
    {
     "name": "stdout",
     "output_type": "stream",
     "text": [
      "ollehdlrow \n"
     ]
    }
   ],
   "source": [
    "#Teacher's Code\n",
    "\n",
    "ori = \"hello world\"\n",
    "\n",
    "first = ori[:5:][::-1]\n",
    "second = ori[5::][::-1]\n",
    "\n",
    "print(f\"{first}{second}\")"
   ]
  },
  {
   "cell_type": "code",
   "execution_count": 74,
   "id": "e40fe7c8",
   "metadata": {},
   "outputs": [
    {
     "name": "stdout",
     "output_type": "stream",
     "text": [
      "olleholleh\n"
     ]
    }
   ],
   "source": [
    "orin = \"hello world\"\n",
    "\n",
    "first = orin.split(\" \")[0][::-1]\n",
    "second = orin.split(\" \")[0][::-1]\n",
    "\n",
    "print(f\"{first}{second}\")"
   ]
  },
  {
   "cell_type": "code",
   "execution_count": 75,
   "id": "69bcac8f",
   "metadata": {},
   "outputs": [
    {
     "name": "stdout",
     "output_type": "stream",
     "text": [
      "Enter Your Sentence : My name is Muneeb\n"
     ]
    }
   ],
   "source": [
    "sentence = input(\"Enter Your Sentence : \")\n"
   ]
  },
  {
   "cell_type": "code",
   "execution_count": 76,
   "id": "463190d8",
   "metadata": {},
   "outputs": [
    {
     "data": {
      "text/plain": [
       "True"
      ]
     },
     "execution_count": 76,
     "metadata": {},
     "output_type": "execute_result"
    }
   ],
   "source": [
    "sentence.startswith(\"My\")"
   ]
  },
  {
   "cell_type": "code",
   "execution_count": 77,
   "id": "26043d94",
   "metadata": {},
   "outputs": [
    {
     "data": {
      "text/plain": [
       "False"
      ]
     },
     "execution_count": 77,
     "metadata": {},
     "output_type": "execute_result"
    }
   ],
   "source": [
    "sentence.startswith(\"my\")"
   ]
  },
  {
   "cell_type": "code",
   "execution_count": 80,
   "id": "153853dd",
   "metadata": {},
   "outputs": [
    {
     "data": {
      "text/plain": [
       "True"
      ]
     },
     "execution_count": 80,
     "metadata": {},
     "output_type": "execute_result"
    }
   ],
   "source": [
    "sentence.lower().startswith(\"my\")"
   ]
  },
  {
   "cell_type": "code",
   "execution_count": 85,
   "id": "3a12dd98",
   "metadata": {},
   "outputs": [
    {
     "data": {
      "text/plain": [
       "False"
      ]
     },
     "execution_count": 85,
     "metadata": {},
     "output_type": "execute_result"
    }
   ],
   "source": [
    "sentence.lower().startswith(\"My\")"
   ]
  },
  {
   "cell_type": "code",
   "execution_count": 86,
   "id": "aa076029",
   "metadata": {},
   "outputs": [
    {
     "data": {
      "text/plain": [
       "True"
      ]
     },
     "execution_count": 86,
     "metadata": {},
     "output_type": "execute_result"
    }
   ],
   "source": [
    "sentence.lower().startswith(\"My\".lower())"
   ]
  },
  {
   "cell_type": "code",
   "execution_count": 81,
   "id": "3ea71fc1",
   "metadata": {},
   "outputs": [
    {
     "data": {
      "text/plain": [
       "'My name is Muneeb'"
      ]
     },
     "execution_count": 81,
     "metadata": {},
     "output_type": "execute_result"
    }
   ],
   "source": [
    "sentence"
   ]
  },
  {
   "cell_type": "code",
   "execution_count": 82,
   "id": "d62e0995",
   "metadata": {},
   "outputs": [
    {
     "data": {
      "text/plain": [
       "'my name is muneeb'"
      ]
     },
     "execution_count": 82,
     "metadata": {},
     "output_type": "execute_result"
    }
   ],
   "source": [
    "sentence.lower()"
   ]
  },
  {
   "cell_type": "code",
   "execution_count": 87,
   "id": "1f02ebff",
   "metadata": {},
   "outputs": [],
   "source": [
    "email = \"Mmuneebashraf@gmail.com\".lower()"
   ]
  },
  {
   "cell_type": "code",
   "execution_count": 88,
   "id": "e84c8be6",
   "metadata": {},
   "outputs": [
    {
     "name": "stdout",
     "output_type": "stream",
     "text": [
      "Enter Your Age27\n"
     ]
    }
   ],
   "source": [
    "age = input(\"Enter Your Age : \")"
   ]
  },
  {
   "cell_type": "code",
   "execution_count": 89,
   "id": "84fab3a4",
   "metadata": {},
   "outputs": [
    {
     "data": {
      "text/plain": [
       "True"
      ]
     },
     "execution_count": 89,
     "metadata": {},
     "output_type": "execute_result"
    }
   ],
   "source": [
    "age.isdigit()"
   ]
  },
  {
   "cell_type": "code",
   "execution_count": 93,
   "id": "6b39a43b",
   "metadata": {},
   "outputs": [
    {
     "data": {
      "text/plain": [
       "False"
      ]
     },
     "execution_count": 93,
     "metadata": {},
     "output_type": "execute_result"
    }
   ],
   "source": [
    "sentence.isalpha()"
   ]
  },
  {
   "cell_type": "code",
   "execution_count": 91,
   "id": "038d2036",
   "metadata": {},
   "outputs": [
    {
     "data": {
      "text/plain": [
       "False"
      ]
     },
     "execution_count": 91,
     "metadata": {},
     "output_type": "execute_result"
    }
   ],
   "source": [
    "age.isalpha()"
   ]
  },
  {
   "cell_type": "code",
   "execution_count": 94,
   "id": "5982b7ca",
   "metadata": {},
   "outputs": [],
   "source": [
    "name = \"Muneeb\""
   ]
  },
  {
   "cell_type": "code",
   "execution_count": 95,
   "id": "9cf61235",
   "metadata": {},
   "outputs": [
    {
     "data": {
      "text/plain": [
       "True"
      ]
     },
     "execution_count": 95,
     "metadata": {},
     "output_type": "execute_result"
    }
   ],
   "source": [
    "name.isalpha()"
   ]
  },
  {
   "cell_type": "code",
   "execution_count": 96,
   "id": "1bb66148",
   "metadata": {},
   "outputs": [
    {
     "data": {
      "text/plain": [
       "False"
      ]
     },
     "execution_count": 96,
     "metadata": {},
     "output_type": "execute_result"
    }
   ],
   "source": [
    "name.islower()"
   ]
  },
  {
   "cell_type": "code",
   "execution_count": 98,
   "id": "cfd5c517",
   "metadata": {},
   "outputs": [
    {
     "data": {
      "text/plain": [
       "False"
      ]
     },
     "execution_count": 98,
     "metadata": {},
     "output_type": "execute_result"
    }
   ],
   "source": [
    "name.isupper()"
   ]
  },
  {
   "cell_type": "code",
   "execution_count": 99,
   "id": "14b804ff",
   "metadata": {},
   "outputs": [
    {
     "data": {
      "text/plain": [
       "'Muneeb'"
      ]
     },
     "execution_count": 99,
     "metadata": {},
     "output_type": "execute_result"
    }
   ],
   "source": [
    "name"
   ]
  },
  {
   "cell_type": "code",
   "execution_count": 100,
   "id": "75d0c5ca",
   "metadata": {},
   "outputs": [
    {
     "data": {
      "text/plain": [
       "'Muneeb'"
      ]
     },
     "execution_count": 100,
     "metadata": {},
     "output_type": "execute_result"
    }
   ],
   "source": [
    "name"
   ]
  },
  {
   "cell_type": "code",
   "execution_count": 101,
   "id": "4b7b5213",
   "metadata": {},
   "outputs": [],
   "source": [
    "name_with_age = \"muneeb27\""
   ]
  },
  {
   "cell_type": "code",
   "execution_count": 103,
   "id": "efdbc204",
   "metadata": {},
   "outputs": [
    {
     "data": {
      "text/plain": [
       "False"
      ]
     },
     "execution_count": 103,
     "metadata": {},
     "output_type": "execute_result"
    }
   ],
   "source": [
    "name_with_age.isnumeric()"
   ]
  },
  {
   "cell_type": "code",
   "execution_count": 104,
   "id": "ba66ca00",
   "metadata": {},
   "outputs": [],
   "source": [
    "name = \" Muneeb \""
   ]
  },
  {
   "cell_type": "code",
   "execution_count": 105,
   "id": "71c05a79",
   "metadata": {},
   "outputs": [
    {
     "data": {
      "text/plain": [
       "'Muneeb'"
      ]
     },
     "execution_count": 105,
     "metadata": {},
     "output_type": "execute_result"
    }
   ],
   "source": [
    "name.strip()"
   ]
  },
  {
   "cell_type": "code",
   "execution_count": 106,
   "id": "6422b671",
   "metadata": {},
   "outputs": [
    {
     "name": "stdout",
     "output_type": "stream",
     "text": [
      "Enter Name :                     muneeb ashraf\n"
     ]
    },
    {
     "data": {
      "text/plain": [
       "'                    muneeb ashraf'"
      ]
     },
     "execution_count": 106,
     "metadata": {},
     "output_type": "execute_result"
    }
   ],
   "source": [
    "input(\"Enter Name : \")"
   ]
  },
  {
   "cell_type": "code",
   "execution_count": 114,
   "id": "787f6102",
   "metadata": {},
   "outputs": [],
   "source": [
    "sentence = \"this is the seventh class\""
   ]
  },
  {
   "cell_type": "code",
   "execution_count": 116,
   "id": "f9c29e62",
   "metadata": {},
   "outputs": [
    {
     "data": {
      "text/plain": [
       "'this are the seventh class'"
      ]
     },
     "execution_count": 116,
     "metadata": {},
     "output_type": "execute_result"
    }
   ],
   "source": [
    "sentence.replace(\" is\" , \" are\")"
   ]
  },
  {
   "cell_type": "markdown",
   "id": "1aa2b0d7",
   "metadata": {},
   "source": [
    "<b>Task</b>\n"
   ]
  },
  {
   "cell_type": "code",
   "execution_count": 148,
   "id": "01261e97",
   "metadata": {},
   "outputs": [],
   "source": [
    "value = \"this world is moving in round\""
   ]
  },
  {
   "cell_type": "code",
   "execution_count": 129,
   "id": "12d9cb3e",
   "metadata": {},
   "outputs": [
    {
     "data": {
      "text/plain": [
       "'this world is moving in round'"
      ]
     },
     "execution_count": 129,
     "metadata": {},
     "output_type": "execute_result"
    }
   ],
   "source": [
    "value.replace(\"a\" or \"e\" or \"i\" or \"o\" or \"u\" , \"b\")"
   ]
  },
  {
   "cell_type": "code",
   "execution_count": 149,
   "id": "79de7218",
   "metadata": {},
   "outputs": [
    {
     "data": {
      "text/plain": [
       "'this world is moving in round'"
      ]
     },
     "execution_count": 149,
     "metadata": {},
     "output_type": "execute_result"
    }
   ],
   "source": [
    "updatedValue = value.replace(\"a\" , \"b\")\n",
    "updatedValue"
   ]
  },
  {
   "cell_type": "code",
   "execution_count": 150,
   "id": "04f4bd5d",
   "metadata": {},
   "outputs": [
    {
     "data": {
      "text/plain": [
       "'this world is moving in round'"
      ]
     },
     "execution_count": 150,
     "metadata": {},
     "output_type": "execute_result"
    }
   ],
   "source": [
    "updatedValue.replace(\"e\" , \"b\")\n",
    "updatedValue"
   ]
  },
  {
   "cell_type": "code",
   "execution_count": 153,
   "id": "e07f5ac6",
   "metadata": {},
   "outputs": [
    {
     "data": {
      "text/plain": [
       "'this world is moving in round'"
      ]
     },
     "execution_count": 153,
     "metadata": {},
     "output_type": "execute_result"
    }
   ],
   "source": [
    "updatedValue.replace(\"i\" , \"b\")\n",
    "updatedValue"
   ]
  },
  {
   "cell_type": "code",
   "execution_count": 143,
   "id": "72321b04",
   "metadata": {},
   "outputs": [
    {
     "data": {
      "text/plain": [
       "'this wbrld is mbving in rbund'"
      ]
     },
     "execution_count": 143,
     "metadata": {},
     "output_type": "execute_result"
    }
   ],
   "source": [
    "updatedValue.replace(\"o\" , \"b\")\n",
    "updatedValue"
   ]
  },
  {
   "cell_type": "code",
   "execution_count": 144,
   "id": "b3f687f5",
   "metadata": {},
   "outputs": [
    {
     "data": {
      "text/plain": [
       "'this world is moving in robnd'"
      ]
     },
     "execution_count": 144,
     "metadata": {},
     "output_type": "execute_result"
    }
   ],
   "source": [
    "updatedValue.replace(\"u\" , \"b\")\n",
    "updatedValue"
   ]
  },
  {
   "cell_type": "code",
   "execution_count": 145,
   "id": "398a8e58",
   "metadata": {},
   "outputs": [
    {
     "data": {
      "text/plain": [
       "'this world is moving in round'"
      ]
     },
     "execution_count": 145,
     "metadata": {},
     "output_type": "execute_result"
    }
   ],
   "source": [
    "updatedValue"
   ]
  },
  {
   "cell_type": "code",
   "execution_count": null,
   "id": "f178baa3",
   "metadata": {},
   "outputs": [],
   "source": []
  }
 ],
 "metadata": {
  "kernelspec": {
   "display_name": "Python 3 (ipykernel)",
   "language": "python",
   "name": "python3"
  },
  "language_info": {
   "codemirror_mode": {
    "name": "ipython",
    "version": 3
   },
   "file_extension": ".py",
   "mimetype": "text/x-python",
   "name": "python",
   "nbconvert_exporter": "python",
   "pygments_lexer": "ipython3",
   "version": "3.11.4"
  }
 },
 "nbformat": 4,
 "nbformat_minor": 5
}
