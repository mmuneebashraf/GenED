{
 "cells": [
  {
   "cell_type": "code",
   "execution_count": 8,
   "id": "b6318bec",
   "metadata": {},
   "outputs": [
    {
     "name": "stdout",
     "output_type": "stream",
     "text": [
      "2\n",
      "4\n",
      "6\n",
      "8\n",
      "10\n",
      "12\n",
      "14\n",
      "16\n",
      "18\n",
      "20\n",
      "22\n",
      "24\n",
      "26\n",
      "28\n",
      "30\n",
      "32\n",
      "34\n",
      "36\n",
      "38\n",
      "40\n",
      "42\n",
      "44\n",
      "46\n",
      "48\n",
      "50\n"
     ]
    }
   ],
   "source": [
    "for i in range(1,51):\n",
    "    if i%2 == 0:\n",
    "        print(i)"
   ]
  },
  {
   "cell_type": "code",
   "execution_count": 17,
   "id": "cfce1b31",
   "metadata": {},
   "outputs": [
    {
     "name": "stdout",
     "output_type": "stream",
     "text": [
      "Enter Table Number : 5\n",
      "Enter Table Number : 12\n",
      "5 X 1 = 5\n",
      "5 X 2 = 10\n",
      "5 X 3 = 15\n",
      "5 X 4 = 20\n",
      "5 X 5 = 25\n",
      "5 X 6 = 30\n",
      "5 X 7 = 35\n",
      "5 X 8 = 40\n",
      "5 X 9 = 45\n",
      "5 X 10 = 50\n",
      "5 X 11 = 55\n",
      "5 X 12 = 60\n"
     ]
    }
   ],
   "source": [
    "tableNumber = int(input(\"Enter Table Number : \"))\n",
    "tablerange = int(input(\"Enter Table Range : \"))\n",
    "\n",
    "for i in range(1,tablerange+1):\n",
    "    print(f\"{tableNumber} X {i} = {tableNumber*i}\")"
   ]
  },
  {
   "cell_type": "code",
   "execution_count": 18,
   "id": "bea6a5d7",
   "metadata": {},
   "outputs": [
    {
     "name": "stdout",
     "output_type": "stream",
     "text": [
      "Enter Table Number : 5\n",
      "5 X 1 = 5\n",
      "5 X 2 = 10\n",
      "5 X 3 = 15\n",
      "5 X 4 = 20\n",
      "5 X 5 = 25\n"
     ]
    }
   ],
   "source": [
    "tableNumber = int(input(\"Enter Table Number : \"))\n",
    "\n",
    "for i in range(1,tableNumber+1):\n",
    "    print(f\"{tableNumber} X {i} = {tableNumber*i}\")"
   ]
  },
  {
   "cell_type": "code",
   "execution_count": 19,
   "id": "de3579c6",
   "metadata": {},
   "outputs": [
    {
     "name": "stdout",
     "output_type": "stream",
     "text": [
      "Enter Table Number : 5\n",
      "Enter Table Range : 4\n",
      "5 X 1 = 5\n",
      "5 X 1 = 5\n",
      "5 X 1 = 5\n",
      "5 X 2 = 10\n",
      "5 X 2 = 10\n",
      "5 X 2 = 10\n",
      "5 X 3 = 15\n",
      "5 X 3 = 15\n",
      "5 X 3 = 15\n",
      "5 X 4 = 20\n",
      "5 X 4 = 20\n",
      "5 X 4 = 20\n",
      "5 X 5 = 25\n",
      "5 X 5 = 25\n",
      "5 X 5 = 25\n"
     ]
    }
   ],
   "source": [
    "tableNumber = int(input(\"Enter Table Number : \"))\n",
    "tablerange = int(input(\"Enter Table Range : \"))\n",
    "for i in range(1,tableNumber+1):\n",
    "    for index in range (1,tablerange):\n",
    "        print(f\"{tableNumber} X {i} = {tableNumber*i}\")"
   ]
  },
  {
   "cell_type": "code",
   "execution_count": 23,
   "id": "20b50236",
   "metadata": {},
   "outputs": [
    {
     "name": "stdout",
     "output_type": "stream",
     "text": [
      "Enter Table Number : 5\n",
      "Enter Table Range : 4\n",
      "1 X 1 = 1\n",
      "1 X 2 = 2\n",
      "1 X 3 = 3\n",
      "1 X 4 = 4\n",
      "2 X 1 = 2\n",
      "2 X 2 = 4\n",
      "2 X 3 = 6\n",
      "2 X 4 = 8\n",
      "3 X 1 = 3\n",
      "3 X 2 = 6\n",
      "3 X 3 = 9\n",
      "3 X 4 = 12\n",
      "4 X 1 = 4\n",
      "4 X 2 = 8\n",
      "4 X 3 = 12\n",
      "4 X 4 = 16\n",
      "5 X 1 = 5\n",
      "5 X 2 = 10\n",
      "5 X 3 = 15\n",
      "5 X 4 = 20\n"
     ]
    }
   ],
   "source": [
    "tableNumber = int(input(\"Enter Table Number : \"))\n",
    "tablerange = int(input(\"Enter Table Range : \"))\n",
    "for i in range(1,tableNumber+1):\n",
    "    for index in range (1,tablerange+1):\n",
    "        print(f\"{i} X {index} = {i*index}\")"
   ]
  },
  {
   "cell_type": "code",
   "execution_count": 24,
   "id": "a10d6ade",
   "metadata": {},
   "outputs": [
    {
     "name": "stdout",
     "output_type": "stream",
     "text": [
      "Enter the table of any number5\n",
      "Enter the limit4\n",
      "5 x 0 = 0\n",
      "5 x 1 = 5\n",
      "5 x 2 = 10\n",
      "5 x 3 = 15\n",
      "5 x 4 = 20\n"
     ]
    }
   ],
   "source": [
    "Num=int(input(\"Enter the table of any number\"))\n",
    "range_=int(input(\"Enter the limit\"))\n",
    "i=0\n",
    "while i<=range_:\n",
    "  print(f\"{Num} x {i} = {Num*i}\")\n",
    "  i+=1"
   ]
  },
  {
   "cell_type": "code",
   "execution_count": null,
   "id": "71aef125",
   "metadata": {},
   "outputs": [],
   "source": []
  }
 ],
 "metadata": {
  "kernelspec": {
   "display_name": "Python 3 (ipykernel)",
   "language": "python",
   "name": "python3"
  },
  "language_info": {
   "codemirror_mode": {
    "name": "ipython",
    "version": 3
   },
   "file_extension": ".py",
   "mimetype": "text/x-python",
   "name": "python",
   "nbconvert_exporter": "python",
   "pygments_lexer": "ipython3",
   "version": "3.11.4"
  }
 },
 "nbformat": 4,
 "nbformat_minor": 5
}
