{
 "cells": [
  {
   "cell_type": "markdown",
   "id": "9ac67706",
   "metadata": {},
   "source": [
    "# List"
   ]
  },
  {
   "cell_type": "code",
   "execution_count": 2,
   "id": "7c54c95c",
   "metadata": {},
   "outputs": [],
   "source": [
    "# 10 Students Name"
   ]
  },
  {
   "cell_type": "code",
   "execution_count": 3,
   "id": "53d69d0e",
   "metadata": {},
   "outputs": [
    {
     "name": "stdout",
     "output_type": "stream",
     "text": [
      "Enter Your Name : \n"
     ]
    }
   ],
   "source": [
    "name = input(\"Enter Your Name : \")"
   ]
  },
  {
   "cell_type": "code",
   "execution_count": 4,
   "id": "eb2f0bd9",
   "metadata": {},
   "outputs": [
    {
     "data": {
      "text/plain": [
       "''"
      ]
     },
     "execution_count": 4,
     "metadata": {},
     "output_type": "execute_result"
    }
   ],
   "source": [
    "name"
   ]
  },
  {
   "cell_type": "code",
   "execution_count": 5,
   "id": "60d9ec0a",
   "metadata": {},
   "outputs": [],
   "source": [
    "# list is the uer define Data Type\n",
    "# One Dimentional List Called Array and array contain single Data Type\n",
    "# List Called Hetrogenious Means List can Contains Multiple Data Types\n",
    "\n",
    "names_list = [\"Muhammad\",\"Muneeb\",\"Ashraf\"]"
   ]
  },
  {
   "cell_type": "code",
   "execution_count": 6,
   "id": "ef0c9f35",
   "metadata": {},
   "outputs": [],
   "source": [
    "name_list = [\"Muneeb\" , True , 27 , 3.142]"
   ]
  },
  {
   "cell_type": "code",
   "execution_count": 7,
   "id": "16d8adb1",
   "metadata": {},
   "outputs": [
    {
     "data": {
      "text/plain": [
       "['Muhammad', 'Muneeb', 'Ashraf']"
      ]
     },
     "execution_count": 7,
     "metadata": {},
     "output_type": "execute_result"
    }
   ],
   "source": [
    "names_list"
   ]
  },
  {
   "cell_type": "code",
   "execution_count": 8,
   "id": "3cd99b69",
   "metadata": {},
   "outputs": [],
   "source": [
    "# name apko input lena hai or usko save karty jana hai list mai"
   ]
  },
  {
   "cell_type": "code",
   "execution_count": 9,
   "id": "cdf777ca",
   "metadata": {},
   "outputs": [
    {
     "name": "stdout",
     "output_type": "stream",
     "text": [
      "Enter Your Name : \n",
      "['']\n"
     ]
    }
   ],
   "source": [
    "names_list = [] #Empty List\n",
    "name = input(\"Enter Your Name : \")\n",
    "\n",
    "# First Way To Add Name In List\n",
    "\n",
    "# Add\n",
    "names_list.append(name) # Append Add Data At The End Of The List\n",
    "\n",
    "print(names_list)"
   ]
  },
  {
   "cell_type": "code",
   "execution_count": 10,
   "id": "ac234688",
   "metadata": {},
   "outputs": [
    {
     "data": {
      "text/plain": [
       "['']"
      ]
     },
     "execution_count": 10,
     "metadata": {},
     "output_type": "execute_result"
    }
   ],
   "source": [
    "names_list"
   ]
  },
  {
   "cell_type": "code",
   "execution_count": 11,
   "id": "3cfcdbe7",
   "metadata": {},
   "outputs": [
    {
     "name": "stdout",
     "output_type": "stream",
     "text": [
      "Enter Student 1 Name : Muhammad\n",
      "Enter Student 2 Name : Muneeb\n",
      "Enter Student 3 Name : Ashraf\n",
      "Enter Student 4 Name : Alhas\n",
      "Enter Student 5 Name : Ahmed\n",
      "Enter Student 6 Name : Mohsin\n",
      "Enter Student 7 Name : Kashif\n",
      "Enter Student 8 Name : Waqas\n",
      "Enter Student 9 Name : Asad\n",
      "Enter Student 10 Name : Haris\n"
     ]
    }
   ],
   "source": [
    "names_list = []\n",
    "\n",
    "for i in range(1,11):\n",
    "    name = input(f\"Enter Student {i} Name : \")\n",
    "    \n",
    "    names_list.append(name)\n",
    "    "
   ]
  },
  {
   "cell_type": "code",
   "execution_count": 12,
   "id": "4f61f6b9",
   "metadata": {},
   "outputs": [
    {
     "name": "stdout",
     "output_type": "stream",
     "text": [
      "['Muhammad', 'Muneeb', 'Ashraf', 'Alhas', 'Ahmed', 'Mohsin', 'Kashif', 'Waqas', 'Asad', 'Haris']\n"
     ]
    }
   ],
   "source": [
    "print(names_list)"
   ]
  },
  {
   "cell_type": "code",
   "execution_count": 13,
   "id": "cbb9086e",
   "metadata": {},
   "outputs": [
    {
     "name": "stdout",
     "output_type": "stream",
     "text": [
      "Enter Student 1 Name : Ashraf\n"
     ]
    },
    {
     "ename": "IndexError",
     "evalue": "list assignment index out of range",
     "output_type": "error",
     "traceback": [
      "\u001b[1;31m---------------------------------------------------------------------------\u001b[0m",
      "\u001b[1;31mIndexError\u001b[0m                                Traceback (most recent call last)",
      "Cell \u001b[1;32mIn[13], line 6\u001b[0m\n\u001b[0;32m      3\u001b[0m \u001b[38;5;28;01mfor\u001b[39;00m i \u001b[38;5;129;01min\u001b[39;00m \u001b[38;5;28mrange\u001b[39m(\u001b[38;5;241m1\u001b[39m,\u001b[38;5;241m11\u001b[39m):\n\u001b[0;32m      4\u001b[0m     name \u001b[38;5;241m=\u001b[39m \u001b[38;5;28minput\u001b[39m(\u001b[38;5;124mf\u001b[39m\u001b[38;5;124m\"\u001b[39m\u001b[38;5;124mEnter Student \u001b[39m\u001b[38;5;132;01m{\u001b[39;00mi\u001b[38;5;132;01m}\u001b[39;00m\u001b[38;5;124m Name : \u001b[39m\u001b[38;5;124m\"\u001b[39m)\n\u001b[1;32m----> 6\u001b[0m     names_list_with_index[i] \u001b[38;5;241m=\u001b[39m name\n",
      "\u001b[1;31mIndexError\u001b[0m: list assignment index out of range"
     ]
    }
   ],
   "source": [
    "names_list_with_index = []\n",
    "\n",
    "for i in range(1,11):\n",
    "    name = input(f\"Enter Student {i} Name : \")\n",
    "    \n",
    "    names_list_with_index[i] = name\n",
    "    \n",
    "\n",
    "print(names_list_with_index)"
   ]
  },
  {
   "cell_type": "code",
   "execution_count": 14,
   "id": "1be7db89",
   "metadata": {},
   "outputs": [],
   "source": [
    "names_list[9] = \"Aqsa\""
   ]
  },
  {
   "cell_type": "code",
   "execution_count": 15,
   "id": "fb86adbe",
   "metadata": {},
   "outputs": [
    {
     "data": {
      "text/plain": [
       "['Muhammad',\n",
       " 'Muneeb',\n",
       " 'Ashraf',\n",
       " 'Alhas',\n",
       " 'Ahmed',\n",
       " 'Mohsin',\n",
       " 'Kashif',\n",
       " 'Waqas',\n",
       " 'Asad',\n",
       " 'Aqsa']"
      ]
     },
     "execution_count": 15,
     "metadata": {},
     "output_type": "execute_result"
    }
   ],
   "source": [
    "names_list"
   ]
  },
  {
   "cell_type": "code",
   "execution_count": 16,
   "id": "f15a1864",
   "metadata": {},
   "outputs": [],
   "source": [
    "second_names_list =[\"Muneeb2\",\"Ashraf2\",\"Alhas2\" , \"Asad2\"]"
   ]
  },
  {
   "cell_type": "code",
   "execution_count": 17,
   "id": "b9e9f739",
   "metadata": {},
   "outputs": [
    {
     "data": {
      "text/plain": [
       "['Muneeb2', 'Ashraf2', 'Alhas2', 'Asad2']"
      ]
     },
     "execution_count": 17,
     "metadata": {},
     "output_type": "execute_result"
    }
   ],
   "source": [
    "second_names_list"
   ]
  },
  {
   "cell_type": "code",
   "execution_count": 18,
   "id": "9989f321",
   "metadata": {},
   "outputs": [],
   "source": [
    "extraList = names_list"
   ]
  },
  {
   "cell_type": "code",
   "execution_count": 19,
   "id": "1c6aa06d",
   "metadata": {},
   "outputs": [
    {
     "name": "stdout",
     "output_type": "stream",
     "text": [
      "['Muhammad', 'Muneeb', 'Ashraf', 'Alhas', 'Ahmed', 'Mohsin', 'Kashif', 'Waqas', 'Asad', 'Aqsa']\n"
     ]
    }
   ],
   "source": [
    "print(extraList)"
   ]
  },
  {
   "cell_type": "code",
   "execution_count": null,
   "id": "cf68ab05",
   "metadata": {},
   "outputs": [],
   "source": []
  },
  {
   "cell_type": "code",
   "execution_count": null,
   "id": "f8b38186",
   "metadata": {},
   "outputs": [],
   "source": []
  },
  {
   "cell_type": "code",
   "execution_count": 20,
   "id": "eb733e31",
   "metadata": {},
   "outputs": [],
   "source": [
    "# Append Always Consider the Whole Value As a Single Value (single Values Added) \n",
    "extraList.append(second_names_list)"
   ]
  },
  {
   "cell_type": "code",
   "execution_count": 21,
   "id": "ca2d973a",
   "metadata": {},
   "outputs": [
    {
     "name": "stdout",
     "output_type": "stream",
     "text": [
      "['Muhammad', 'Muneeb', 'Ashraf', 'Alhas', 'Ahmed', 'Mohsin', 'Kashif', 'Waqas', 'Asad', 'Aqsa', ['Muneeb2', 'Ashraf2', 'Alhas2', 'Asad2']]\n"
     ]
    }
   ],
   "source": [
    "print (extraList)"
   ]
  },
  {
   "cell_type": "code",
   "execution_count": 22,
   "id": "259c312b",
   "metadata": {},
   "outputs": [
    {
     "name": "stdout",
     "output_type": "stream",
     "text": [
      "['Muhammad', 'Muneeb', 'Ashraf', 'Alhas', 'Ahmed', 'Mohsin', 'Kashif', 'Waqas', 'Asad', 'Aqsa', ['Muneeb2', 'Ashraf2', 'Alhas2', 'Asad2']]\n"
     ]
    }
   ],
   "source": [
    "print(names_list)"
   ]
  },
  {
   "cell_type": "code",
   "execution_count": 23,
   "id": "d564790e",
   "metadata": {},
   "outputs": [],
   "source": [
    "# Extend Consider the Whole Value As an Multiple Values and Add At The End Like Append (Multiple Values Added)\n",
    "names_list.extend(second_names_list)"
   ]
  },
  {
   "cell_type": "code",
   "execution_count": 24,
   "id": "5372b433",
   "metadata": {},
   "outputs": [
    {
     "name": "stdout",
     "output_type": "stream",
     "text": [
      "['Muhammad', 'Muneeb', 'Ashraf', 'Alhas', 'Ahmed', 'Mohsin', 'Kashif', 'Waqas', 'Asad', 'Aqsa', ['Muneeb2', 'Ashraf2', 'Alhas2', 'Asad2'], 'Muneeb2', 'Ashraf2', 'Alhas2', 'Asad2']\n"
     ]
    }
   ],
   "source": [
    "print(names_list)"
   ]
  },
  {
   "cell_type": "code",
   "execution_count": 25,
   "id": "6b5f208a",
   "metadata": {},
   "outputs": [
    {
     "data": {
      "text/plain": [
       "10"
      ]
     },
     "execution_count": 25,
     "metadata": {},
     "output_type": "execute_result"
    }
   ],
   "source": [
    "int(\"10\")"
   ]
  },
  {
   "cell_type": "code",
   "execution_count": 75,
   "id": "a8226de5",
   "metadata": {},
   "outputs": [],
   "source": [
    "name = \"Hello\""
   ]
  },
  {
   "cell_type": "code",
   "execution_count": 78,
   "id": "aba8398e",
   "metadata": {},
   "outputs": [],
   "source": [
    "name = list(name)"
   ]
  },
  {
   "cell_type": "code",
   "execution_count": 79,
   "id": "c06d236c",
   "metadata": {},
   "outputs": [
    {
     "data": {
      "text/plain": [
       "['H', 'e', 'l', 'l', 'o']"
      ]
     },
     "execution_count": 79,
     "metadata": {},
     "output_type": "execute_result"
    }
   ],
   "source": [
    "name"
   ]
  },
  {
   "cell_type": "code",
   "execution_count": 28,
   "id": "fba01f3a",
   "metadata": {},
   "outputs": [
    {
     "ename": "TypeError",
     "evalue": "'str' object does not support item assignment",
     "output_type": "error",
     "traceback": [
      "\u001b[1;31m---------------------------------------------------------------------------\u001b[0m",
      "\u001b[1;31mTypeError\u001b[0m                                 Traceback (most recent call last)",
      "Cell \u001b[1;32mIn[28], line 4\u001b[0m\n\u001b[0;32m      1\u001b[0m \u001b[38;5;66;03m# Strings Are Immutable\u001b[39;00m\n\u001b[0;32m      3\u001b[0m name \u001b[38;5;241m=\u001b[39m \u001b[38;5;124m\"\u001b[39m\u001b[38;5;124mhello\u001b[39m\u001b[38;5;124m\"\u001b[39m\n\u001b[1;32m----> 4\u001b[0m name[\u001b[38;5;241m3\u001b[39m] \u001b[38;5;241m=\u001b[39m \u001b[38;5;124m\"\u001b[39m\u001b[38;5;124mr\u001b[39m\u001b[38;5;124m\"\u001b[39m\n",
      "\u001b[1;31mTypeError\u001b[0m: 'str' object does not support item assignment"
     ]
    }
   ],
   "source": [
    "# Strings Are Immutable\n",
    "\n",
    "name = \"hello\"\n",
    "name[3] = \"r\""
   ]
  },
  {
   "cell_type": "markdown",
   "id": "01341368",
   "metadata": {},
   "source": [
    "strings , Tuple are Immutable\n",
    "\n",
    "can we Update Those?"
   ]
  },
  {
   "cell_type": "code",
   "execution_count": 29,
   "id": "260083c8",
   "metadata": {},
   "outputs": [],
   "source": [
    "s = \"hello\"\n",
    "s = \"Hello\"  # Reassignment creates a new string object"
   ]
  },
  {
   "cell_type": "code",
   "execution_count": 30,
   "id": "9bba0c35",
   "metadata": {},
   "outputs": [
    {
     "name": "stdout",
     "output_type": "stream",
     "text": [
      "(1, [99, 3], 4)\n"
     ]
    }
   ],
   "source": [
    "t = (1, [2, 3], 4)\n",
    "t[1][0] = 99  # Allowed because the list inside the tuple is mutable\n",
    "print(t)  # (1, [99, 3], 4)"
   ]
  },
  {
   "cell_type": "code",
   "execution_count": 31,
   "id": "b107978c",
   "metadata": {},
   "outputs": [
    {
     "data": {
      "text/plain": [
       "'Aqsa'"
      ]
     },
     "execution_count": 31,
     "metadata": {},
     "output_type": "execute_result"
    }
   ],
   "source": [
    "names_list[9]"
   ]
  },
  {
   "cell_type": "code",
   "execution_count": 32,
   "id": "c0a5c910",
   "metadata": {},
   "outputs": [
    {
     "data": {
      "text/plain": [
       "['Muhammad',\n",
       " 'Muneeb',\n",
       " 'Ashraf',\n",
       " 'Alhas',\n",
       " 'Ahmed',\n",
       " 'Mohsin',\n",
       " 'Kashif',\n",
       " 'Waqas',\n",
       " 'Asad',\n",
       " 'Aqsa',\n",
       " ['Muneeb2', 'Ashraf2', 'Alhas2', 'Asad2'],\n",
       " 'Muneeb2',\n",
       " 'Ashraf2',\n",
       " 'Alhas2',\n",
       " 'Asad2']"
      ]
     },
     "execution_count": 32,
     "metadata": {},
     "output_type": "execute_result"
    }
   ],
   "source": [
    "names_list[:]"
   ]
  },
  {
   "cell_type": "code",
   "execution_count": 33,
   "id": "c1fc7b72",
   "metadata": {},
   "outputs": [
    {
     "data": {
      "text/plain": [
       "'Alhas2'"
      ]
     },
     "execution_count": 33,
     "metadata": {},
     "output_type": "execute_result"
    }
   ],
   "source": [
    "names_list[10][2]"
   ]
  },
  {
   "cell_type": "code",
   "execution_count": 34,
   "id": "0f594f1b",
   "metadata": {},
   "outputs": [
    {
     "ename": "IndexError",
     "evalue": "list index out of range",
     "output_type": "error",
     "traceback": [
      "\u001b[1;31m---------------------------------------------------------------------------\u001b[0m",
      "\u001b[1;31mIndexError\u001b[0m                                Traceback (most recent call last)",
      "Cell \u001b[1;32mIn[34], line 1\u001b[0m\n\u001b[1;32m----> 1\u001b[0m names_list[\u001b[38;5;241m10\u001b[39m][\u001b[38;5;241m4\u001b[39m]\n",
      "\u001b[1;31mIndexError\u001b[0m: list index out of range"
     ]
    }
   ],
   "source": [
    "names_list[10][4]"
   ]
  },
  {
   "cell_type": "code",
   "execution_count": 35,
   "id": "1a9f20ca",
   "metadata": {},
   "outputs": [],
   "source": [
    "names_list[2] = \"Ibtehaj\" # Correct / Replace The Value"
   ]
  },
  {
   "cell_type": "code",
   "execution_count": 36,
   "id": "44b307e5",
   "metadata": {},
   "outputs": [
    {
     "data": {
      "text/plain": [
       "['Muhammad',\n",
       " 'Muneeb',\n",
       " 'Ibtehaj',\n",
       " 'Alhas',\n",
       " 'Ahmed',\n",
       " 'Mohsin',\n",
       " 'Kashif',\n",
       " 'Waqas',\n",
       " 'Asad',\n",
       " 'Aqsa',\n",
       " ['Muneeb2', 'Ashraf2', 'Alhas2', 'Asad2'],\n",
       " 'Muneeb2',\n",
       " 'Ashraf2',\n",
       " 'Alhas2',\n",
       " 'Asad2']"
      ]
     },
     "execution_count": 36,
     "metadata": {},
     "output_type": "execute_result"
    }
   ],
   "source": [
    "names_list"
   ]
  },
  {
   "cell_type": "code",
   "execution_count": 37,
   "id": "6535b024",
   "metadata": {},
   "outputs": [],
   "source": [
    "names_list.insert(5,\"Adeel\") # Insert The Value in Any Place"
   ]
  },
  {
   "cell_type": "code",
   "execution_count": 38,
   "id": "5f8f9334",
   "metadata": {},
   "outputs": [
    {
     "data": {
      "text/plain": [
       "['Muhammad',\n",
       " 'Muneeb',\n",
       " 'Ibtehaj',\n",
       " 'Alhas',\n",
       " 'Ahmed',\n",
       " 'Adeel',\n",
       " 'Mohsin',\n",
       " 'Kashif',\n",
       " 'Waqas',\n",
       " 'Asad',\n",
       " 'Aqsa',\n",
       " ['Muneeb2', 'Ashraf2', 'Alhas2', 'Asad2'],\n",
       " 'Muneeb2',\n",
       " 'Ashraf2',\n",
       " 'Alhas2',\n",
       " 'Asad2']"
      ]
     },
     "execution_count": 38,
     "metadata": {},
     "output_type": "execute_result"
    }
   ],
   "source": [
    "names_list"
   ]
  },
  {
   "cell_type": "code",
   "execution_count": 39,
   "id": "20d7788f",
   "metadata": {},
   "outputs": [],
   "source": [
    "names_list.insert(14,\"abc\")"
   ]
  },
  {
   "cell_type": "code",
   "execution_count": 41,
   "id": "78c47e92",
   "metadata": {},
   "outputs": [],
   "source": [
    "names_list.insert(20,\"XYZ\")"
   ]
  },
  {
   "cell_type": "code",
   "execution_count": 42,
   "id": "2bcc2791",
   "metadata": {},
   "outputs": [
    {
     "data": {
      "text/plain": [
       "['Muhammad',\n",
       " 'Muneeb',\n",
       " 'Ibtehaj',\n",
       " 'Alhas',\n",
       " 'Ahmed',\n",
       " 'Adeel',\n",
       " 'Mohsin',\n",
       " 'Kashif',\n",
       " 'Waqas',\n",
       " 'Asad',\n",
       " 'Aqsa',\n",
       " ['Muneeb2', 'Ashraf2', 'Alhas2', 'Asad2'],\n",
       " 'Muneeb2',\n",
       " 'Ashraf2',\n",
       " 'abc',\n",
       " 'Alhas2',\n",
       " 'Asad2',\n",
       " 'XYZ']"
      ]
     },
     "execution_count": 42,
     "metadata": {},
     "output_type": "execute_result"
    }
   ],
   "source": [
    "names_list"
   ]
  },
  {
   "cell_type": "code",
   "execution_count": 43,
   "id": "e453d931",
   "metadata": {},
   "outputs": [],
   "source": [
    "names_list.insert(50,\"ABCDEFG\")"
   ]
  },
  {
   "cell_type": "code",
   "execution_count": 44,
   "id": "58956d8d",
   "metadata": {},
   "outputs": [
    {
     "data": {
      "text/plain": [
       "['Muhammad',\n",
       " 'Muneeb',\n",
       " 'Ibtehaj',\n",
       " 'Alhas',\n",
       " 'Ahmed',\n",
       " 'Adeel',\n",
       " 'Mohsin',\n",
       " 'Kashif',\n",
       " 'Waqas',\n",
       " 'Asad',\n",
       " 'Aqsa',\n",
       " ['Muneeb2', 'Ashraf2', 'Alhas2', 'Asad2'],\n",
       " 'Muneeb2',\n",
       " 'Ashraf2',\n",
       " 'abc',\n",
       " 'Alhas2',\n",
       " 'Asad2',\n",
       " 'XYZ',\n",
       " 'ABCDEFG']"
      ]
     },
     "execution_count": 44,
     "metadata": {},
     "output_type": "execute_result"
    }
   ],
   "source": [
    "names_list"
   ]
  },
  {
   "cell_type": "code",
   "execution_count": 45,
   "id": "aadae45b",
   "metadata": {},
   "outputs": [
    {
     "ename": "TypeError",
     "evalue": "insert expected 2 arguments, got 1",
     "output_type": "error",
     "traceback": [
      "\u001b[1;31m---------------------------------------------------------------------------\u001b[0m",
      "\u001b[1;31mTypeError\u001b[0m                                 Traceback (most recent call last)",
      "Cell \u001b[1;32mIn[45], line 1\u001b[0m\n\u001b[1;32m----> 1\u001b[0m names_list\u001b[38;5;241m.\u001b[39minsert(\u001b[38;5;124m\"\u001b[39m\u001b[38;5;124mMUNEEB ASHRAF\u001b[39m\u001b[38;5;124m\"\u001b[39m)\n",
      "\u001b[1;31mTypeError\u001b[0m: insert expected 2 arguments, got 1"
     ]
    }
   ],
   "source": [
    "names_list.insert(\"MUNEEB ASHRAF\")"
   ]
  },
  {
   "cell_type": "code",
   "execution_count": 46,
   "id": "edeb66f4",
   "metadata": {},
   "outputs": [],
   "source": [
    "names_list.remove(\"Aqsa\") # Remove Function Works as Delete By Value"
   ]
  },
  {
   "cell_type": "code",
   "execution_count": 47,
   "id": "37c9daa9",
   "metadata": {},
   "outputs": [
    {
     "data": {
      "text/plain": [
       "['Muhammad',\n",
       " 'Muneeb',\n",
       " 'Ibtehaj',\n",
       " 'Alhas',\n",
       " 'Ahmed',\n",
       " 'Adeel',\n",
       " 'Mohsin',\n",
       " 'Kashif',\n",
       " 'Waqas',\n",
       " 'Asad',\n",
       " ['Muneeb2', 'Ashraf2', 'Alhas2', 'Asad2'],\n",
       " 'Muneeb2',\n",
       " 'Ashraf2',\n",
       " 'abc',\n",
       " 'Alhas2',\n",
       " 'Asad2',\n",
       " 'XYZ',\n",
       " 'ABCDEFG']"
      ]
     },
     "execution_count": 47,
     "metadata": {},
     "output_type": "execute_result"
    }
   ],
   "source": [
    "names_list"
   ]
  },
  {
   "cell_type": "code",
   "execution_count": 48,
   "id": "3b4b1a23",
   "metadata": {},
   "outputs": [
    {
     "data": {
      "text/plain": [
       "['Muneeb2', 'Ashraf2', 'Alhas2', 'Asad2']"
      ]
     },
     "execution_count": 48,
     "metadata": {},
     "output_type": "execute_result"
    }
   ],
   "source": [
    "names_list.pop(10) # Pop Function Delete karay ga and deleted value will be save."
   ]
  },
  {
   "cell_type": "code",
   "execution_count": 49,
   "id": "58700fd3",
   "metadata": {},
   "outputs": [],
   "source": [
    "sname = names_list.pop(12)"
   ]
  },
  {
   "cell_type": "code",
   "execution_count": 50,
   "id": "3ed41425",
   "metadata": {},
   "outputs": [
    {
     "data": {
      "text/plain": [
       "'abc'"
      ]
     },
     "execution_count": 50,
     "metadata": {},
     "output_type": "execute_result"
    }
   ],
   "source": [
    "sname"
   ]
  },
  {
   "cell_type": "code",
   "execution_count": 51,
   "id": "c05c970c",
   "metadata": {},
   "outputs": [
    {
     "data": {
      "text/plain": [
       "['Muhammad',\n",
       " 'Muneeb',\n",
       " 'Ibtehaj',\n",
       " 'Alhas',\n",
       " 'Ahmed',\n",
       " 'Adeel',\n",
       " 'Mohsin',\n",
       " 'Kashif',\n",
       " 'Waqas',\n",
       " 'Asad',\n",
       " 'Muneeb2',\n",
       " 'Ashraf2',\n",
       " 'Alhas2',\n",
       " 'Asad2',\n",
       " 'XYZ',\n",
       " 'ABCDEFG']"
      ]
     },
     "execution_count": 51,
     "metadata": {},
     "output_type": "execute_result"
    }
   ],
   "source": [
    "names_list"
   ]
  },
  {
   "cell_type": "code",
   "execution_count": 52,
   "id": "c7b0406a",
   "metadata": {},
   "outputs": [],
   "source": [
    "tname = names_list.pop() # Delete Last Item"
   ]
  },
  {
   "cell_type": "code",
   "execution_count": 53,
   "id": "37c8c519",
   "metadata": {},
   "outputs": [
    {
     "data": {
      "text/plain": [
       "'ABCDEFG'"
      ]
     },
     "execution_count": 53,
     "metadata": {},
     "output_type": "execute_result"
    }
   ],
   "source": [
    "tname"
   ]
  },
  {
   "cell_type": "code",
   "execution_count": 54,
   "id": "124d872e",
   "metadata": {},
   "outputs": [
    {
     "data": {
      "text/plain": [
       "['Muhammad',\n",
       " 'Muneeb',\n",
       " 'Ibtehaj',\n",
       " 'Alhas',\n",
       " 'Ahmed',\n",
       " 'Adeel',\n",
       " 'Mohsin',\n",
       " 'Kashif',\n",
       " 'Waqas',\n",
       " 'Asad',\n",
       " 'Muneeb2',\n",
       " 'Ashraf2',\n",
       " 'Alhas2',\n",
       " 'Asad2',\n",
       " 'XYZ']"
      ]
     },
     "execution_count": 54,
     "metadata": {},
     "output_type": "execute_result"
    }
   ],
   "source": [
    "names_list"
   ]
  },
  {
   "cell_type": "code",
   "execution_count": 55,
   "id": "7ca264c5",
   "metadata": {},
   "outputs": [],
   "source": [
    "del names_list[-1] # del Key just Remove the Item By Index not Value"
   ]
  },
  {
   "cell_type": "code",
   "execution_count": 56,
   "id": "4c72f48c",
   "metadata": {},
   "outputs": [
    {
     "data": {
      "text/plain": [
       "['Muhammad',\n",
       " 'Muneeb',\n",
       " 'Ibtehaj',\n",
       " 'Alhas',\n",
       " 'Ahmed',\n",
       " 'Adeel',\n",
       " 'Mohsin',\n",
       " 'Kashif',\n",
       " 'Waqas',\n",
       " 'Asad',\n",
       " 'Muneeb2',\n",
       " 'Ashraf2',\n",
       " 'Alhas2',\n",
       " 'Asad2']"
      ]
     },
     "execution_count": 56,
     "metadata": {},
     "output_type": "execute_result"
    }
   ],
   "source": [
    "names_list"
   ]
  },
  {
   "cell_type": "code",
   "execution_count": 57,
   "id": "ad856c56",
   "metadata": {},
   "outputs": [],
   "source": [
    "name_3 =[\"Muneeb3\",\"Ashraf3\",\"Alhas3\" , \"Asad3\"]"
   ]
  },
  {
   "cell_type": "code",
   "execution_count": 58,
   "id": "cd1443e5",
   "metadata": {},
   "outputs": [],
   "source": [
    "name_3.clear() # clear() Function will Empty The Whole Items"
   ]
  },
  {
   "cell_type": "code",
   "execution_count": 59,
   "id": "32fa87a3",
   "metadata": {},
   "outputs": [
    {
     "data": {
      "text/plain": [
       "[]"
      ]
     },
     "execution_count": 59,
     "metadata": {},
     "output_type": "execute_result"
    }
   ],
   "source": [
    "name_3"
   ]
  },
  {
   "cell_type": "markdown",
   "id": "00514709",
   "metadata": {},
   "source": [
    "append = add at the end </br>\n",
    "extend = add multiple values at the end</br>\n",
    "pop = delete and save"
   ]
  },
  {
   "cell_type": "code",
   "execution_count": 60,
   "id": "dd0e49ff",
   "metadata": {},
   "outputs": [
    {
     "data": {
      "text/plain": [
       "[1, 2, 4, 4, 5, 6]"
      ]
     },
     "execution_count": 60,
     "metadata": {},
     "output_type": "execute_result"
    }
   ],
   "source": [
    "first = [1,2,4]\n",
    "last = [4,5,6]\n",
    "\n",
    "final_list = first + last\n",
    "\n",
    "final_list"
   ]
  },
  {
   "cell_type": "code",
   "execution_count": 61,
   "id": "b4cebd04",
   "metadata": {},
   "outputs": [
    {
     "data": {
      "text/plain": [
       "[0, 0, 0, 0, 0]"
      ]
     },
     "execution_count": 61,
     "metadata": {},
     "output_type": "execute_result"
    }
   ],
   "source": [
    "tlist = [0] * 5\n",
    "tlist"
   ]
  },
  {
   "cell_type": "code",
   "execution_count": 62,
   "id": "ba6da343",
   "metadata": {},
   "outputs": [
    {
     "data": {
      "text/plain": [
       "[1, 2, 1, 2, 1, 2, 1, 2, 1, 2]"
      ]
     },
     "execution_count": 62,
     "metadata": {},
     "output_type": "execute_result"
    }
   ],
   "source": [
    "tlist = [1,2] * 5\n",
    "tlist"
   ]
  },
  {
   "cell_type": "code",
   "execution_count": 66,
   "id": "d7c88050",
   "metadata": {},
   "outputs": [
    {
     "ename": "TypeError",
     "evalue": "can't multiply sequence by non-int of type 'list'",
     "output_type": "error",
     "traceback": [
      "\u001b[1;31m---------------------------------------------------------------------------\u001b[0m",
      "\u001b[1;31mTypeError\u001b[0m                                 Traceback (most recent call last)",
      "Cell \u001b[1;32mIn[66], line 1\u001b[0m\n\u001b[1;32m----> 1\u001b[0m final_list \u001b[38;5;241m=\u001b[39m first \u001b[38;5;241m*\u001b[39m last\n\u001b[0;32m      3\u001b[0m final_list\n",
      "\u001b[1;31mTypeError\u001b[0m: can't multiply sequence by non-int of type 'list'"
     ]
    }
   ],
   "source": [
    "final_list = first * last\n",
    "\n",
    "final_list"
   ]
  },
  {
   "cell_type": "code",
   "execution_count": 70,
   "id": "cbcc5f84",
   "metadata": {},
   "outputs": [
    {
     "ename": "TypeError",
     "evalue": "unsupported operand type(s) for -: 'list' and 'list'",
     "output_type": "error",
     "traceback": [
      "\u001b[1;31m---------------------------------------------------------------------------\u001b[0m",
      "\u001b[1;31mTypeError\u001b[0m                                 Traceback (most recent call last)",
      "Cell \u001b[1;32mIn[70], line 1\u001b[0m\n\u001b[1;32m----> 1\u001b[0m final_list \u001b[38;5;241m=\u001b[39m first \u001b[38;5;241m-\u001b[39m last\n\u001b[0;32m      3\u001b[0m final_list\n",
      "\u001b[1;31mTypeError\u001b[0m: unsupported operand type(s) for -: 'list' and 'list'"
     ]
    }
   ],
   "source": [
    "final_list = first - last\n",
    "\n",
    "final_list"
   ]
  },
  {
   "cell_type": "code",
   "execution_count": 71,
   "id": "e405756c",
   "metadata": {},
   "outputs": [
    {
     "data": {
      "text/plain": [
       "[1, 2, 4, 4, 5, 6]"
      ]
     },
     "execution_count": 71,
     "metadata": {},
     "output_type": "execute_result"
    }
   ],
   "source": [
    "final_list = first + last\n",
    "\n",
    "final_list"
   ]
  },
  {
   "cell_type": "code",
   "execution_count": 67,
   "id": "a5c2ef4b",
   "metadata": {},
   "outputs": [
    {
     "ename": "TypeError",
     "evalue": "can only concatenate list (not \"int\") to list",
     "output_type": "error",
     "traceback": [
      "\u001b[1;31m---------------------------------------------------------------------------\u001b[0m",
      "\u001b[1;31mTypeError\u001b[0m                                 Traceback (most recent call last)",
      "Cell \u001b[1;32mIn[67], line 1\u001b[0m\n\u001b[1;32m----> 1\u001b[0m tlist \u001b[38;5;241m=\u001b[39m [\u001b[38;5;241m1\u001b[39m,\u001b[38;5;241m2\u001b[39m] \u001b[38;5;241m+\u001b[39m \u001b[38;5;241m5\u001b[39m\n\u001b[0;32m      2\u001b[0m tlist\n",
      "\u001b[1;31mTypeError\u001b[0m: can only concatenate list (not \"int\") to list"
     ]
    }
   ],
   "source": [
    "tlist = [1,2] + 5\n",
    "tlist"
   ]
  },
  {
   "cell_type": "code",
   "execution_count": 68,
   "id": "2fda9b1c",
   "metadata": {},
   "outputs": [
    {
     "ename": "TypeError",
     "evalue": "unsupported operand type(s) for /: 'list' and 'int'",
     "output_type": "error",
     "traceback": [
      "\u001b[1;31m---------------------------------------------------------------------------\u001b[0m",
      "\u001b[1;31mTypeError\u001b[0m                                 Traceback (most recent call last)",
      "Cell \u001b[1;32mIn[68], line 1\u001b[0m\n\u001b[1;32m----> 1\u001b[0m tlist \u001b[38;5;241m=\u001b[39m [\u001b[38;5;241m1\u001b[39m,\u001b[38;5;241m2\u001b[39m] \u001b[38;5;241m/\u001b[39m \u001b[38;5;241m5\u001b[39m\n\u001b[0;32m      2\u001b[0m tlist\n",
      "\u001b[1;31mTypeError\u001b[0m: unsupported operand type(s) for /: 'list' and 'int'"
     ]
    }
   ],
   "source": [
    "tlist = [1,2] / 5\n",
    "tlist"
   ]
  },
  {
   "cell_type": "code",
   "execution_count": 69,
   "id": "f953cc9c",
   "metadata": {},
   "outputs": [
    {
     "ename": "TypeError",
     "evalue": "unsupported operand type(s) for -: 'list' and 'int'",
     "output_type": "error",
     "traceback": [
      "\u001b[1;31m---------------------------------------------------------------------------\u001b[0m",
      "\u001b[1;31mTypeError\u001b[0m                                 Traceback (most recent call last)",
      "Cell \u001b[1;32mIn[69], line 1\u001b[0m\n\u001b[1;32m----> 1\u001b[0m tlist \u001b[38;5;241m=\u001b[39m [\u001b[38;5;241m1\u001b[39m,\u001b[38;5;241m2\u001b[39m] \u001b[38;5;241m-\u001b[39m \u001b[38;5;241m5\u001b[39m\n\u001b[0;32m      2\u001b[0m tlist\n",
      "\u001b[1;31mTypeError\u001b[0m: unsupported operand type(s) for -: 'list' and 'int'"
     ]
    }
   ],
   "source": [
    "tlist = [1,2] - 5\n",
    "tlist"
   ]
  },
  {
   "cell_type": "code",
   "execution_count": 72,
   "id": "5c8654a2",
   "metadata": {},
   "outputs": [
    {
     "data": {
      "text/plain": [
       "True"
      ]
     },
     "execution_count": 72,
     "metadata": {},
     "output_type": "execute_result"
    }
   ],
   "source": [
    "\"Muneeb\" in names_list"
   ]
  },
  {
   "cell_type": "code",
   "execution_count": 73,
   "id": "94e604b6",
   "metadata": {},
   "outputs": [
    {
     "data": {
      "text/plain": [
       "14"
      ]
     },
     "execution_count": 73,
     "metadata": {},
     "output_type": "execute_result"
    }
   ],
   "source": [
    "len(names_list)"
   ]
  },
  {
   "cell_type": "markdown",
   "id": "5628fdee",
   "metadata": {},
   "source": [
    "sum() , max(), min(), sort() , count()"
   ]
  },
  {
   "cell_type": "code",
   "execution_count": 80,
   "id": "a7f742e1",
   "metadata": {},
   "outputs": [
    {
     "data": {
      "text/plain": [
       "['H', 'e', 'l', 'l', 'o']"
      ]
     },
     "execution_count": 80,
     "metadata": {},
     "output_type": "execute_result"
    }
   ],
   "source": [
    "name"
   ]
  },
  {
   "cell_type": "code",
   "execution_count": 82,
   "id": "2154195b",
   "metadata": {},
   "outputs": [],
   "source": [
    "name.reverse()"
   ]
  },
  {
   "cell_type": "code",
   "execution_count": 83,
   "id": "155858d8",
   "metadata": {},
   "outputs": [
    {
     "data": {
      "text/plain": [
       "['o', 'l', 'l', 'e', 'H']"
      ]
     },
     "execution_count": 83,
     "metadata": {},
     "output_type": "execute_result"
    }
   ],
   "source": [
    "name"
   ]
  },
  {
   "cell_type": "markdown",
   "id": "97a8e8ea",
   "metadata": {},
   "source": [
    "# Task \n",
    "\n",
    "Find Min and Max Value from The List "
   ]
  },
  {
   "cell_type": "code",
   "execution_count": 86,
   "id": "d26b8005",
   "metadata": {},
   "outputs": [
    {
     "name": "stdout",
     "output_type": "stream",
     "text": [
      "Min Valye : 1 \n",
      "Max Value : 94\n"
     ]
    }
   ],
   "source": [
    "a = [1,6,4,8,25,38,94,62,57,87,12,34]\n",
    "\n",
    "print(f\"Min Valye : {min(a)} \\nMax Value : {max(a)}\")"
   ]
  },
  {
   "cell_type": "code",
   "execution_count": null,
   "id": "44ec76c7",
   "metadata": {},
   "outputs": [],
   "source": []
  }
 ],
 "metadata": {
  "kernelspec": {
   "display_name": "Python 3 (ipykernel)",
   "language": "python",
   "name": "python3"
  },
  "language_info": {
   "codemirror_mode": {
    "name": "ipython",
    "version": 3
   },
   "file_extension": ".py",
   "mimetype": "text/x-python",
   "name": "python",
   "nbconvert_exporter": "python",
   "pygments_lexer": "ipython3",
   "version": "3.11.4"
  }
 },
 "nbformat": 4,
 "nbformat_minor": 5
}
