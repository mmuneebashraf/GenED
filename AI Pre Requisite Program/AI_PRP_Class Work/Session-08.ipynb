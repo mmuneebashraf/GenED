{
 "cells": [
  {
   "cell_type": "code",
   "execution_count": null,
   "id": "47933cf7",
   "metadata": {},
   "outputs": [],
   "source": [
    "x=10\n",
    "y=8\n",
    "\n",
    "if x>y:\n",
    "    if x!=y:\n",
    "        print(\"they are not equal\")\n",
    "    print(\"x is Greater!\")"
   ]
  },
  {
   "cell_type": "code",
   "execution_count": null,
   "id": "8098eff3",
   "metadata": {},
   "outputs": [],
   "source": [
    "x=10\n",
    "y=8\n",
    "\n",
    "if x>y:\n",
    "    if x!=y:\n",
    "        print(\"they are not equal\")\n",
    "    print(\"x is Greater!\")"
   ]
  },
  {
   "cell_type": "code",
   "execution_count": null,
   "id": "7494cd19",
   "metadata": {},
   "outputs": [],
   "source": [
    "x=10\n",
    "y=8\n",
    "\n",
    "if x<y:\n",
    "    y+=2\n",
    "    if x!=y:\n",
    "        print(\"they are not equal\")\n",
    "    else:\n",
    "        print(\"X is Greater!\")\n",
    "        print(\"x is Greater!\")"
   ]
  },
  {
   "cell_type": "code",
   "execution_count": 2,
   "id": "dfa3de6e",
   "metadata": {},
   "outputs": [
    {
     "ename": "NameError",
     "evalue": "name 'x' is not defined",
     "output_type": "error",
     "traceback": [
      "\u001b[1;31m---------------------------------------------------------------------------\u001b[0m",
      "\u001b[1;31mNameError\u001b[0m                                 Traceback (most recent call last)",
      "Cell \u001b[1;32mIn[2], line 1\u001b[0m\n\u001b[1;32m----> 1\u001b[0m \u001b[38;5;28;01mif\u001b[39;00m x\u001b[38;5;241m!=\u001b[39my : \u001b[38;5;28mprint\u001b[39m(\u001b[38;5;124m\"\u001b[39m\u001b[38;5;124mThey are not equal\u001b[39m\u001b[38;5;124m\"\u001b[39m)\n",
      "\u001b[1;31mNameError\u001b[0m: name 'x' is not defined"
     ]
    }
   ],
   "source": [
    "if x!=y : print(\"They are not equal\") if x>y: print(x)\n",
    "    "
   ]
  },
  {
   "cell_type": "code",
   "execution_count": 5,
   "id": "1f148b10",
   "metadata": {},
   "outputs": [
    {
     "name": "stdout",
     "output_type": "stream",
     "text": [
      "Z is greater\n"
     ]
    }
   ],
   "source": [
    "x=15\n",
    "y=25\n",
    "z=89\n",
    "\n",
    "if x>y and x>z:\n",
    "    print(\"X is greater\")\n",
    "elif y > x and y>z:\n",
    "    print('Y is greater')\n",
    "elif z > x and z>y:\n",
    "    print('Z is greater')\n",
    "    \n",
    "    "
   ]
  },
  {
   "cell_type": "code",
   "execution_count": 3,
   "id": "74a3fc55",
   "metadata": {},
   "outputs": [
    {
     "name": "stdout",
     "output_type": "stream",
     "text": [
      "z is greater\n"
     ]
    }
   ],
   "source": [
    "x = 15\n",
    "y = 25\n",
    "z = 89\n",
    "if x > y:\n",
    "    if x > z:\n",
    "        print('x is greater')\n",
    "elif y > z:\n",
    "    print('y is greater')\n",
    "else: \n",
    "    print('z is greater')"
   ]
  },
  {
   "cell_type": "code",
   "execution_count": null,
   "id": "a4a47354",
   "metadata": {},
   "outputs": [],
   "source": []
  }
 ],
 "metadata": {
  "kernelspec": {
   "display_name": "Python 3 (ipykernel)",
   "language": "python",
   "name": "python3"
  },
  "language_info": {
   "codemirror_mode": {
    "name": "ipython",
    "version": 3
   },
   "file_extension": ".py",
   "mimetype": "text/x-python",
   "name": "python",
   "nbconvert_exporter": "python",
   "pygments_lexer": "ipython3",
   "version": "3.11.4"
  }
 },
 "nbformat": 4,
 "nbformat_minor": 5
}
