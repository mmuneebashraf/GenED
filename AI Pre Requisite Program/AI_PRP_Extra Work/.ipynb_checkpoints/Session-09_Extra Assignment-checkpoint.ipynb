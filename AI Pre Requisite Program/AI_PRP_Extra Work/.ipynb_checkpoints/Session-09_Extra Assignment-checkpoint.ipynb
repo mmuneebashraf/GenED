{
 "cells": [
  {
   "cell_type": "markdown",
   "id": "9cb3b380",
   "metadata": {},
   "source": [
    "<b>Question:</b></br>\n",
    "Write a program to print a right-angled triangle pattern using asterisks (*).</br>\n",
    "The number of rows in the triangle should be determined by the user (e.g., 5 rows).</br>\n",
    "For each row, the number of stars printed should equal the row number.</br>\n",
    "The output for 5 rows should look like this:\n",
    "\n",
    "*</br>\n",
    "**</br>\n",
    "***</br>\n",
    "****</br>\n",
    "*****</br>\n"
   ]
  },
  {
   "cell_type": "code",
   "execution_count": 15,
   "id": "6d95f73f",
   "metadata": {},
   "outputs": [
    {
     "name": "stdout",
     "output_type": "stream",
     "text": [
      "Enter Number Of Rows : 10\n",
      "*\n",
      "**\n",
      "***\n",
      "****\n",
      "*****\n",
      "******\n",
      "*******\n",
      "********\n",
      "*********\n",
      "**********\n"
     ]
    }
   ],
   "source": [
    "numberOfRows = int(input(\"Enter Number Of Rows : \"))\n",
    "j=1\n",
    "for j in range(1,numberOfRows+1):\n",
    "    # Print *'s'\n",
    "    print(\"*\"*j)"
   ]
  },
  {
   "cell_type": "code",
   "execution_count": 17,
   "id": "66c87f25",
   "metadata": {},
   "outputs": [
    {
     "name": "stdout",
     "output_type": "stream",
     "text": [
      "Enter Number Of Rows : 5\n",
      "1\n",
      "22\n",
      "333\n",
      "4444\n",
      "55555\n"
     ]
    }
   ],
   "source": [
    "numberOfRows = int(input(\"Enter Number Of Rows : \"))\n",
    "j=1\n",
    "for j in range(1,numberOfRows+1):\n",
    "    # Print numbers\n",
    "    print(f\"{j}\"*j)"
   ]
  },
  {
   "cell_type": "markdown",
   "id": "8a2a3ab2",
   "metadata": {},
   "source": [
    "<b>Question:</b></br>\n",
    "Write a program to print a symmetrical number pyramid.</br>\n",
    "The number of rows in the pyramid should be determined by the user (e.g., 4 rows).</br>\n",
    "Each row should contain a series of increasing numbers followed by decreasing numbers, centered by spaces to maintain the pyramid shape.</br>\n",
    "The output for 4 rows should look like this:</br>\n",
    "\n",
    "   1 </br>\n",
    "  121</br>\n",
    " 12321</br>\n",
    "1234321\n"
   ]
  },
  {
   "cell_type": "markdown",
   "id": "8de0c38e",
   "metadata": {},
   "source": []
  },
  {
   "cell_type": "code",
   "execution_count": 9,
   "id": "0026d56b",
   "metadata": {},
   "outputs": [
    {
     "name": "stdout",
     "output_type": "stream",
     "text": [
      "Enter Number Of Rows : 5\n",
      "    1\n",
      "   12\n",
      "  123\n",
      " 1234\n",
      "12345\n"
     ]
    }
   ],
   "source": [
    "numberOfRows = int(input(\"Enter Number Of Rows : \"))\n",
    "\n",
    "for i in range(1, numberOfRows + 1):\n",
    "    # Print leading spaces\n",
    "    for j in range(numberOfRows - i):\n",
    "        print(\" \",end=\"\")\n",
    "    # Print increasing numbers\n",
    "    for j in range(1,i+1):\n",
    "        print(j,end=\"\")\n",
    "    print()\n",
    "    "
   ]
  },
  {
   "cell_type": "code",
   "execution_count": 19,
   "id": "25bc4f14",
   "metadata": {},
   "outputs": [
    {
     "name": "stdout",
     "output_type": "stream",
     "text": [
      "Enter Number Of Rows : 5\n",
      "1\n",
      "12\n",
      "123\n",
      "1234\n",
      "12345\n"
     ]
    }
   ],
   "source": [
    "numberOfRows = int(input(\"Enter Number Of Rows : \"))\n",
    "\n",
    "for i in range(1, numberOfRows + 1):\n",
    "    # Print changing Row\n",
    "    for j in range(numberOfRows - i):\n",
    "        print(end=\"\")\n",
    "    # Print increasing numbers\n",
    "    for j in range(1,i+1):\n",
    "        print(j,end=\"\")\n",
    "    print()\n",
    "    "
   ]
  },
  {
   "cell_type": "code",
   "execution_count": 10,
   "id": "f13d0e4d",
   "metadata": {},
   "outputs": [
    {
     "name": "stdout",
     "output_type": "stream",
     "text": [
      "Enter Number Of Rows : 5\n",
      "    1\n",
      "   22\n",
      "  333\n",
      " 4444\n",
      "55555\n"
     ]
    }
   ],
   "source": [
    "numberOfRows = int(input(\"Enter Number Of Rows : \"))\n",
    "\n",
    "for i in range(1, numberOfRows + 1):\n",
    "    # Print leading spaces\n",
    "    for j in range(numberOfRows - i):\n",
    "        print(\" \",end=\"\")\n",
    "    # Print numbers\n",
    "    for j in range(1,i+1):\n",
    "        print(i,end=\"\")\n",
    "    print()\n",
    "    "
   ]
  },
  {
   "cell_type": "code",
   "execution_count": 18,
   "id": "31cb40d3",
   "metadata": {},
   "outputs": [
    {
     "name": "stdout",
     "output_type": "stream",
     "text": [
      "Enter Number Of Rows : 5\n",
      "1\n",
      "22\n",
      "333\n",
      "4444\n",
      "55555\n"
     ]
    }
   ],
   "source": [
    "numberOfRows = int(input(\"Enter Number Of Rows : \"))\n",
    "\n",
    "for i in range(1, numberOfRows + 1):\n",
    "    # Print Changing Row\n",
    "    for j in range(numberOfRows + i):\n",
    "        print(end=\"\")\n",
    "    # Print numbers\n",
    "    for j in range(1,i+1):\n",
    "        print(i,end=\"\")\n",
    "    print()"
   ]
  },
  {
   "cell_type": "code",
   "execution_count": 11,
   "id": "bef1f749",
   "metadata": {},
   "outputs": [
    {
     "name": "stdout",
     "output_type": "stream",
     "text": [
      "Enter Number Of Rows : 5\n",
      "    *\n",
      "   **\n",
      "  ***\n",
      " ****\n",
      "*****\n"
     ]
    }
   ],
   "source": [
    "numberOfRows = int(input(\"Enter Number Of Rows : \"))\n",
    "\n",
    "for i in range(1, numberOfRows + 1):\n",
    "    # Print leading spaces\n",
    "    for j in range(numberOfRows - i):\n",
    "        print(\" \",end=\"\")\n",
    "    # Print *'s'\n",
    "    for j in range(1,i+1):\n",
    "        print(\"*\",end=\"\")\n",
    "    print()\n",
    "    "
   ]
  },
  {
   "cell_type": "code",
   "execution_count": 2,
   "id": "781eac5c",
   "metadata": {},
   "outputs": [
    {
     "name": "stdout",
     "output_type": "stream",
     "text": [
      "Enter Number Of Rows : 5\n",
      "    1\n",
      "   12\n",
      "  123\n",
      " 1234\n",
      "12345\n"
     ]
    }
   ],
   "source": [
    "numberOfRows = int(input(\"Enter Number Of Rows : \"))\n",
    "\n",
    "for i in range(1, numberOfRows + 1):\n",
    "    # Print leading spaces\n",
    "    for j in range(numberOfRows - i):\n",
    "        print(\" \", end=\"\")\n",
    "    # Print increasing numbers\n",
    "    for j in range(1, i + 1):\n",
    "        print(j, end=\"\")\n",
    "    print()"
   ]
  },
  {
   "cell_type": "code",
   "execution_count": null,
   "id": "cfe1515e",
   "metadata": {},
   "outputs": [],
   "source": []
  }
 ],
 "metadata": {
  "kernelspec": {
   "display_name": "Python 3 (ipykernel)",
   "language": "python",
   "name": "python3"
  },
  "language_info": {
   "codemirror_mode": {
    "name": "ipython",
    "version": 3
   },
   "file_extension": ".py",
   "mimetype": "text/x-python",
   "name": "python",
   "nbconvert_exporter": "python",
   "pygments_lexer": "ipython3",
   "version": "3.11.4"
  }
 },
 "nbformat": 4,
 "nbformat_minor": 5
}
